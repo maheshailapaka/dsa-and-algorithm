{
  "nbformat": 4,
  "nbformat_minor": 0,
  "metadata": {
    "colab": {
      "provenance": [],
      "authorship_tag": "ABX9TyMGpRDNTQsNwZ/CofFeK8qN",
      "include_colab_link": true
    },
    "kernelspec": {
      "name": "python3",
      "display_name": "Python 3"
    },
    "language_info": {
      "name": "python"
    }
  },
  "cells": [
    {
      "cell_type": "markdown",
      "metadata": {
        "id": "view-in-github",
        "colab_type": "text"
      },
      "source": [
        "<a href=\"https://colab.research.google.com/github/jayanthbottu/TRAINING/blob/main/BUBBLE_SORTING_PROBLEMS.ipynb\" target=\"_parent\"><img src=\"https://colab.research.google.com/assets/colab-badge.svg\" alt=\"Open In Colab\"/></a>"
      ]
    },
    {
      "cell_type": "markdown",
      "source": [
        "**BUBBLE SORT**"
      ],
      "metadata": {
        "id": "brKkeiSOjqYZ"
      }
    },
    {
      "cell_type": "code",
      "execution_count": 19,
      "metadata": {
        "colab": {
          "base_uri": "https://localhost:8080/"
        },
        "id": "hSGE1_erXknS",
        "outputId": "7b408968-8091-49f5-9303-c8c875e5a506"
      },
      "outputs": [
        {
          "output_type": "stream",
          "name": "stdout",
          "text": [
            "[1, 2, 2, 3, 3, 4, 7, 8, 8, 9]\n"
          ]
        }
      ],
      "source": [
        "def bubble(lst):\n",
        "  for i in range(len(lst)):\n",
        "    f = False\n",
        "    for j in range(len(lst)-i-1):\n",
        "      if lst[j] > lst[j+1]:\n",
        "        lst[j], lst[j+1] = lst[j+1], lst[j]\n",
        "        f = True\n",
        "    if f == False:\n",
        "      break\n",
        "  return lst\n",
        "\n",
        "lst = [2,8,4,3,7,3,1,2,9,8]\n",
        "print(bubble(lst))"
      ]
    },
    {
      "cell_type": "markdown",
      "source": [
        "**TAKE K, DONT SORT 1ST K ELEMENTS AND LAST K ELEMENTS**"
      ],
      "metadata": {
        "id": "eR4qV1DodAc5"
      }
    },
    {
      "cell_type": "code",
      "source": [
        "def bubble(lst,k):\n",
        "  for i in range(k,len(lst)-k):\n",
        "    f = False\n",
        "    for j in range(k+1,len(lst)-i-k):\n",
        "      if lst[j] > lst[j+1]:\n",
        "        lst[j], lst[j+1] = lst[j+1], lst[j]\n",
        "        f = True\n",
        "    if f == False:\n",
        "      break\n",
        "  return lst\n",
        "\n",
        "lst = [8,5,2,8,4,3,7,3,1,2,9,0,8]\n",
        "k = 2\n",
        "print(bubble(lst,2))"
      ],
      "metadata": {
        "colab": {
          "base_uri": "https://localhost:8080/"
        },
        "id": "hJfj0t5_boan",
        "outputId": "3f921238-d4b9-4bc6-972a-b3afc4e73f71"
      },
      "execution_count": 22,
      "outputs": [
        {
          "output_type": "stream",
          "name": "stdout",
          "text": [
            "[8, 5, 2, 1, 2, 3, 3, 4, 7, 8, 9, 0, 8]\n"
          ]
        }
      ]
    },
    {
      "cell_type": "markdown",
      "source": [
        "**FIND N'TH LARGEST NUMBER FROM AN ARRAY**"
      ],
      "metadata": {
        "id": "EHgA7HUFmGCU"
      }
    },
    {
      "cell_type": "code",
      "source": [
        "def bubble(lst,k):\n",
        "  if len(lst)==0 or k<=0:\n",
        "    return \"Provide proper input\"\n",
        "  for i in range(len(lst)):\n",
        "    f = False\n",
        "    for j in range(len(lst)-i-1):\n",
        "      if lst[j] > lst[j+1]:\n",
        "        lst[j], lst[j+1] = lst[j+1], lst[j]\n",
        "        f = True\n",
        "    if i==k-1:\n",
        "      return lst[-k]\n",
        "    if f == False:\n",
        "      break\n",
        "  return lst\n",
        "lst = [2,5,8,6,3,1,9,4,7]\n",
        "k = 3\n",
        "print(bubble(lst,k))"
      ],
      "metadata": {
        "colab": {
          "base_uri": "https://localhost:8080/"
        },
        "id": "JV9eiyvwj3uq",
        "outputId": "228299ce-3315-4bed-8106-dab424b12131"
      },
      "execution_count": 58,
      "outputs": [
        {
          "output_type": "stream",
          "name": "stdout",
          "text": [
            "7\n"
          ]
        }
      ]
    },
    {
      "cell_type": "markdown",
      "source": [
        "**SORTING LETTERS**"
      ],
      "metadata": {
        "id": "sXUQYJcNtr-e"
      }
    },
    {
      "cell_type": "code",
      "source": [
        "def bubble(lst):\n",
        "  for i in range(len(lst)):\n",
        "    f = False\n",
        "    for j in range(len(lst)-i-1):\n",
        "      if lst[j] > lst[j+1]:\n",
        "        lst[j], lst[j+1] = lst[j+1], lst[j]\n",
        "        f = True\n",
        "    if f == False:\n",
        "      break\n",
        "  return lst\n",
        "lst = ['c','e','f','b','a']\n",
        "print(*bubble(lst))"
      ],
      "metadata": {
        "colab": {
          "base_uri": "https://localhost:8080/"
        },
        "id": "xzCcDPhpsLsg",
        "outputId": "1a56f939-2d5d-4ad0-a5b0-dfbb40e2a49a"
      },
      "execution_count": 62,
      "outputs": [
        {
          "output_type": "stream",
          "name": "stdout",
          "text": [
            "a b c e f\n"
          ]
        }
      ]
    },
    {
      "cell_type": "markdown",
      "source": [
        "**SORT 2D LIST BASED ON ITS 2ND VALUE**"
      ],
      "metadata": {
        "id": "LZ2eNjvstlF_"
      }
    },
    {
      "cell_type": "code",
      "source": [
        "def bubble(lst):\n",
        "  for i in range(len(lst)):\n",
        "    f = False\n",
        "    for j in range(len(lst)-i-1):\n",
        "      if lst[j][1] > lst[j+1][1]:\n",
        "        lst[j], lst[j+1] = lst[j+1], lst[j]\n",
        "        f = True\n",
        "    if f == False:\n",
        "      break\n",
        "  return lst\n",
        "\n",
        "lst = [[2,3],[5,1],[1,4],[2,7],[1,3]]\n",
        "print(bubble(lst))"
      ],
      "metadata": {
        "colab": {
          "base_uri": "https://localhost:8080/"
        },
        "id": "0SmAdm63stYs",
        "outputId": "712b33bf-888f-4049-d059-c01958310391"
      },
      "execution_count": 61,
      "outputs": [
        {
          "output_type": "stream",
          "name": "stdout",
          "text": [
            "[[5, 1], [2, 3], [1, 3], [1, 4], [2, 7]]\n"
          ]
        }
      ]
    },
    {
      "cell_type": "code",
      "source": [
        "def bubble(lst):\n",
        "  for i in range(len(lst)):\n",
        "    f = False\n",
        "    for j in range(len(lst)-i-1):\n",
        "      if lst[j][-1] > lst[j+1][-1]:\n",
        "        lst[j], lst[j+1] = lst[j+1], lst[j]\n",
        "        f = True\n",
        "    if f == False:\n",
        "      break\n",
        "  return lst\n",
        "\n",
        "lst = [[2,3,1],[5,1,3],[1,4],[2,7,0],[1,3]]\n",
        "print(bubble(lst))"
      ],
      "metadata": {
        "colab": {
          "base_uri": "https://localhost:8080/"
        },
        "id": "3JNP-0dGue9g",
        "outputId": "58fa4269-c9c6-42db-b0f1-e0fb360488ef"
      },
      "execution_count": 67,
      "outputs": [
        {
          "output_type": "stream",
          "name": "stdout",
          "text": [
            "[[2, 7, 0], [2, 3, 1], [5, 1, 3], [1, 3], [1, 4]]\n"
          ]
        }
      ]
    },
    {
      "cell_type": "code",
      "source": [
        "def bubble(lst):\n",
        "  for i in range(len(lst)):\n",
        "    f = False\n",
        "    for j in range(len(lst)-i-1):\n",
        "      if sum(lst[j]) > sum(lst[j+1]):\n",
        "        lst[j], lst[j+1] = lst[j+1], lst[j]\n",
        "        f = True\n",
        "    if f == False:\n",
        "      break\n",
        "  return lst\n",
        "\n",
        "lst = [[2,3,1],[5,1,3],[1,4],[2,7,0],[1,3]]\n",
        "print(bubble(lst))"
      ],
      "metadata": {
        "colab": {
          "base_uri": "https://localhost:8080/"
        },
        "id": "9Ynf5CEZw9Uf",
        "outputId": "7f39ac1d-a1d1-437f-d962-0a9442518079"
      },
      "execution_count": 68,
      "outputs": [
        {
          "output_type": "stream",
          "name": "stdout",
          "text": [
            "[[1, 3], [1, 4], [2, 3, 1], [5, 1, 3], [2, 7, 0]]\n"
          ]
        }
      ]
    },
    {
      "cell_type": "markdown",
      "source": [
        "**LEXOCHRONOLOGIAL ORDER BASED ON 1ST TWO CHARACTERS ONLY**"
      ],
      "metadata": {
        "id": "FFFgSJuG0ayV"
      }
    },
    {
      "cell_type": "code",
      "source": [
        "def bubble(lst):\n",
        "  for i in range(len(lst)):\n",
        "    f = False\n",
        "    for j in range(len(lst)-i-1):\n",
        "      if lst[j][0:1] > lst[j+1][0:1]:\n",
        "        lst[j], lst[j+1] = lst[j+1], lst[j]\n",
        "        f = True\n",
        "    if f == False:\n",
        "      break\n",
        "  return lst\n",
        "lst = ['zebra','hello','cat','car','apple','apaar']\n",
        "print(*bubble(lst))"
      ],
      "metadata": {
        "colab": {
          "base_uri": "https://localhost:8080/"
        },
        "id": "NGko3q-Ax7gI",
        "outputId": "eb07dffe-14be-4030-f6a5-ef97bfa19f7e"
      },
      "execution_count": 84,
      "outputs": [
        {
          "output_type": "stream",
          "name": "stdout",
          "text": [
            "apple apaar cat car hello zebra\n"
          ]
        }
      ]
    },
    {
      "cell_type": "code",
      "source": [
        "nums = [-1,3,2]\n",
        "k = 3\n",
        "n = list(set(nums))\n",
        "if len(n)<k:\n",
        "  print(n[0])\n",
        "else:\n",
        "  print(n[-3])"
      ],
      "metadata": {
        "colab": {
          "base_uri": "https://localhost:8080/"
        },
        "id": "ymwPuwBr6y6s",
        "outputId": "2c4b2350-7fc0-40c1-a045-4f066b213047"
      },
      "execution_count": 95,
      "outputs": [
        {
          "output_type": "stream",
          "name": "stdout",
          "text": [
            "[-1, 2, 3]\n"
          ]
        }
      ]
    },
    {
      "cell_type": "markdown",
      "source": [
        "**SORT THE LIST BASED ON ITS AVAILABLE PRIME NUMBERS**"
      ],
      "metadata": {
        "id": "RcCbu1dcV1-A"
      }
    },
    {
      "cell_type": "code",
      "source": [
        "ind = []\n",
        "def prime(x):\n",
        "  for i in x:\n",
        "    for j in range(2,int(i**0.5+1)):\n",
        "      if(i%j==0):\n",
        "        break\n",
        "    else:\n",
        "      ind.append(i)\n",
        "  return ind\n",
        "lst = [[4,13,12],[8,10,5],[7,9,20],[14,8,3]]\n",
        "for i in lst:\n",
        "  prime(i)\n",
        "for i in range(len(ind)-1):\n",
        "  f=0\n",
        "  for j in range(i,len(ind)-i-1):\n",
        "    if ind[j]>ind[j+1]:\n",
        "      ind[j],ind[j+1] = ind[j+1],ind[j]\n",
        "      lst[j],lst[j+1] = lst[j+1],lst[j]\n",
        "      f = 1\n",
        "  if f == 0:\n",
        "    break\n",
        "print(a)"
      ],
      "metadata": {
        "colab": {
          "base_uri": "https://localhost:8080/"
        },
        "id": "csUViCfE7uq1",
        "outputId": "0720c15a-7845-4c28-8e77-957762653d4b"
      },
      "execution_count": 149,
      "outputs": [
        {
          "output_type": "stream",
          "name": "stdout",
          "text": [
            "[[14, 8, 3], [8, 10, 5], [7, 9, 20], [4, 13, 12]]\n"
          ]
        }
      ]
    },
    {
      "cell_type": "markdown",
      "source": [
        "**SORT BY STRING LENGTH**"
      ],
      "metadata": {
        "id": "cNjKaMuXXUz3"
      }
    },
    {
      "cell_type": "code",
      "source": [
        "def bubble(lst,lns):\n",
        "  for i in range(len(lst)):\n",
        "    f = False\n",
        "    for j in range(len(lst)-i-1):\n",
        "      if lns[j] > lns[j+1]:\n",
        "        lns[j], lns[j+1] = lns[j+1], lns[j]\n",
        "        lst[j], lst[j+1] = lst[j+1], lst[j]\n",
        "        f = True\n",
        "    if f == False:\n",
        "      break\n",
        "  return lst\n",
        "line = 'An apple a day keeps keeps doctor away'\n",
        "lns = []\n",
        "lst = line.lower().split()\n",
        "lst = list(set(lst))\n",
        "for i in lst:\n",
        "  lns.append(len(i))\n",
        "print(\"Lengths of Given words \",lns)\n",
        "print(\"From input \",lst)\n",
        "print(*bubble(lst,lns))\n",
        "print(lns)"
      ],
      "metadata": {
        "colab": {
          "base_uri": "https://localhost:8080/"
        },
        "id": "ibNmoqh3WtDw",
        "outputId": "38f0756a-e4c9-4050-9bef-d6383d2e8cdc"
      },
      "execution_count": 232,
      "outputs": [
        {
          "output_type": "stream",
          "name": "stdout",
          "text": [
            "Lengths of Given words  [1, 6, 3, 2, 5, 5, 4]\n",
            "From input  ['a', 'doctor', 'day', 'an', 'apple', 'keeps', 'away']\n",
            "a an day away apple keeps doctor\n",
            "[1, 2, 3, 4, 5, 5, 6]\n"
          ]
        }
      ]
    },
    {
      "cell_type": "code",
      "source": [
        "d = {}\n",
        "def count(lst):\n",
        "  for i in lst:\n",
        "    if i in d:\n",
        "      d[i] += 1\n",
        "    else:\n",
        "      d[i] = 1\n",
        "  return d\n",
        "lst = [7,2,6,3,6,7,7,2,2,2]\n",
        "count(lst)\n",
        "strs = []\n",
        "tup = tuple(d.items())\n",
        "for k,val in d.items():\n",
        "  strs.append(str(k)*val)\n",
        "for i in range(len(strs)):\n",
        "  f=0\n",
        "  for j in range(len(strs)-i-1):\n",
        "    if len(strs[j]) > len(strs[j+1]):\n",
        "      strs[j],strs[j+1] = strs[j+1],strs[j]\n",
        "      f=1\n",
        "  if f==0:\n",
        "    break\n",
        "print(d)\n",
        "for x in strs:\n",
        "  print(x,end=\"\")"
      ],
      "metadata": {
        "colab": {
          "base_uri": "https://localhost:8080/"
        },
        "id": "5nO7d3d5e6zd",
        "outputId": "3afddc32-850b-40f8-bf4b-52fb6333be6d"
      },
      "execution_count": 312,
      "outputs": [
        {
          "output_type": "stream",
          "name": "stdout",
          "text": [
            "{7: 3, 2: 4, 6: 2, 3: 1}\n",
            "3667772222"
          ]
        }
      ]
    },
    {
      "cell_type": "code",
      "source": [
        "d = {}\n",
        "def count(lst):\n",
        "  for i in lst:\n",
        "    if i in d:\n",
        "      d[i] += 1\n",
        "    else:\n",
        "      d[i] = 1\n",
        "lst = [7,2,6,3,6,7,7,2,2,2]\n",
        "count(lst)\n",
        "print(d)\n",
        "a = [[] for i in range(len(d)+1)]\n",
        "for k,v in d.items():\n",
        "  a[v].append(k)\n",
        "print(a)\n",
        "for i in range(len(a)):\n",
        "  for j in a[i]:\n",
        "    print(str(j)*i,end=\"\")"
      ],
      "metadata": {
        "colab": {
          "base_uri": "https://localhost:8080/"
        },
        "id": "wDfYVvpdl9mX",
        "outputId": "8d4ce5f9-7098-4625-fc91-4f01dcb5f1ba"
      },
      "execution_count": 353,
      "outputs": [
        {
          "output_type": "stream",
          "name": "stdout",
          "text": [
            "{7: 3, 2: 4, 6: 2, 3: 1}\n",
            "[[], [3], [6], [7], [2]]\n",
            "3667772222"
          ]
        }
      ]
    },
    {
      "cell_type": "code",
      "source": [
        "a=[3,5,4,4,5,6,7,7,8,8,7,6,4,1,1,2,8,8]\n",
        "d={}\n",
        "for i in a:\n",
        "    if(i not in d):\n",
        "        d[i]=1\n",
        "    else:\n",
        "        d[i]+=1\n",
        "print(d)\n",
        "n=max(d.values())\n",
        "b=[]\n",
        "for i in range(n+1):\n",
        "    b.append([])\n",
        "print(b)\n",
        "for i in d.items():\n",
        "    b[i[1]].append(i[0])\n",
        "print(b)\n",
        "c=[]\n",
        "for i in range(len(b)):\n",
        "    for j in b[i]:\n",
        "        c.extend([j]*i)\n",
        "print(c)"
      ],
      "metadata": {
        "colab": {
          "base_uri": "https://localhost:8080/"
        },
        "id": "pBTK1gl1tnpf",
        "outputId": "1ee1e711-9d5e-49d3-cb39-04c93352dbfe"
      },
      "execution_count": 354,
      "outputs": [
        {
          "output_type": "stream",
          "name": "stdout",
          "text": [
            "{3: 1, 5: 2, 4: 3, 6: 2, 7: 3, 8: 4, 1: 2, 2: 1}\n",
            "[[], [], [], [], []]\n",
            "[[], [3, 2], [5, 6, 1], [4, 7], [8]]\n",
            "[3, 2, 5, 5, 6, 6, 1, 1, 4, 4, 4, 7, 7, 7, 8, 8, 8, 8]\n"
          ]
        }
      ]
    },
    {
      "cell_type": "code",
      "source": [
        "def qwe(x):\n",
        "  return x[-1]\n",
        "a= [[2,3,1],[5,1,3],[1,4],[2,7,0],[1,3]]\n",
        "a.sort(key=qwe)\n",
        "print(a)"
      ],
      "metadata": {
        "colab": {
          "base_uri": "https://localhost:8080/"
        },
        "id": "8oiY3hqjxzBt",
        "outputId": "dcb5a205-b2f0-4036-b6b6-39d8372643e1"
      },
      "execution_count": 355,
      "outputs": [
        {
          "output_type": "stream",
          "name": "stdout",
          "text": [
            "[[2, 7, 0], [2, 3, 1], [5, 1, 3], [1, 3], [1, 4]]\n"
          ]
        }
      ]
    }
  ]
}