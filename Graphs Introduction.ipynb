{
 "cells": [
  {
   "cell_type": "code",
   "execution_count": 1,
   "id": "182392ca-bf01-4a5b-9937-4db78b566eff",
   "metadata": {},
   "outputs": [
    {
     "name": "stdout",
     "output_type": "stream",
     "text": [
      "Maximum Sum: 24\n",
      "Subarray: [4, 5, 7, 8]\n",
      "Length: 4\n"
     ]
    }
   ],
   "source": [
    "def max_ascending_subarray_sum(arr):\n",
    "    max_sum = 0\n",
    "    curr_sum = 0\n",
    "    prev = -1\n",
    "    curr_sub = []\n",
    "    max_sub = []\n",
    "\n",
    "    for num in arr:\n",
    "        if num >= 0 and num > prev:\n",
    "            curr_sum += num\n",
    "            curr_sub.append(num)\n",
    "        else:\n",
    "            curr_sum = num if num >= 0 else 0\n",
    "            curr_sub = [num] if num >= 0 else []\n",
    "        \n",
    "        if curr_sum > max_sum:\n",
    "            max_sum = curr_sum\n",
    "            max_sub = curr_sub[:]\n",
    "\n",
    "        prev = num\n",
    "\n",
    "    print(f\"Maximum Sum: {max_sum}\")\n",
    "    print(f\"Subarray: {max_sub}\")\n",
    "    print(f\"Length: {len(max_sub)}\")\n",
    "\n",
    "# Test it\n",
    "arr = [8,7,4,5,7,8,1]\n",
    "max_ascending_subarray_sum(arr)\n"
   ]
  },
  {
   "cell_type": "code",
   "execution_count": 2,
   "id": "cef7a980-ef82-4caf-9ac4-7f15c271d147",
   "metadata": {},
   "outputs": [
    {
     "name": "stdout",
     "output_type": "stream",
     "text": [
      "9\n"
     ]
    }
   ],
   "source": [
    "n = 3\n",
    "print(2**n + n%2)"
   ]
  },
  {
   "cell_type": "code",
   "execution_count": 3,
   "id": "b36c90a6-258d-4123-9cab-9c7d20f7280d",
   "metadata": {},
   "outputs": [
    {
     "name": "stdout",
     "output_type": "stream",
     "text": [
      "defaultdict(<class 'list'>, {5: [2, 7, 8], 2: [5, 7, 8, 3], 7: [5, 2, 8], 8: [5, 2, 7, 3], 3: [8, 2]})\n"
     ]
    }
   ],
   "source": [
    "from collections import defaultdict\n",
    "d = defaultdict(list)\n",
    "graphs = [(5,2),(5,7),(5,8),(2,7),(2,8),(8,7),(8,3),(2,3)]\n",
    "for i,j in graphs:\n",
    "    d[i].append(j)\n",
    "    d[j].append(i)\n",
    "print(d)"
   ]
  },
  {
   "cell_type": "markdown",
   "id": "c9bf2aea-2c17-4b9a-94a5-f1ac7570a7e5",
   "metadata": {},
   "source": [
    "FINDING PATHS FROM START TO END # ALL PATHS"
   ]
  },
  {
   "cell_type": "code",
   "execution_count": 4,
   "id": "7654f047-875c-4df3-b6cf-f408d9785358",
   "metadata": {},
   "outputs": [
    {
     "name": "stdout",
     "output_type": "stream",
     "text": [
      "[5, 2, 7, 8, 3]\n",
      "[5, 2, 8, 3]\n",
      "[5, 2, 3]\n",
      "[5, 7, 2, 8, 3]\n",
      "[5, 7, 2, 3]\n",
      "[5, 7, 8, 2, 3]\n",
      "[5, 7, 8, 3]\n",
      "[5, 8, 2, 3]\n",
      "[5, 8, 7, 2, 3]\n",
      "[5, 8, 3]\n"
     ]
    }
   ],
   "source": [
    "def printpaths(u,v,path):\n",
    "    path.append(u)\n",
    "    if u==v:\n",
    "        print(path)\n",
    "        path.pop()\n",
    "        return\n",
    "    for i in d[u]:\n",
    "        if i not in path:\n",
    "            printpaths(i,v,path)\n",
    "    path.pop()\n",
    "    return\n",
    "printpaths(5,3,[])"
   ]
  },
  {
   "cell_type": "markdown",
   "id": "74b365ae-3f34-4f09-b4de-5a02638308f2",
   "metadata": {},
   "source": [
    "COUNT OF PATHS "
   ]
  },
  {
   "cell_type": "code",
   "execution_count": 5,
   "id": "a1298e99-8fb7-43ba-9796-5aeb1fc7e0a9",
   "metadata": {},
   "outputs": [
    {
     "data": {
      "text/plain": [
       "10"
      ]
     },
     "execution_count": 5,
     "metadata": {},
     "output_type": "execute_result"
    }
   ],
   "source": [
    "\n",
    "def printpaths(u,v,path,c=0):\n",
    "    path.append(u)\n",
    "    if u==v:\n",
    "        c = c+1\n",
    "        path.pop()\n",
    "        return c\n",
    "    for i in d[u]:\n",
    "        if i not in path:\n",
    "            c = printpaths(i,v,path,c)\n",
    "    path.pop()\n",
    "    return c\n",
    "printpaths(5,3,[])"
   ]
  },
  {
   "cell_type": "code",
   "execution_count": 6,
   "id": "325aa63e-01a2-4e83-a28f-88c130cb059c",
   "metadata": {},
   "outputs": [
    {
     "data": {
      "text/plain": [
       "10"
      ]
     },
     "execution_count": 6,
     "metadata": {},
     "output_type": "execute_result"
    }
   ],
   "source": [
    "def printpaths(u,v,path=set(),c=0):\n",
    "    path.add(u)\n",
    "    if u==v:\n",
    "        c = c+1\n",
    "    for i in d[u]:\n",
    "        if i not in path:\n",
    "            c = printpaths(i,v,path,c)\n",
    "    path.remove(u)\n",
    "    return c\n",
    "printpaths(5,3)"
   ]
  },
  {
   "cell_type": "markdown",
   "id": "c2101aeb-dc18-4757-82a2-f930e49c6ed4",
   "metadata": {},
   "source": [
    "NUMBER OF NODES FOR DESTINATION"
   ]
  },
  {
   "cell_type": "code",
   "execution_count": 7,
   "id": "461ea50c-d30d-4f1e-b43b-bda6ee7a95b2",
   "metadata": {},
   "outputs": [
    {
     "name": "stdout",
     "output_type": "stream",
     "text": [
      "{2, 3, 5, 7, 8} 5\n",
      "{2, 3, 5, 8} 4\n",
      "{2, 3, 5} 3\n",
      "{2, 3, 5, 7, 8} 5\n",
      "{2, 3, 5, 7} 4\n",
      "{3, 2, 5, 7, 8} 5\n",
      "{3, 5, 7, 8} 4\n",
      "{3, 2, 5, 8} 4\n",
      "{3, 2, 5, 7, 8} 5\n",
      "{3, 5, 8} 3\n"
     ]
    },
    {
     "data": {
      "text/plain": [
       "0"
      ]
     },
     "execution_count": 7,
     "metadata": {},
     "output_type": "execute_result"
    }
   ],
   "source": [
    "def printpaths(u,v,path=set(),c=0):\n",
    "    path.add(u)\n",
    "    if u==v:\n",
    "        print(path,c+1)\n",
    "    for i in d[u]:\n",
    "        if i not in path:\n",
    "            c+=1\n",
    "            c = printpaths(i,v,path,c)\n",
    "            c-=1\n",
    "    path.remove(u)\n",
    "    return c\n",
    "printpaths(5,3)"
   ]
  },
  {
   "cell_type": "markdown",
   "id": "dd44deff-ca3b-4a22-982f-334f77a82354",
   "metadata": {},
   "source": [
    "BREADTH FIRST SEARCH || SEARCH ALL NODES IN GRAPH"
   ]
  },
  {
   "cell_type": "code",
   "execution_count": 18,
   "id": "d6a7d172-065e-4cff-8af3-aeff63be1b8e",
   "metadata": {},
   "outputs": [
    {
     "name": "stdout",
     "output_type": "stream",
     "text": [
      "[5, 2, 7, 8, 3]\n"
     ]
    }
   ],
   "source": [
    "def bfsnodes(n):\n",
    "    vis = [n]\n",
    "    visited = []\n",
    "    while vis:\n",
    "        p = vis.pop(0)\n",
    "        visited.append(p)\n",
    "        for i in d[p]:\n",
    "            if i not in visited and i not in vis:\n",
    "                vis.append(i)\n",
    "    print(visited)\n",
    "\n",
    "bfsnodes(5)"
   ]
  },
  {
   "cell_type": "markdown",
   "id": "24c4d618-a8be-4ea7-9a5f-e1b3e770858a",
   "metadata": {},
   "source": [
    "PATH EXISTS ?"
   ]
  },
  {
   "cell_type": "code",
   "execution_count": 36,
   "id": "2668e7c5-f120-425e-8d0a-69b02a79a0a9",
   "metadata": {},
   "outputs": [
    {
     "data": {
      "text/plain": [
       "False"
      ]
     },
     "execution_count": 36,
     "metadata": {},
     "output_type": "execute_result"
    }
   ],
   "source": [
    "def bfsnodes(n,des):\n",
    "    vis = [n]\n",
    "    visited = []\n",
    "    while vis:\n",
    "        p = vis.pop(0)\n",
    "        visited.append(p)\n",
    "        for i in d[p]:\n",
    "            if i not in visited and i not in vis:\n",
    "                vis.append(i)\n",
    "            if i==des:\n",
    "                return True\n",
    "    return False\n",
    "\n",
    "bfsnodes(5,4)"
   ]
  },
  {
   "cell_type": "markdown",
   "id": "8d2be9bc-db12-4368-ae7d-5c7ea4df0a78",
   "metadata": {},
   "source": [
    "WEIGHTED INPUTS"
   ]
  },
  {
   "cell_type": "code",
   "execution_count": 39,
   "id": "20ab2775-3b4b-44c6-95b3-d0fa0517d273",
   "metadata": {},
   "outputs": [
    {
     "name": "stdout",
     "output_type": "stream",
     "text": [
      "defaultdict(<class 'list'>, {5: [[2, 3], [7, 2], [8, 1]], 2: [[5, 3], [7, 2], [8, 4], [3, 2]], 7: [[5, 2], [2, 2], [8, 1]], 8: [[5, 1], [2, 4], [7, 1], [3, 3]], 3: [[8, 3], [2, 2]]})\n"
     ]
    }
   ],
   "source": [
    "from collections import defaultdict\n",
    "d = defaultdict(list)\n",
    "a = [(5,2,3),(5,7,2),(5,8,1),(2,7,2),(2,8,4),(8,7,1),(8,3,3),(2,3,2)]\n",
    "for i,j,w in a:\n",
    "    d[i].append([j,w])\n",
    "    d[j].append([i,w])\n",
    "print(d)"
   ]
  },
  {
   "cell_type": "code",
   "execution_count": 46,
   "id": "cea65937-2127-4186-b14a-4bb6f95c810e",
   "metadata": {},
   "outputs": [
    {
     "name": "stdout",
     "output_type": "stream",
     "text": [
      "[5, 2, 7, 8, 3]  ->  9\n",
      "[5, 2, 8, 3]  ->  10\n",
      "[5, 2, 3]  ->  5\n",
      "[5, 7, 2, 8, 3]  ->  11\n",
      "[5, 7, 2, 3]  ->  6\n",
      "[5, 7, 8, 2, 3]  ->  9\n",
      "[5, 7, 8, 3]  ->  6\n",
      "[5, 8, 2, 3]  ->  7\n",
      "[5, 8, 7, 2, 3]  ->  6\n",
      "[5, 8, 3]  ->  4\n"
     ]
    }
   ],
   "source": [
    "def printcosts(u,v,path=[],cost= 0):\n",
    "    path.append(u)\n",
    "    if u==v:\n",
    "        print(path,\" -> \",cost)\n",
    "    for i,w in d[u]:\n",
    "        if i not in path:\n",
    "            cost+=w\n",
    "            printcosts(i,v,path,cost)\n",
    "            cost-=w\n",
    "    path.pop()\n",
    "    return\n",
    "printcosts(5,3)\n",
    "    "
   ]
  }
 ],
 "metadata": {
  "kernelspec": {
   "display_name": "Python 3 (ipykernel)",
   "language": "python",
   "name": "python3"
  },
  "language_info": {
   "codemirror_mode": {
    "name": "ipython",
    "version": 3
   },
   "file_extension": ".py",
   "mimetype": "text/x-python",
   "name": "python",
   "nbconvert_exporter": "python",
   "pygments_lexer": "ipython3",
   "version": "3.8.10"
  }
 },
 "nbformat": 4,
 "nbformat_minor": 5
}
