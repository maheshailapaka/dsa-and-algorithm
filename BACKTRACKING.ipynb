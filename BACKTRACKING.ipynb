{
  "nbformat": 4,
  "nbformat_minor": 0,
  "metadata": {
    "colab": {
      "provenance": [],
      "authorship_tag": "ABX9TyPKrST0Z+7PxNvEgcTKd3Wl",
      "include_colab_link": true
    },
    "kernelspec": {
      "name": "python3",
      "display_name": "Python 3"
    },
    "language_info": {
      "name": "python"
    }
  },
  "cells": [
    {
      "cell_type": "markdown",
      "metadata": {
        "id": "view-in-github",
        "colab_type": "text"
      },
      "source": [
        "<a href=\"https://colab.research.google.com/github/jayanthbottu/TRAINING/blob/main/BACKTRACKING.ipynb\" target=\"_parent\"><img src=\"https://colab.research.google.com/assets/colab-badge.svg\" alt=\"Open In Colab\"/></a>"
      ]
    },
    {
      "cell_type": "markdown",
      "source": [
        "O(n)"
      ],
      "metadata": {
        "id": "Gxmd2iP4a_WQ"
      }
    },
    {
      "cell_type": "code",
      "execution_count": null,
      "metadata": {
        "colab": {
          "base_uri": "https://localhost:8080/"
        },
        "id": "6utFzl_nOy8O",
        "outputId": "2d987b89-5660-4df3-836b-90517858b3b7"
      },
      "outputs": [
        {
          "output_type": "stream",
          "name": "stdout",
          "text": [
            "13 14 2 5 8 1 4\n",
            "6\n"
          ]
        }
      ],
      "source": [
        "# 2 4 1 8 5 8 4 7\n",
        "# Buy One day and Sell one day for Maax Profit\n",
        "def buy(prices):\n",
        "  min = prices[0]\n",
        "  max = 0\n",
        "  for i in range(len(prices)):\n",
        "    if min>prices[i]:\n",
        "      min = prices[i]\n",
        "    if max< prices[i]-min:\n",
        "      max = prices[i]-min\n",
        "  return max\n",
        "prices = list(map(int,input().split()))\n",
        "print(buy(prices))"
      ]
    },
    {
      "cell_type": "markdown",
      "source": [
        "O(n2)"
      ],
      "metadata": {
        "id": "LSAVLTf0bDU1"
      }
    },
    {
      "cell_type": "code",
      "source": [
        "prices = list(map(int,input().split()))\n",
        "max = 0\n",
        "for i in range(len(prices)-1):\n",
        "  for j in range(i+1,len(prices)):\n",
        "    if prices[j]-prices[i]>max:\n",
        "      max = prices[j]-prices[i]\n",
        "print(max)"
      ],
      "metadata": {
        "colab": {
          "base_uri": "https://localhost:8080/"
        },
        "id": "eyQqfv-uS00s",
        "outputId": "534ab873-ace8-4901-8f45-3b7d486a90d9"
      },
      "execution_count": null,
      "outputs": [
        {
          "output_type": "stream",
          "name": "stdout",
          "text": [
            "13 14 2 5 8 1 4\n",
            "6\n"
          ]
        }
      ]
    },
    {
      "cell_type": "markdown",
      "source": [
        "1 0 0 0 0 0 1\n",
        "\n",
        "1 0 0 0 0 1 1\n",
        "\n",
        "0 0 0 0 0 0 0  \n",
        "\n",
        "0 0 0 0 0 0 0\n",
        "\n",
        "1 0 0 0 0 1 1\n",
        "\n",
        "***1s are land 0s are water find number of islands***"
      ],
      "metadata": {
        "id": "2lxz250zenjE"
      }
    },
    {
      "cell_type": "code",
      "source": [
        "array = [list(map(int,row.split())) for row in input().split(';')]\n",
        "print(array)"
      ],
      "metadata": {
        "colab": {
          "base_uri": "https://localhost:8080/"
        },
        "id": "kBjxwB5Ve7Q3",
        "outputId": "dcd6e2c8-361a-484d-b010-bb1e5aaa4db1"
      },
      "execution_count": null,
      "outputs": [
        {
          "output_type": "stream",
          "name": "stdout",
          "text": [
            "1 2 3\n",
            "[[1, 2, 3]]\n"
          ]
        }
      ]
    },
    {
      "cell_type": "code",
      "source": [
        "rows = int(input(\"Enter number of rows : \"))\n",
        "cols = int(input(\"Enter number of columns : \"))\n",
        "array=[]\n",
        "for i in range(rows):\n",
        "  array.append(list(map(int,input().split())))\n",
        "print(array)"
      ],
      "metadata": {
        "colab": {
          "base_uri": "https://localhost:8080/"
        },
        "id": "MHjldqgbgZF_",
        "outputId": "2d195c6e-7398-4dc8-a613-08dca374b8ec"
      },
      "execution_count": null,
      "outputs": [
        {
          "output_type": "stream",
          "name": "stdout",
          "text": [
            "Enter number of rows : 2\n",
            "Enter number of columns : 2\n",
            "1 2\n",
            "3 4\n",
            "[[1, 2], [3, 4]]\n"
          ]
        }
      ]
    },
    {
      "cell_type": "code",
      "source": [
        "rows = int(input(\"Enter number of rows : \"))\n",
        "cols = int(input(\"Enter number of columns : \"))\n",
        "input = list(map(int,input().split()))\n",
        "array = [input[i:i+cols] for i in range(0,len(input),cols)]\n",
        "print(array)"
      ],
      "metadata": {
        "colab": {
          "base_uri": "https://localhost:8080/"
        },
        "id": "Sjv5iEHPiIp4",
        "outputId": "5d3a79cf-1a53-447e-f05e-d024fa45cf1a"
      },
      "execution_count": null,
      "outputs": [
        {
          "output_type": "stream",
          "name": "stdout",
          "text": [
            "Enter number of rows : 3\n",
            "Enter number of columns : 3\n",
            "1 2 3 4 5 6 7 8 9\n",
            "[[1, 2, 3], [4, 5, 6], [7, 8, 9]]\n"
          ]
        }
      ]
    },
    {
      "cell_type": "markdown",
      "source": [
        "**SUM ALL ITEMS FROM INDEX T LIST WHEN ARRAY GIVEN HAS A 1 IN AN SAME INDEX**"
      ],
      "metadata": {
        "id": "lMIZP3jfp53H"
      }
    },
    {
      "cell_type": "code",
      "source": [
        "array = [[0,0,1,1],[0,1,0,1],[1,0,1,1],[1,0,0,0]]\n",
        "r,c = len(array),len(array[0])\n",
        "t = [8,4,2,5]\n",
        "for i in range(r):\n",
        "  sum = 0\n",
        "  for j in range(c):\n",
        "    if array[i][j]==1:\n",
        "      sum += t[j]\n",
        "  print(sum,end=\" \")"
      ],
      "metadata": {
        "colab": {
          "base_uri": "https://localhost:8080/"
        },
        "id": "bnX_O6MtnrHY",
        "outputId": "6b0ccb29-c105-4afa-ad48-f211a01af2ac"
      },
      "execution_count": null,
      "outputs": [
        {
          "output_type": "stream",
          "name": "stdout",
          "text": [
            "7 9 15 8 "
          ]
        }
      ]
    },
    {
      "cell_type": "markdown",
      "source": [
        "![Screenshot 2025-05-16 120152.png](data:image/png;base64,iVBORw0KGgoAAAANSUhEUgAAA+oAAAHLCAYAAABf8WJoAAAAAXNSR0IArs4c6QAAAARnQU1BAACxjwv8YQUAAAAJcEhZcwAADsMAAA7DAcdvqGQAAI//SURBVHhe7N13dFTV2gbw50yf9N5ICAklhBI6hCoEERRFsRdURNArYkdBkYsFPxELgl6xIBYsCFgBQQSkSO+EllBCem+TMn3O98ckQ3JSSEiACXl+a80KnL3PJJmZJPOcvfe7ASIiIiIiIiIiIiIiIiIiIqpJqPyHKIpi9SYiIiIiIiIiulIEQRAAQCZtICIiIiIiIqKrxzGi/uumExxRJyIiIiIiIrrCQvw90CMqCBq1QkDVoN73vs8Z1ImIiIiIiIiusBH92uHlR4fAx9OlelDvcddiBnUiIiIiIiKiKyyufwRenTIMvl72oM416kREREREREROhEGdiIiIiIiIyIkwqBMRERERERE5kTrXqLcN9kS/riFQqxRVDzeeKEJ0fBQhiiIgAmK141U+VmFfRS9AEATHv2X2beXsxyr+XdFY5UwiIiIiIiIi55KdX4q9x9JRUmaqdly6Rr3OoD5ygL2jt4e26uEGEUV7IBdFETabDVartdrNYrE4/m2z2Ry3ynMryWQyx00ul0Mul0OhUDg+Vh6v7ANpgCciIiIiIiJyEruPpuGtJduQmqWrdlwa1Jt16ntlMLfZbLBYLDCZTDAYDNDr9SgrK4NOp0NBQQHy8/ORk5OD7OxsZGZmIiMjA+np6UhLS3PcMjIyHLfs7Gzk5OQgLy8PBQUFKC4uRklJCfR6PYxGI8xmMywWi+NzV14kICIiIiIiImppmm1EXRrSzWYzzGYzDAYDjEYj9Ho99Ho9ysvLYTAYYDAYYDKZHCG7cnRdFEUIguAYJVcoFFAqlVCpVFCr1dBoNHBxcYFWq4VWq4VGo4FarYZarYZCoXCMtMtkMo6uExERERERkdO4IiPq0untFovFEcpLS0tRVFSEvLw8ZGZmIi0tDefPn8e5c+dw5swZpKWloaysDGq1GgEBAYiIiEDnzp0RHR2Nzp07IzIyEsHBwXB1dYXRaERWVhbOnTuHc+fOISkpCWlpacjMzERubi4KCwuh0+kcI+xVR9crwz8RERERERFRS3DJI+qV4be2qe5lZWUoKSmBTqdDUVERiouLUVxcDIvFgoCAAERGRqJNmzZwdXV1jIJXrjWvVPV+LRYL9Ho9srOzcf78eaSkpEAURXh5ecHLywuenp7w8PCAu7s73NzcHKPslfdbObLO0XUiIiIiIiK6Who6on5JQb1qSK86kl5eXu4YSS8sLER+fj7y8/NhMpnQrVs39O3bFz4+PtUCeWOJogi9Xo+jR4/iwIEDMJlM8PHxga+vL3x8fODl5QV3d3e4uLhAo9FAqVQ6is6hotgcERERERER0ZXW0KDe6MRcNaRXjqKXlZWhuLgYeXl5yMjIQHJyMpKTk1FcXIyoqChMnjwZY8aMgZ+fX4NCuiiK0Ol0WL58OX7//fdqU9cFQYCLiwtiY2MxadIkDB48GFarFampqTh//jzS09ORk5ODoqIilJaWOqbCW61WToEnIiIiIiIip3fx1FyFNKSbzWbo9XrodDrk5+cjMzMTqampKCwsREhICMaNG4fRo0fDy8tLeld1slqtOH36NObNm4dnnnkGP/zwAywWi7QbAECr1aJ///4YN24cOnXqhNLSUqSkpCAjIwO5ubkoLi5GeXk5jEZjta3gGNiJiIiIiIjIWTU4qNcW0svKyhwF4zIyMpCSkgKz2Yy+ffsiLi4OoaGh0rupl81mw+bNmzF9+nR8//33GD9+PGbMmAGlUintWo2fnx+uu+46jBgxAm5ubkhLS6s2sl5WVuYYWa8sgMewTkRERERERM6owUEdVdakm0ymGiPpKSkpUKvVGDVqFHr06AFXV1fp6fUyGAxYuHAhpk6dilOnTmHmzJno378/0tPTpV1rpVAo0LFjR4wcORLt2rVDdnZ2jZF1k8nEsE5EREREREROrdFB3WKxwGAwOEJ6VlYWUlNT4enpibvuugthYWFQKBTSU+uVkpKCiRMnYtasWfDy8sKSJUswefJkdOzYEdOnT8f//ve/BodqPz8/DBs2DO3bt0dOTg4yMzORn5/v2L7NbDZzvToRERERERE5rQYFdbFir/TK6u6lpaUoLCx0BGF/f3+MHz8eLi4ujaqqbjQasXHjRtx5551Yt24d7rzzTqxZswbDhg2DUqnE0KFDsX79evz888947bXXkJ+f36CA7erqiuHDhyMyMhI5OTnIyspCfn4+SkpKHGGda9WJiIiIiIjIGV00qFcN6SaTCeXl5dDpdMjLy0NOTg68vLwQFxfX6KnumZmZWLx4MaZOnYry8nLMmzcPS5cuRWBgYLV+ERER+Oabb5Cbm4t58+YhISEBNputWp/aqNVqjBgxAsHBwcjJyUFeXp5jvbrJZHKMqjOsExERERERkTNpcFA3m80wGAwoLS1FQUEBsrOzIQgC+vfvD39/f+lpdbLZbNizZw9mzpyJ+fPnIyYmBh999BEmT55c55T5sLAwvPrqq/D09MQHH3yAXbt2SbvUSqvV4vrrr4e3t7djVL22KfAM60REREREROQs6g3qomgP6lX3Sy8qKnIUaOvevTvCw8MbPN29rKwM3377LaZNm4Y///wTU6ZMwfz58x1T3esTEhKCqVOnIjY2Fv/3f/+HlStXNihge3h4YNiwYZDJZMjNza1RBZ5T4ImIiIiIiMiZXCSo26u8VxaQq1ybnpubi6CgIPTq1avOUXCpzMxMzJkzBzNnzoROp8M333yDl156CZGRkZDL5dLutfLx8cEDDzyAl19+GQsWLMAHH3wAo9Eo7VZDUFAQevbsiZKSEhQUFFRbq85RdSIiIiIiInImdQb1ytH0ymnvVbdj0+v1iIuLu+goOCqmup86dQqPPPIIFi1ahMGDB2Pr1q246aabGr2uHRVrz4cMGYKVK1di06ZNeO2111BQUCDtVo1cLkeHDh0QEBCA/Pz8atu1sQI8EREREREROZM6gzoqQnbVtelFRUUoKChA37594efnJ+1eQ2FhIVatWoXbbrsNCQkJmD17Nj7//HMEBQVJuzZamzZt8Omnn6KoqAhvvfUWEhMTpV2q8fT0RFRUFGw2G4qKilBSUgKDwVCtAjwDOxEREREREV1t9QR1EVbJlmzFxcVQqVTo3bu3tHM1VqsVx48fx5tvvolHH30UISEheO+99/DCCy/A19dX2v2StW3bFrNnz4a7uzveeecd7Ny5s96w3bZtW3h5eaG4uLjGVm0NqSRPREREREREdLnVHdRFwGa1wWQyQa/Xo6SkBDqdDlFRUXBzc5P2djAYDPjzzz/xwgsv4Pvvv8fEiROxcOFCxz7rzS0kJATPPPMMBg8ejLlz5+LHH3+EyWSSdgMAuLu7IyIiAgaDASUlJY7p7xaLpd6AT0RERERERHSl1BnURYiw2ayO9emlpaWQyWRo3749ZLLaTzMYDFi0aBGeeeYZpKSkYP78+XjjjTfQvXv3Os9pDt7e3pgwYQJeffVVrFixAgsXLkRJSYm0GwRBcHz9Op0O5eXlNaq/M7ATERERERHR1VR3ehbh2JatvLwcJSUl8PX1haenp7QnACAnJwf3338/Zs+ejbZt2+Lbb7/FhAkT4O3tLe16WahUKgwcOBAffvgh9uzZg7lz56KwsFDaDd7e3ggKCkJZWVmtQZ2IiIiIiIjoaqozqNv3T7fCaDRCr9fDYDAgMDCwxvT1srIy/PnnnxgxYgS2bt2KRx99FN999x369u3b4G3XmosgCGjXrh3ef/99FBQUYM6cOUhJSakRwDt06ICysjLo9XoYjUbHNm2o+L6JiIiohTIZYU08DMOch1DST0BpnA9MqxZLexE1nMkA67Hd0L9wK0oGaVDST4Bl11/SXkREzaruoA4RFqt9RN1gMEAmk8HX19exb7rNZkNycjIWLlyIqVOnQqlUYt68eXj//fcRGhoqvbsrKjw8HHPnzoW7uztmzpyJXbt2wWKxONrDwsIgiiL0er1jjTpH1ImIiFo2UVcA89pvYJjzEMzrv7cftFkBs1HalahBxLxMmFYthuGNR2HZ9ofjtSTqay6xJCJqTnUHdVGE1WJ1BHW1Wl2tiNyuXbswc+ZMfPbZZxg8eDA++eQTTJkyBVqtttr9XC2BgYF4+eWXMXLkSHzwwQf46aefUFZWBgBwc3ODp6cnjEajYy91BnUiIqKWy3rqIExfvA7j4tmwnYkH5PaBBaJLZT20HYYFL9hfU8mnANmVnSlKRK1bPUEdsFaMqJtMJqhUKri6usJoNOLzzz/H448/jp07d+KJJ57AvHnzEBsbK72Lq87NzQ0TJ07EtGnTsG7dOixevBiFhYUQBAH+/v6OoC4tJsfATkRE1HJYd66D4Y1HYPrlc4glhVAMvQWKobdIuxE1mHnd9zC8Ow2Wv5cDNgsUI++CYvBN0m5ERJdNnUEdogibzQar1QqLxQKNRoPi4mI888wzePHFF2G1WvHpp5/i2WefRVhY2GWt6t4Ucrkcw4YNw8svv4zDhw/j7bffhk6ng5+fH8xmMywWi2NEnYiIiFoey/5/YDt9FIK3H9TPvgfNrM8hC4+SdiNqMOvRHbCdiYfgHQDNK5/ZX1ORXaTdiIgum3rTtSiKjhCr1WqRkZGB3bt3Iy4uDps2bcLAgQPxySef4K233oJOp6t2bnl5OebNm4dnn30WBoOh2n3+9NNPmD59OkpLSx3Hk5KScMcdd2D8+PG4/fbbMX78eMe/77rrLnzzzTf45ptvsG/fvhoj3snJyXj99ddhNpuh0+mwcuVKPPbYY7jjjjvwyCOP4IcffkCbNm3wzjvvID8/H1u3bnUE9arT3jmaTkRE1AKp1FDecC9cFqyF6p6nIfgGAYIg7UXUYIK7N5S3Tobbn2lQjn0YgqsHINT7tpmIqFnV+RvHvo/6hfAqCAL69++PpUuX4vvvv0dISAgyMjKwevVqLFiwAAcPHqx2/rZt2/Dll1/i008/RVpamuN4SkoK3n33XaxZswa///67Ixj7+Pjg/vvvxwMPPIDhw4cjNTUVvXv3xv333497770X7du3x+bNm5GQkFBj9DsjIwM///wzjEYjPv74YyxevBjR0dG455570K9fP3z77beYNWsWXF1dsWjRItx4442QyWTVwjlDOhERUcuk/s+b0Lz1I2QdY6RNRJdEPfUtaGZ9zloHRHTV1BnU7ezT3yuDukKhQO/evR1btNlsNnh4eCA0NBS//fab4yyj0YgtW7YgKioKarXaEaytVit++OEHtGvXDs8++yx+/fVXZGdnAwA8PT1xxx134M4778SoUaMQEhKC4cOH484778Qdd9yBDh061BukBUGAyWTC2rVr8fDDD+O5557D3XffjalTp+Kjjz6Cn58fCgsL4erqCoVCAblczoBORERERERETuciQd0egFExZV0aaEVRhFqtxk033YR//vkHOTk5QMU09sTERIwePdqxPzkAnDlzBps3b8aUKVNw6623wmaz4Z9//qlxv3URRRFpaWk4ceIEjh07hmPHjuHEiRNISkqC2WyGUqlE9+7d8fvvv2PFihU4fvw4dDodOnTogGeffbbatnE2m83xvVV+JCIiIiIiIrra6gzqAgQIggCZTAaZTOaojC5ls9kwaNAgaDQarF69GqIo4ujRo9BqtYiJiXEEdavVinXr1iE4OBgDBgyAr68vRo0ahY0bNzpG1S/GarXiu+++w/PPP4/nnnsOzz33HJ599lksWLAAOp0ONpsNL7/8Mvr06YMvv/wSDz/8MEaPHo3//Oc/OH/+PJRKpeO+KveGl8lkEAT790pERERERER0tdUZ1AFAqBJkjUYjLBaLtAtsNhvc3Nwwfvx4fPXVV9DpdNi3bx9iYmLg5+fn6Hf+/Hls3rwZAwYMgE6nQ2ZmJqKiopCSkoLDhw83aFRdoVDgxRdfxPr167Fu3TqsW7cO69evx4cffghvb2+Iooi2bdti1qxZWLduHf7880+88847MBqNmDRpEvbv3++4r5KSEsjlckdYB0fWiYiIiIiIyAnUHdQFQC6TQaFQQKFQwGg0VqveLnX33XcjJSUFa9ascRSCUyguFODYt28fzp8/j1WrVuHRRx/F5MmT8fbbbyMjIwNr166tUTW+LnK5HKgI7QqFwhG05XI5srOz8corryAtLQ0ymQwBAQEYNmwYFi5ciM6dO2P37t2O+8nPz4dKpYJSqYRcLodcLufIOhEREREREV11dQZ1AQLkcjmUSiXUajVMJlO17dSkIiMjMXToUHz44YdQq9Xo3Lmzoy0vLw/r16/HQw89hBUrVuCnn37C8uXLsWLFCixcuBCnTp3C8ePHq93fpXBzc0NCQgIWLVqEQ4cOISUlBefOncO///4LnU6HwMBAoGKte25ubrWgXjWgM6wTERERERHR1VJ3UBfsQV2lUtUZ1F1cXBAZGQk3NzcAwKRJkxxr1oOCghzr1HU6HVQqFW688Ub4+/vDx8cHvr6+8Pb2xsCBA9G3b1/Ex8c77lej0SAsLAyurq6OY0qlEm3atIGXl1eNIO3q6orw8HD4+vri5Zdfhl6vx6JFi/D2229j3rx5WLFiBUaOHInhw4cDFXu8FxUVQaPRQKVSOUbmOaJOREREREREV5t9HjmAoK43v1a1ISLEC7HdgyGIVpSXl6OgoAAeHh4ICQlxrOl2dXVFTEwMwsLCoFKpEBISghEjRiA2Nhaurq5wcXHBsGHD0LlzZwwYMADt2rVzTF2vpFKp0K1bN0RFRcHd3R2ouADQo0cPhIeHOwrAqVQqdOnSBR06dIBWq612Hx4eHoiNjYW/vz9CQkLQr18/xMTEICYmBv369cOoUaMwYsQIeHl5ARXr5RMSEhAYGAhfX1+4u7tDo9FAqVQyrBMRUYOkp6fjqaeeAgBER0dLmy/Z9u3bMW3aNMTGxsLb21vaTA1k3b8Z1kPbIajUkPcdAXn3WGkXokax7tsE6+F/AQCKUXdDHtFF2oWI6KLSsnXYfjAZulJjteMRbbwxrE845s9763VcfERdAZVKBa1WC7VajZycHOj1ekcftVqN0NBQx8i3RqNBly5dHG8s5HI5OnbsCC8vL2i1WuTl5dVaNC4oKAjBwcGO/6vVaoSHhzv2a0fFmvTQ0FBH2K5Kq9WiY8eOjvXqAQEB6N69O/r27YvevXujU6dO1Ubnz549CxcXF2i1Wo6oExHRJdHr9di/fz9OnTolbWqS/Px87Ny507HlKREREbU+dQZ1CIBcYZ/6rtVq4ebmhtzcXJSUlEh71mCz2ZCSkoIjR47g559/xtmzZ7F//34YjfarBqIoIj4+HhkZGdJTL7vS0lKkpaXBzc0NLi4uUKvVUCgUNdapExERWa1WFBQUICUlBefPn0dmZiaMRiNKSkqQlpYGs9mMwsJCR5vJZAIqllhlZGTg/PnzSE1NRXFxcbUtTvV6PdLT06HX65GTk4Pk5GTk5uYiLy8POTk5sNlsjvNzc3Nr3R6ViIiIrl11B3UAioo16i4uLnB3d4fFYsH58+cv+oYhOzsbZ8+eRVlZGQICAlBYWIi2bdsiNDQUgiDg5MmT+O67765KMD579iysVivc3d2rBXWOphMRUVUWiwXbt2/HlClTMHbsWIwdOxZ33HEH/v33X6xduxZTpkxBSkoKvv76a4wdOxbPPvsszp49i/j4ePzf//0f7rjjDtx0000YNWoUnnnmGSQkJDjue/v27RgxYgQ+/vhj3HbbbRgwYACeeOIJfPjhh3jzzTdRUlKC6dOnY+zYsZg/f36DLpITERHRtaPONeqRbbwxpFdbaFRymM1mGI1GlJeXIycnB506dYJKparavZqcnByoVCoUFRWhe/fuSElJQadOnaBUKpGTk4MlS5ZgzJgx8PHxcQTlSjqdDnl5eUDFunRBEJCfnw+TyYTCwkJYLBZoNBoUFBSgoKAAGo2m2rr3oqIi5OfnQyaTOdacVyovL8f+/fthsVgQEBAAX19fuLm5QaPRVJv+TkREVFxcjJkzZ0Kn0+Hll1/G3XffjbCwMHTq1AldunRB+/btsWfPHowdOxavvvoqrr/+ekREROCtt95CTk4OJkyYgPvvvx+RkZFYtWoViouLMWbMGKDiovFvv/2GnTt3YtCgQZg0aRJiYmIwZswYuLq6Yu/evXj99dcxadIkDBs2DIGBgY76MFST7dxxWLb9AVvCQcfNenAbbCmJgEwGmYsbxNIiR5uYmwFZeCfp3RA5WE/uh3X3X7CdOnDhNbX/H9hSzwAABO8AiHkZjjboyyALDpfeDRFRDQ1do+5IpT3uWlxt8Xhc/3aYMXEQXNQCdDodcnJykJqaivPnz6N///6Ija27KIvBYIDVanWEaoPBABcXF1itVnz++eeQy+W49dZbER8fj+DgYPTs2RMAsGfPHmRlZSEqKgomkwmRkZGw2Wz48MMPccstt8BqtSI9PR09evSATCbD4cOHERkZiW7dugEVIxQFBQUIDAyESqVCTExMtYsACQkJ2L59O7y9vREWFoagoCB4eno6grq00B0REbVeOTk5uPHGGxEbG4t58+Y5Cp5WOnPmDG699VY88MADeOWVVxzHDx48iODgYEftFb1ej4cffhg5OTnYsmULAGDDhg147LHHEBcXh3nz5iEgIMBx/m+//YZHH30Ua9aswcCBAx3HqW7GL9+E+YcF1Y6JRiNgLAcEAYJaC6jUjjZZp55wWby5Wn+iqowfzYD59y8B8cIsUtGgB0wGAIDg6g7IL7zHVIy8C5pXPnP8n4ioLruPpuGtJduQmqWrdjyufwRenTIMvl4uAuqf+i5AJpNBLpdDrVbD1dUVnp6e8PLywp49e1BUVCQ9wUGj0Tj6q9VqeHp6QqlUYvPmzcjIyMBdd93l2PO8sqr7mjVrsGbNGgwbNgyenp4oLCyE1Wp1vDmKjo5GVlYWzpw5Azc3N3h7e+PEiRNQq+1/eH/77Tds3LgRvXr1QlFREdzc3KoF75KSEiQkJEAQBHh5eXEknYiI6uXm5oa4uDisXLkSb7zxRoOLxvXu3RvBwcHYvXs3Pv/8cyxbtgwpKSmwWCzSrrj33nvh7+8vPUyNJCiUEHWF1W4wltsbRRGioVzSZg9bRHUSRYhluuqvm4qQDgBiWUn1Nqu52ulERE1VZ1AXBEAmE6BQKKoFdV9fX8hkMmzduvWia9WrOnv2LPbs2YMHHngAfn5+2LBhA7RaLbp06YIDBw7g559/xqxZs+Dh4YHU1FS4uLhg27ZtyM/Px9NPP43s7GwcOHAAw4cPh4+PD1auXAl/f3906NABe/bswU8//YRx48YhOzsbvXv3RmRkpONzVxa3S09Ph7e3tyOoV067Z1AnIiIpFxcXvPTSS3jkkUewbNkyxMTEYOrUqfVWYxdFERs2bEC7du0wcuRIvPjii3jxxRdx8OBBaVegYpcT/v1pOtXDM+G+T2zwzWXpTuldEFWjfno+3HeZarx26rppZi+V3gURUZPUGdRRsUWbTCZzhHU3Nzf4+PjA398fycnJOHbsWIPCemlpKbZv347+/fsjOjoaR48excGDB3HvvfciOzsb33//PSZOnAi1Wo3k5GTk5eXBYrHgwIEDePvtt2E0GrF9+3b06NEDMTEx2LNnDxISEnDfffchIyMDP/30E5544gn06dMHffr0gUKhQH5+PqxWKwCgoKAA+/fvh6urK3x8fODm5gatVstq70REVC9/f3+888472LNnD2bNmoVvvvkGs2bNknZzSEtLw2uvvQYXFxds3boVxcXFKC4uxj333CPtSkRERFSneoM6YK+ELp3+7ufnB3d3dxw6dAjp6em17o1e1Z49e6DX6zF48GAAwMqVK3H//ffDarUiMTER7u7u6NSpE5KSknD+/HkEBQXh0KFDGDVqFLy9vbFv3z4UFBRg2LBhsFqtWL16NSZPngy9Xo+zZ8/Czc0NkZGRKC0tRVZWFsrLy+Hp6QmFQoHy8nL8+++/0Ov18Pf3h7e3N9zc3Bz7p1dWe2dYJyKiuoSHh2POnDkIDAzEyZMnq7VVrciekpKCoqIi3Hzzzejbty8AIC8vr97lYnUpKyuTHiIiIqJWot6gbp/+LnNUUNdoNHB3d4ePjw8CAgJgMpmwb98+FBYWSk91EEURJSUluOGGG+Dl5QUA6Nq1K5RKpaNgXP/+/ZGbmwuDwYCYmBh4eHigc+fO6NGjBwCgsLDQUSUeALp37w5RFGE2m9GhQwf0798fOTk5yM7Ohkwmg7+/PzQajWMkPj09HYGBgfD19YWHhwe0Wi1UKhXkcjmnvRMRUa0KCwvx6quvYvny5Vi/fj3ee+89FBYWOgq8eXp6wt3dHb/99ht+/fVXrF+/HoIgICAgAOvWrcMPP/yAn3/+Gf/9739x+PDhBldtDwoKglKpxCeffILVq1fjn3/+YWgnIiJqZereni3UXh5eo64+6iyTySCKIgRBgNVqRU5ODgoKCtCuXbtqFdYrCYKAsLAwBAQEOM6PiIiAp6en49amTRt4e3sjMDAQbm5ucHNzQ1hYGFxcXCAIAkJDQxEYGAhBsK+Zj4iIgIeHBzw9PeHh4YGwsDDH2vPKkXSz2YwdO3bg1KlTCAgIQHBwsGMmgFarhVKpdEx7Z1AnIiKp0tJSLFiwAL///jt++eUXnDt3DrfffjtmzJgBV1dXaLVaeHl54c8//8TatWuRn5+Pm266Cf369UNCQgKWLFmCbdu2ITw8HG3btoXBYMCDDz4IVNRtWb16NcaPH4927dpV+7x+fn4wGAxYsWIF/vnnH7i4uGDw4MGO4qlERETUcjV5e7aRA+zl4b09tBBFEaIowmq1wmQyobS01LFlW1ZWFtLS0hAaGorbb7/dKUKv2WzGrl27EB8fD19fXwQHByMwMBCenp5wdXVlETkiImoQi8XiWN5VebG56sh45d/GygvYlbuN2Gw2Rw2Xyv6iKDouaFeeV1edFJvN5qizUrkDCxEREbV8zbA92wVVR9NVKhVcXFzg4eEBPz8/BAUFoU2bNkhPT8ePP/6IgoKCBhWYu1xKSkqwY8cOHDt2DD4+Po6RdE9PT7i4uDCkExFRgykUCiiVSiiVSsffjqoqZ3pVtlf+vZTL5Y7z5HI55HJ5tVlnlefV9XeocslZ5fnUMDabDTqdDsnJyTh16hSOHz+OhIQEpKamoqys7KI1dYiIiJxFg0bUK4miCJvNBovFApPJhLKyMhQXFyM/Px/Z2dnIysqCm5sb+vXrh4iIiCs6Tc9msyEzMxMHDhxAWloa/Pz8EBgYiICAAHh4eDgKyCmVSkdIr+sNEhERUUuXmZmJs2fPIjs7GxaLBUqlEiEhIWjfvv01uXe7yWTCrl278Pvvv2Pjxo04d+4cysvLHXVvrr/+etx+++3o3bu39FSiWpWXl+PcuXM4f/48ysvLIYoiXFxcEB4ejvbt28PV1VV6ChHRRTV0RL3RQR0ArFYrrFYrjEYjysvLUVJSgoKCAuTm5iInJwdWqxUdOnRA9+7d4efnV+VeLw+dTodTp07hxIkTMBqNCAgIQEBAAHx8fODl5VVjJF06IkJERHQtWbduHX788UccPHgQ586dg9lshlqtRkREBAYNGoSJEyc6iuJdC8rKyvDZZ5/h22+/dWwdKx09FwQBgwYNwsMPP4wJEyZAq73w/oZI6syZM/j666/x77//Ij4+Hjqd/Q21u7s7oqOj0a9fPzz++OOIjo6WnkpEVK+GBvWLFpPTqpWOY5Wj0FWnwldO51MqlVCpVFCpVLBarY4r+eXl5fDx8YFKpap6983CZDLh1KlT2LlzJ86fPw+NRoOQkBAEBQU5prtX3YqNI+lERHQtKywsxCeffIJ58+Zh69atyM3Nhdlshs1mg9lsRk5ODuLj47F//36o1Wp07Njxsvx9vtJmz56NhQsXIjk5ud7ld2lpadi5cyfUajUGDRokbSaC1WrFli1b8N///hfLly93zMyorDthMBiQmpqKgwcPIj4+Hh4eHmjfvj2XqBBRgzW0mNwlDy1XhnSVSgWtVgt3d3f4+voiKCgIoaGhCA4OBgAcOHAAy5Ytw44dO6rtNdsUZrMZx48fx/Lly7F582aUlZUhICAAYWFhjjXpHh4ecHV1ZUgnIqJW4/fff8e7776LhIQEWCyWWkOryWTCoUOHMHv2bOzfv1/a3OL89ttv+Oqrr1BQUFBjFF1KFEXk5+fjs88+w5YtW6TNRDhz5gxmzJiBDRs2OAJ6bcxmM7Zt24ZZs2Zh9+7d0mYioiZr1Ih6JenIeuWoukKhgEqlglqthkajgVarhVqthtVqRVJSEg4fPozMzEyIogil0n6/ldPTpH9cK9fDW61WmM1m6PV6pKenY+/evfj777+RmJgIlUqFwMBABAUFITAwEH5+fvDy8oK7uztcXFwcIZ37pRMR0bXuxIkTeOutt3Dy5Mk6w0VVpaWlyM7OxqhRo1rsWtuMjAw88cQTOHPmjLSpXoWFhSguLsb1118PFxcXaTO1Unq9HnPmzMFff/0Fs9ksba5BFEUUFBSgpKQEQ4cOhbu7u7QLEVENDR1Rv6SgXqnqCHVlYK86FV6j0UCj0cDFxQWurq5QKpUoKipCYmIijh8/jqSkJGRmZiI3Nxf5+fkoKChAYWEhcnJykJGRgeTkZCQmJuLo0aPYt28fTp48iZKSEnh4eCAoKAgBAQHw9/eHr6+vY5p75cWBykq5levRGdKJiOhaZTKZsGzZMixdurRBIR0VIePs2bPo3bs3unXrJm1uEdatW4c//vgDRUVF0qZ6Vb5n6d27NyIiIqTN1Ept27YN06dPb1BIrySKIhISEhATE4MePXpIm4mIamhoUL/kqe+Vqq5VVyqVUKvVcHV1haenJ3x8fBzbt7Vt2xYRERFo3749OnTogODgYMhkMuTm5iIxMREHDhzAjh078M8//2D79u3Yt28fTpw4gYyMDFgsFvj6+iIyMhIdOnRAZGQk2rZti9DQUAQGBsLX1xdeXl5wc3ODRqOpFtI53Z2IiK51BoMB27dvlx6+KEEQ8Mcff0gPtxhHjhxBZmam9PBFiaKIpKQknDt3TtpErdiSJUsu6T2jKIpYsWKF9DARUZM0qur7xVROYa8suGGxWGCxWGA2m2EymWAymWA0GmEymRzHKvtUnQJfGa6rXgConFZfObW+8t+VbVUruledlk9ERHSty8vLQ9++fZGcnCxtuig/Pz/ceOONjv9XnSlX17H62mo7Jv1Y17+lHy92bNu2bTh8+HCN5XMNIZPJEBcXhz59+jiO1fW5pP+vrU/Vf1f9f9V2ab/6Pjb0WG1ttbXX11bbMenH5jpWW7v0Y23Hamu7WLv048WOPf7448jPz3ccbwxfX1/k5eVJDxMR1dDQqu+O31LNEdQrSQN75VrzylBeub1b5b8r+1T9QytUBPXKsF45pV76sWo4r5zmXnk+ERFRa5CVlYXQ0FBYrVZpU4PU9TezruNVNaQPLlO/ugrmNVTl+4mGfk408OtrSJ9KDenbkD5o5n4N6VOpoX2bs19z9akqPz//ki76oOLCz6X+/BFR63JVgzqq7LleGdqrBner1er4f2Wb9JebUEvBuqqBvOrIOQM6ERG1Zrm5uejWrRtycnKkTRclCIKjwOvlcKnBpyEq3z9cyueofG9xJd83XMrXeS1ztsdD+l60MRQKRaPWthNR63XVg3pVVUM7Kiq9S4/X9ctaGthrO05ERNSaFRYWYuzYsdi1a5e0qV6CICAuLg7r1q2r9ndY+ne7vo8XO+9i7dJ+dX2s7diuXbswY8aMRq81FwQBffr0wZw5c9C5c+ca91vbR+kxaXtDP9Z1vrSvtF36sbZjDTmvoR+lx6TtF/soPSZtl/aTHpd+rO1YQ85rzMcFCxbg1KlT1e67IQRBQOfOnXHixAlpExFRDU4V1CH5hVrfsfpIQ7n0/0RERK2RwWDAa6+9hnfeeUfaVC+5XI533nkHL7zwgrSpRSgtLcUzzzyDZcuWNWo0083NDc899xxefvllaLXN8z6HWr6lS5fi8ccfh8VikTbVS6FQYO7cuZgxY4a0iYiohoYG9SZXfW8o6ci4UGUKe0Nv0vOJiIgIUKlUGDNmDKKioqRNdRIEAdHR0Rg7dqy0qcVwc3PDzJkzER0dLW2qk0wmw4ABAzB58mSGdKrmlltuwbBhwyCXO3YvvqjK2Rm33HKLtImIqEmuWFAnIiKiy0MmkyE2NhYTJ06Eq6urtLlW7u7umD59Ojp06CBtalE6duyIxYsXo1u3btVq1tRGLpeja9eumD9/Ptq2bSttplbOz88Pr7zyCkJCQqRNtRIEAf7+/pg2bRo6duwobSYiapL6/6IRERFRi6DRaPDggw/izjvvhFqtljY7CIIADw8PPPbYY7jlllugUCikXVqcgQMH4u+//8bEiRNrnXFXudXrlClTsGfPHvTq1UvahQiCIGDIkCF44403EBoaWutrqSovLy88/fTTGD9+/GUtyEhErRODOhER0TWiTZs2+PrrrzF37txqI+VCRYVzNzc3dO3aFYsWLcK7774LHx+faue3VIIgICgoCB999BE2bNiAhx56CBqNBqjY3/qxxx7D5s2bsXDhQmi12osGMGq91Go1Jk6ciF9++QVDhw6Fr68vlEpltdeMv78/unXrhm+++QazZs1q8CwWIqLGuGLF5IiIiOjKOXjwIPr06QMA6N27N2JiYtC1a1fcfPPN6Ny5s7T7NScsLAxpaWkYOXIkNm7cKG0muqj8/Hxs374dGzduxJEjR/Dvv/8CABYvXozbb78dAQEB0lOIiC7K6YrJERER0ZXTvXt3x78nTpyIr776CtOnT28VIZ2oOfj6+uK2227Dxx9/jGnTpjmOjxs3jiGdiC47BnUiIiIiIiIiJ8KgTkREREREROREGNSJiIiIiIiInAiDOhEREREREZETYVAnIiIiIiIiciIM6kREREREREROhEGdiIiIiIiIyIkwqBMRERERERE5EQZ1IiIiIiIiIifCoE5ERERERETkRBjUiYiIiIiIiJwIgzoRERERERGRE2FQJyIiIiIiInIiDOpEREREREREToRBnYiIiIiIiMiJMKgTEREREREROREGdSIiIiIiIiInwqBORERERERE5EQY1ImIiIiIiIicCIM6ERERERERkRNhUCciIiIiIiJyIgzqRERERERERE6EQZ2IiIiIiIjIiTCoExERERERETkRBnUiIiIiIiIiJ8KgTkREREREROREGNSJiIiIiIiInAiDOhEREREREZETYVAnIiIiIiIiciIM6kREREREREROhEGdiIiIiIiIyIkwqBMRERERERE5EQZ1IiIiIiIiIifCoE5ERERERETkRBjUiYiI6JohiiJsNluN/4uiWK0fERGRM2NQJyIiohbParXi5MmTeO+99zBo0CBkZWUBAHbt2oUbbrgBn332GZKTk6WnEdXJbDYjMzMTx48fr/baycnJgclkqtaXiKi5MagTERFRi2YwGPDzzz/j8ccfx8svv4y9e/fCYrEAAPR6PTZt2oQnn3wSTz/9NNavXw+j0Si9C6JqMjIy8NVXX2HatGm4/vrrMXv2bEfbrFmzsHjxYqSmplY7h4ioOTGoX2Vp2Tp88fMBvPPVDmzdf17aTFfByr9P4J2vduD7P48it7Bc2twsdh5Oxfvf7sSCZbtw8lyutJlasPjTOXj36x1Y8N1u7D2WLm1uMWw2EXvi0/H+tzux8PvdyC0sk3Yhchqffvopnn/+eezYsQNWq7XWae42mw2rV6/GY489huXLl0ubiYCKmRkHDhzAf//7X7z00kv4/fffkZWVVW0E/c8//8SMGTMwY8YMbNmyxXFRiIioOTGoX2XpOSVY9fcJ/LguHlsPckqeM/jjnwT8uC4ea7YlXrZwsvtoGpavP4af/jqOY2cZ1K8lRxKz8OP6Y/hp/TEcOJEpbW5Wicn5eP/bnfi/JduxYedZaXOTWG0iDp7MwHdr4/HtmqPIL9JLuxA5hU2bNmHBggXIyMiotja9NqIoIjU1FQsWLMDevXulzURISUnBrFmz8MMPP6C4uBhWq1XaBQBgNBqxatUqzJo1C4cOHZI2ExE1WasM6ut3nMXLCzfhgZd/wZCJSx23R1/7A69/uhW7j6ZJT7lsbKIIq81+5d9iqf8NBl0ZZov9j7LNJsJW8dw0N4vVBlEExIp/07Wj8vkURRHWy/zcrt9xBj+uP4afN57A8r+OISm9UNqlSSxW0fF91DZCSXS15eXlYc6cOUhNTW3UazQ+Ph4LFy5EcXGxtIlaMbPZjE8//RRbt26FXn/xi5Nmsxl79uzBp59+ivz8fGkzEVGTtJqgbjBa8M/eJDzw8i+Y9dFGrNtxGsfP5qC03OS4HTiRgV83n8TT76zD1LfW4mhi9mULas6g3GDGqx9vRs+7P8V9M35GVl6ptAsROTGT2QrRJsImihAEAQIEaRensGLDCQyb9BV63v0plq8/Jm0mumQ7d+5ETk5Oo0I6Ki6knTp1CseO8fVIFxw8eBAffPABDAaDtKlOVqsVX3/9NbZu3SptIiJqklYR1A1GC75bexRzl2zD8bM5sNpE+Hu7onvHAAzp1RYj+rVDv65tEBnqDVetCiazFTuPpOK/n/yDPfFXbnT9ShNFEboye0GdknIjrBeZMkhEzmXkgEiMHtQB1w+IxJhBHRDo5ybt4hTK9CbHjKHCkouPUhE11P79+y+poJcoijh9+jQSExOlTdSKLV26FHK5XHr4ogRBwMqVK6WHiYiaxDH80uOuxdUuR48cEIFXpwyDt4e26uEWae32RMz/aieKSw1w1SrRr1sb3DS4IzqF+yLIzw0atQIFxXokZxYh/kwO1mxNxNnUAlhtIsKCPPHhi6PRPsxHerfNYtfRNMz+eDPyisoxbngU3pg6QtrlsinTm/Dyok3YdiAZoYEe+Gz2zWgT4CHt1urc+9IqnDqfh6h2vpj92HXo1iFA2qXJ5n+1Ays2HIdcLsOzE2Jx35hu0i7UQn39x2Es+mEPlHIZHry5B6bd11/apUUwW2z4dOV+fPnrQQDAj/PuQHSkv7Rbg3z1+2F88fMBlBvMePyuPnjirn7SLnQZmM1mqFQqAMCiRYvw1FNPSbu0eE8//TT+97//XXRtem3kcjlGjx6N/v1b5s8oNb///e9/yM29tLoxQUFByMy8vHVJiOjasPtoGt5asg2pWbpqx+P62/O3r5eLgNYQ1FMyi/HYm6uRlVcKtUqBe0Z3xd03dEVoYO2B1GyxYeeRVCxesQ+nkvIAAGOHdsRbT42Udm0WDOrOh0GdmoJBvSYG9aujNQT1Z599Fh999NElBXWi5qRQKGA2m6WHiYhqYFCv8OnK/fh05X4AwMAeoZjxyBCEh3jVu5LTYrVhxYbj+HTFfujKjPBy1+DTV29G5wg/Rx9RFPH8e3/hbFohbhsehXvHdEep3oRfNp3EziOpyC8qh5uLGlHt/PDATd0Q1e7CuVXVFdS3H0zGZ6sOoFCnx83XReGJu/pKT3VISi/Eh9/vwZmUfHQI88XCGWOkXar5a9dZfLZyP/RGCwp1ehiMFijkMvh6uUAhtz8yPp4umHpPPwyMCQUAZOWX4om5a6BRKTBz0hD0iArCd2uPYs220ygpMyAsyBNP3tMf3TvaQ21atg4bdp1FYnI+MnNLkVdkr56uUSvRPtQH1/Vpi7HDOlX5qoA12xPx+aoDEADcNLQjHr+znu85rRAvffg3DEYLBsSEYurd/eDjeeG1ajRZsf9EBv7edRanzuehpMwIhVyGtkFeGNgjFGOHdYKnm7rafVZqjqBeXGrAmm2nsetIGlKzimCx2tA+zAfXx0ZiZP9I/G/53gYH9YMnM/HXzrM4k1qArLwSAICvpwsiQ70xon8ErusTLj0FH36/G3/vOgtPNw1mTRmGru1rD1iPvbEa6Tk6dI7wx7R7+yOijZe0C9KyivH6Z1uRkVuKvl2C8XqVi0mzPtqMI4lZGNC9Dabe0w8yQYa1/yZiy97zyMwrcTzfd14fjf7d21S738bYuj8Z+0+k43x6MbILSlGmt2+T4+2hRUzHQIwe3AE9OgVKTwOAigtv+1FQXI4XHhqEuP4RiD+djbXbTmN3fBosVht8PLUY1CMMt43ojKCLTB8vKTdhy74kbNmfjDMp+bDaRIT4u2N433a4aUhH/Lbl1CUH9eTMYryz9F8kZxbhtrhoPHRzDHYeScOKDceQmqWDq1aJ8XHRuLfi9XLsbC7e/GwL9AYLxgzugKn31B6Aj5/NwfodZ3H4VBYKdHVvOdgp3BdP3x+LiDZedQb1PUfT8POmkzibVgiD0YzIUB+Mio3EuOFR1e7LYrVh+vsbcDolHyXlJpSUmSCKItxd1fBwtYdHVPysP3lPwx8jarjWENTnzJmD+fPnN2pNMdHloNVqUV5e9+9XIqJKDQ3q1/QadZtNdGxZ5KJRYljvcLS7SEgHAIVchr5dQhAS4A4A0BvMOHAyQ9oNKZk6pGQWIzGlAOt3nsEj//0dn67cj/jTOcjMLUXC+Tz8seUUJrzyC37ZdLJRhelsNhH5ReVIzynBD38erbcy+KmkfBw/k4P0nBLIZBf77oAinQFZeaXIzi+F0WTf+9NitSG3sAyZeaXIzCtFRm4JSssv7BlqttiQlF6Ek0l5yCkow38/2YL3vtmJU0m5SM8pwe6jadh1NBWiCCRnFOHh2b9h0Q97sH7HGRw9ne2433NpBdiw6wxmfbwZz7/3F0zmC9ueyCAgM7cUyZnF2HE4FeczihxtUtsPp+B0SgEycksgCKgW0otLDHjnq3/x7Px1+H3LKZxOKUBOQRnSc0rw7+FkzP96Bx5/YzUSzl+eCq0lZUa8tGAj3v16B/49lIyULB0y80qx/UAy3vpiO95ftuui+7OLIpCdX4p3lv6LaW//iZ/+OoYDJzIcj2P86Wz89s8pPPfuesxcuAm5heWo+upSKxVIzynBiXO52HYgudrjXOnE2VzsPZaO9JwSHEnIqrNi+IFTmTiZlIeM3BKUG6rvFZuSVYy0bB1OpxRg6/5kPPfuenzwzS4cOJlpf75T7c/3Y2+uxmerDlxSFfSF3+/Giws2YNmao9h+KBlnUgocj8OxMzn4YV08nnt3PX7751StP2O6UiMycnVIzynB4cQsLFtzBM+++xeW/3UMKVnFyMgpwdHEbHy6cj+emb++3tddoc6At5dsxxufbcWmPefs5+eWYN/xdHzw3S688dlWZFZcTLkUpeVGZOSV2L/WU1lYt+MMXlu8BbuOpCEtW4eE8/nYsOvCNmxFOj3OpBQgJasYqdnVf9mj4vfI+h1n8Ny7f2HZmiM4cS4HOQVlyM4vQ0au/fOk55QgI9f+eJ5KykehrvY15EazFW9+vhWPz12Dv3efRVJ6ITJySrD9YDJe/3QrZny4EQXFVc4V7RfsMvNKHSEdAErLTY7nLzOvFNn5l2cLRGodYmNjERISIj18UYIgoF+/fti9ezdE0b67AW+8de3aVfpSabDQUPvABhFRc7mmg/qppDxkF9jfBPp6adGultHCunQK90VkqDdkMgEWqw3n0up+837sTA4+WLYLmXkl6BDmgxsGtseNQzqiY1tfyOUymC02LPn1IPYdT5eeWqfoSH+0D/OBIABl5Wb8sSVB2gWoGDlOTM5DoU4PmUzAiH7tpF1q6BTui3HDo3DLsCgE+9svRri5qHDDwPYYHxeN8XHRuGVYJ7QNqn0a/Je/HsJfO09Dq1GiY1sfdO8YiLAgD3i42keozRYbSsqM8PNyQVQ7P1zXpx3Gx0Xj1uFRGBgTBh9PLQRBwJZ95/HBsl2OixCDeoYhxN8+mpmZW4LEOoK00WTBrsP24kFuLmp0jbww4l2mN2P+1zvxy6aTkMtk6BkVjAk3xeDpB2Lx2J19EBsTBk83NRLO5+Hpd9Y1KVTVpqjEgOkfbMCe+DTI5TK0CXBHXP8IjB8Rjb5dQ6BVK7BmawL2xKfVGiorFer0+OjHvVj59wmUG8zw83JBr85BFc9NFHpFB8PbXQObTcTmvefw0Y97kFMl8Nw0tAO83DUAgPgz2Y4t56rad/zCxafCEnuNhtr6nU4ugNFkhUIuQ4+o2ket07J0+HTlfhw9nY3QQA+M7B+Bm4d1QvdOgdCoFACAL34+gPWXsNd3oc4ApUKOEH939IwKwg2DOmB8XDTGDu2ILpH+UKvkKCjWY8kvB7H/RAbqK/6881AqPvpxD4wmC3p2DsK44VEYNbA9gvzcIAgCEs7nYd7Sf6WnARUV1j/6cQ/+/Pc0LFYRAT6uGNIrHLeN6IyBPcLg7a7BlgPnsXHXOYj1PLcNlZ6jw8LvdkNvNCM82BO9OgchMtS7wbOcbKKIPfFpWPTDHuQUlCHAxxX33dgdTz8Qi4m39kRMx0ColPaiScF+brhlWBTuGd0VYUGe0rsCALz95b/4ZeNJ+Hu7YGBMGMbHRaN3dDBcNEpYbTZsO5iMXzaddLyGBJmAG4fYn6tuHQKgkNv/3HSJ9Hf8nhkfF43Y7nxzS5du4MCBiImJaXQBMLVajdjY2CYFM7r2TJ48GUqlUnr4ohQKBe655x7pYSKiJnH8ZQvqevNrVRsiQ70xrE84tOrG/8JyFrvj07F1/3lYrDaEB3vh9pHR8KhjunNtTp3PR/zpbFhtNgT4uGLM4A7V2ldsOIFCnR66imnVNw7piOcmxOLeMd0wckAEurb3x/n0ImTklsBktsHP2wW9OgdDXmXUOy1bh3/2JqHcYEZUOz+M6BcBAHDVqpCRW4L40zmwWKxwc1Fj5AB7W1XJGcX46a/jyMwrRVigJ557cKAjGNUl2M8NQ3q1Rf9uITh0KgvJmcUI8HHFm0+OwM3DOuG6PuGIjQmFn5eL4xxdmRE/rosHAOQVlUOrVuL+G7vjyXv64+4buiKmYyC6dQyEu6sKNlGEWqXA2GEd8eDNPXDXqGhc17cdhvdth2F92sHXU4vDCdkwmCwoN5gxpFc4PN3U0KgVyMgtxdHEbJjMVoQGeaJHp0AoFNWvJx0/k4NVG0+gtNyE8GBPPDK+l+MiwZptifh29REoFDLE9YvEzEeH4IZB7dGjUyD6dAnBoB5hMJotSEwpQJHOgHK9BcP7Vr+4servE8grKoeflwuu69MOAT6u1drrs2LDcaz6+wRkMgFd2wfgmQcG4OFxPRHXPwLXx0bC1UWF9GwdsgvKIIoiFHIZYmNC0b3K9HpRBLYdSMY3q4/AaLKgfag3pt7TD4/f1Rc3DGyPEf3aYWjvcAT7uyMxJR9FJQZk5JYi0NcVHcN9IZfZLw4dSchCek4JikqMGDu0U43X/te/H3aMHosiIJfJ0LdrCNwrHksAyC8qx/K/jiEtWwc3FxWeuKsffKu8Ln7dfAo5BWXQGy2wWkUM6dUWzzwQi4fH9cSIfhHoEx2CvGI9UjKLHXvHD+8b4QhtDWGyWBEd4Y/xcZ0x8dZeGDu0I67rE464/hEY1CMM5UYLTpzNha7MiLZBXujWwb/a/Z9JLcDOI6nQGywoLNHD39sV94zuiucmDMRNQzoirl87BPm54VxqAQp1BmTnl2J433bVvk8A2B2fho9+3AOrTUREG/tz8sTdfRHXPwIj+kUgyM8d2fmlSMvWwSbaZ+b06BTUqCn/uYVl2Lw3CUUlBhSVGCAIwMj+kXj6/gF4dHxv9O0ags4R/giumJ6fklWM9TvOQBSBjm19cf2ASMd96Y0WfPnrQRw8mQkfTy2eeWAAHrm1F3p0CkT/bm3QMyoIp5LykJVfCjetCs89OBA3DGwPV639d77NJmL/iQwcOmUvjpRfVI6YjoF44q5+mHxHb1w/IBKDe7WFQi7HkYQs+6wNAegZFQQvdw1kgoDe0cG4rk84ikuNOJKQBbPFhtuv74wXHhqE6/qE47o+4egY7uv4mql52Ww2vPnmmwCAG2+8EQMGDJB2afE0Gg06deqETZs2oaCgQNpcK5lMhr59+2Lu3LmXNBpP166wsDBs3rwZ2dnZEOu76luFIAiIiorCrFmzEBwcLG0mIqohLVuH7QeToSu1775VKaKNPX/Pn/fW67jWR9R1ZUbYKn7ReriqEOjb8MAFAD6eGshlAkTR/qa3Lgq5DHeO6oLnJ8SiU5U3nV3bB+D+m7oDFaPAp1MKUFDHtNLa9OsWAg83NUQAJ87lIDG5+gizzSbiXHohzqba35wMiAmtc911c1IqZLj7hq6YdFsvRLTxgpuLCr2jgx3hwc/LBf+5qy9GD+qANgHuEIQLFybcXVW4eViU43EqLTdVm3J9+8hoqJRyWKw2HE3MRlZ+zb3dDydkObaV694xAKEVBfBKy034cf0xe8gP9MR9N3ZDm4rlC5V8PLW4Z3Q3hPjZjx9OyERGbvOMqpfpzfh7t33E2NNNjfFx9pHWylFLF40St8dFY8odfdA22KPOJRiiKOK7tUdRpjch0NcVj93ZFzcO7ui4GIGK7+O2EZ3x+B32dfwlZUbsOJSCYp19naabVonuHe2j3yVlRuw+Wn2bwcy8UiRlFEIA4O9t/7k4l17oeFwrHT+X63h8OrfzQ6d2tYcqmUzAsL7heHbCQPTqfOGNSttgT9w1qgs83dQQRfvnSM+pOUW7PjcMbI8Hb47BwB5hcHe5sLYZAIL93fHQzT0cSx8SU/Lr/Vl106rw0C098MBNMfCtOEcul2FYn3CMGtgeSoX9IsdftYz8/7LpJExmG9xcVLjluk4YOSCi2nM7emB7PHXfAES186vzuW0MmUxA3672tf8xnQKhkMvQsa0venUOknatldlsxfGz9urFfaJDMKRX9VoGEW280bdrCOQyGYpKjbUu76mqS3t/vDJ5KG4Y1B4uGnuY9/NywcPjeqBDxa4YaVk65F1kWQdRc+vduzf+7//+D+3bt4dMVv/bGplMhvbt22P27Nno3LmztJlaueDgYMyaNQsBAQ2rTSMIAry9vfHkk0+iS5cu0mYioiap/y/aNUQuk0GpaNzUOLlMVrXeXp06tPXBzcM6wbNiqnFVg3qEOf5tMFpgrCdESEVH+KNzRRG6vKJyHDxZfdsPvdGMPfFpKCk3QaWU4/a4K/OmIzYmDPeM7uZ4s95YapXcMS3bYrWhzHChSmpEGy9H0b7TKfk11nIX6vQ4ejrbsVZ6WJ8Lo+EHTmQgLUsHuUxAl0i/OitUh/i7o0NbHwiCgOISI85UXOhoqpPn7Ov1URF+B/UIqzFyrFErMKK/faRZXseocmJyHk5W7DgQFe6HmE6BddYeGNGvnaMAXGKyvWgXKor29YgKdMyK+GdfUrXzjiRmobjECEEm4Lq+4VAqZMgpKMPp8/nVpuSnZelQWGwP/3271j3yFOTrhhsHd0TbIA9UuS4DAOjWIcDxWrFYbCitKATXXFy1SrhVBPjSclO9Swq6dwzEbSM6O/pX0qgUCA30cMwgKimvfsGiqMSAQ6eygIrntkenoBozVxQKGfp2CcbQ3m0h1PF8NYanmxqP3Nqzzh0qLsZiFR0XRbw8NDVmpqDid4xMJsBqtTme57o8cVffagU1K7lolIgI8wYqZj+YL6EOAVFT3XbbbVi+fDnGjx9f7eJwJZlMBoVCgbvvvhurV6/GDTfcIO1CBJlMhlGjRuGFF15AYGBgra+lqjw8PPDII4/gnnvugUZT8z0gEVFT1HznRo2mUSugrmO6uUatQOcIe2A0W6wwWxr+JlallGNo77YAgJIyEw6dynJUu0bF1NajidlAxbrzAN/6q1U3l7ZBHtWqNl/MrqNp+P7PeMz76l/H7XRK7evPAeCW6+zVo4tKDNh3PB1G04V10+czipCcWQxRFOHv7YphvS+MEqbnlsBqs0EEcCa1EO8v21ntc1a9nUkpACDCbLUhv6jhsxzqk5JVDJPZCkGwXwyoq3q4WimvEfKqOngyy1F0LTrSHz71rElWqxVo18YekjLzSmGoKA4oCECAj6vjazicYA+Zlc6mFEJvtEAuE/DgzT0QGeoDm03Erooq6Ki4OBR/Jgd6o/1Cys1Dq1fpr0qplMFFo6j1TY1KKUfHcHvAs9lEGBpxsUqqTG/CXzvP4pMV+xzP5Uc/7kFxSfVgXRetRlnnBSZ/bxd4V4yy66tcPEJFvYvKY17u6hozNSrJ5TJo67j/xtKqlegVfenTKGUyod7XDirWwdtEEYIgOGYH1KXqUhip7u3to09msw2WRvyOI2ouCoUCffv2xdKlS7Fq1SqMHDkSCoX996yrqytuueUWrF69GkuXLkVUVFSj17RT6+Hu7o4XXngBy5cvR0REzSWHAKBSqeDh4YGPP/4Y8+fPh59fzYuYRERNdU0HdZnswnh4mcFcvSJxAxQU62G12SAIAtxcLv3Nd+XXoCsz1hipu5gR/SPgqrWH4qT0woqAaXfyXB4Sk/MhEwQM79uuxijhZVNLGKvKahNxJqUA7369A6Me/xZT31qDd7/egeXrjjlu9VXWHtwzDH7e9lCw52iaIyjabCLOpNorTQPA3aO7VPtSMnNLYLOJsNlEnDyXW+3zSW9nUgsq1mULUNYy0ngpKsdxBUFocMGv2iRlXFgK4OWuhlpV9xtKmSCgTUVBQKDKF1Exc6BjxcyBMr0ZP60/DgAo0Olx4lwujCYLenUOhruLCpGh9rB/KikPxooK8flF5UjOtD9P/bu1ceyCcCkqnyaDyYL8osZNjS43mLHtwHk89sZqxE35BjM+/BufrzrgeC5/3XwKxaX1jwY3VOXXmZRe/fVZdYzew01T50WY5lb/T1r9FHLB8ZwlJuejoLj6415absKx0zmwWUWoVXJ0aGufvn5JKr7Q4lJDtYuJRFeah4cHbr/9dmzcuBFBQfZlIrGxsfjtt98wZswYaLWX/ruZWg9BEDB8+HDs3LkTX375JW688UZ06HChTtGcOXNw4sQJTJgw4aLLLYiILtU1/dvF003jmIJaVGJAWiPXxmbnl8JqtUEuExAaWHsl5MvN11PrKGKXmVeK0ykFjhHPym2afDy16BEVBPVFRsSulKS0Qsz/egeW/3UMBcV6hAd7oX+3NrhpSEfHrb6g46pVoU+0fZp1YsUWbKh4Do8mZqHcYIZWrcQNse2rnWc0WSFWhNeINl7VPl9dt1uu64SuFaOBLZEA1Lmkw8NVjc4R/o4LOAdP2dcgJ2cUI7ti7X+fLsHwcFOjR1QglAoZzqUV4tjpHIiiiLScEpyvCKy9mzCy2xRGkwVrtiXizc+3Ye+xdMhkMnSO8HPsWX7TkI4YOSDSUQCNLtColbg+NhIKuQwnzuZg6W+HsSc+HcfP5uDAyQx8tuoAdhxJhU0U0SHMBz3rqOhPRNRaBQYGYtKkSfjzzz8xd+5cx/GJEyeiTZuGFwolIroU13RQ7xkV5BgtLSkzIiuvZmGyumTmluBcWiGsNntl7sp1wFfD7SOjoVUrUVJmxP4TGSgqMUBXpUBYdKSfY1szZ/Dr5pM4cDIDcpkMNw/rhJmPDsFrTwzH/z090nHr3qHuUOCmVWJIrzBo1AroDWZHYa+8ovIqxbGC0Tak+nPi7amFTADkcgGDe7at9vnqur3w0KBmf27txQerT51ujMoZFA1hE0XkVYxQK+SyGpMdOoT5OAqtHU3MQWZeKTJydI5zRsW2h0IuQ3iQp6Oo3Oa9STCYrIhPzEa5wQw3F5VjCcaVdjqlAH9sSUBeUTlctSr8586+mP3YdXhzWpzjOZw1eWiNCu2Xk9FoQYmk6J5zEmG12qe1my02/P7PKby2+B+88dk2vL54K3766xhKyoyIaueHp+8f4Hj+iYiIiOjqu6aDeoi/O6Iq1sYW6PQ4mpjd4GmZB05mIi3bPgLv4aaqthb6SouO8EPnCHu17WNnclBQrMf2A8nILSyDWqVAz6ggBF6h9ekNsWV/MqxWEeEhXrh7dDcM6B6KkKrTsy9CLpchMtQHbSv2c966/zxsNhEJ5/OQmlUMABg9uEONacF+Xi4V+96LyCm4sKf4leKqUUImEyCKIrLyShv8WpNqU1HFHhVr8qWV2Kuy2UTHY+LtoamxzrhLpB8iQrzshfNKDdh9NA2nUwqgKzMioo2XY8p7gK+bY5bD3mPpMBjNOHY2BwDQMdy3Uc9fc0pKL8L5jCKIIjCwRyjuu7Eburb3r1H9/XLzclM71t8XlRgcRQOdWZnejJ/+OgaZTMBNQzriur7tUG6wIOG8fUu20AAP3DmqC15/Yjh6RjWskjwRERERXRnXdFAHgMG97FXXLRYbNu9NwqmKatr1OZdWiN/+OYWCiq2uro9t7xiVvBoE4UJ184ycEhw7nY2Ne84BFQWwOkdU3zf6aqucqh4R4gV/b5cagbohQvzd0LFizWxKZjF2HEnF7vh0mC02hAd7onvHmtPV24d5Qy6XQRRFnE0tqFFA7XJrE+gBVcU09JyCMhw7Yx/9l0rOLMbplHxY66hOPnZoR2jU9iJIRxKz693u6tiZHBw7Yw/U7cN84CoJsFqNEp3CfaGQy2CyWLH9YDLOpBbAZhPRrcqshnYhXoiO8INMJiA1qxg7jqTh5Dn719+zUxA0FdXQrzRd2YU1z4N7tq1xIeJK6RTuC/eKAor5xXokZ9ovjkgVlxpx7Ix96cDVtnlvEjJySxDi74bbr4/G20+NxO8L78XmLx7GX4sn4Ou5t2H6w4NqreRORERERFeX86S7y+SRW3shKtwXgmAPkPO/3okdh1NRWm6CqaJoFgCYLTaUG8w4k1qAt5Zsx/7jGQBEtA32xMRxPavd55UmCAKu6xOOIF832EQRm/Ym4d9DKRAAtAlwR6cmFIGq3CIsp6AMxaUXRm6tNrHOIHkxldWhz2cUIa+ovFohLpPZij+2JGDvsfQqR2vy9tCiT5cQeLppYBNF/Lb5FPbG28/p1iEAnm41t0Hp3TkYXSPtAT41W4e/dp5FXmF5jdBkE0UYTBboSo0o01/6FHWp7h0CEFFRgT2noAzrd5xBgU7v+P4tFhvOphVi4fe7cfBkZo2vq5JGpUDfLiEQBHtxt7XbT9colma12lBcasCiH/bAYrVBo1ZgeN928PWsOQW8Z+cg+970Fhv2xKcj4XweBKH6unO5TEB4iBfctCrYRBFf/nIQZXoz3F3UGNC9DbQVFw6uNBeNyrFl2s7DKTBbLvzMAkCp3oRPV+5HSh3BubnI5TIM6mGf/p9baH9uU7N1qHwKbTYRmXmlWPj9bmw7kOw4fjVVLoNIy9bh579PIiu/FGaLFVabCJsIWK0i9AYLdGXGar8LLwe5THDMSEhKK3LU2bDZxEbthEFERETUWlzzQR0AnpkQi8hQb8gEAQnn8zDzw42Y9fEmfPPHYew4lIIdh1Lww7p4zFv6Lx6Z/TsOnMiATBDQPtQHLz86FAE+V3/tpqe7BjGd7COgOw6nwmyxQa1SoG/XNvC/xK9PpZQjpmMgZIIAk9mKj37ci4MnM3HoVBY27TlXrcJ8Y/TpYi8Edy6tECs2HEf86WycTS3AibO5+P7Po/joxz0obUD1++hIfwT52b+3fcfSkVtYBjcXFeL6R8Dbo2ZQB4CJt/aEt7sGJrMVv2w6iTc+24qNe5JwJCEbRxKycfBkJjbvScLin/bj6XfW4bNV+6V30SS3xXWGVq2AxWrDP/uS8NVvh7HvWDqOJGTj500nMeujTdiy7zy8PbWQ17HXtiATcM/orgj0sU9FX7bmCF5bvAU7j6Q6vofVWxPxxNy1OHo6GwqFDANjwjAwJrTWCvaDeoQhwMce4Mv0JuQWlsPDVY0+kgJxHdv6wLNif/ukdHvl+TaB7nU+1ldCaKCHY1nH9oMpWPn3CSScz8eZlAIcOpWJ1xZvwYoNx+vcZ7453XxdJ/h62WfW7D2Wjs9XHcCuo6k4kpCFv3efw8sLN+L3Lafg46mtUSvgaojrH4mObe1LZtbtOI3bn/8Jox5fhtH/WYY7X/gJE2f/homzf8ML723A93/G41xaoSNAN7d2bbwcyxX2xKfhl00ncSQhG5v2JOGffUnS7kREREStXs139deg/t3a4NkHBqJf1xBo1AqUlBuxdX8y/vfTPjz59p948u0/sWDZLvyxJQEl5Ua4aJQYEBOKZybEol9Xe+i82jxcVejbNaRadWsXrRKx3UOr9WsMpUKO2O5tEB5iXwu+60gqXnj/L0z/YAPmf73DsTVXY42P64z2od6wiSLWbE3Ef//3D177dAte+WgTFq/YD4PJir5dL14tNbKNFzq29YVcJjjWaVcNbrUZ3DMMU+/tj4g23rBYrNh2MBkvfrABLy2w36Z/sAEzF23EN6sP43BCFgorljc0l7FDO+K+G7vDTatCUYkBy9YcwcyFG/HSgg1475sdSEovQmxMKO65oWud08kFAL2jQ/DgLT3QJsAdZosN/+w7j6fe/hMvLdiAF97fgDe/2IYT53KhVskxrHc4Jt/eC+GS4npVDephXwJSqWNbX2g11UfJ24f6IMTfzREyZYKAbu0DEOR3ddano2LK+fB+7eDhqobBZMH/lu/F7P9txn8X/4Pp72/Apj3nEOznji6R/tJTm12f6GA8eU9/+Hu7okxvwuqtCZi5cCNeXPA3Xlv8D46dyUGXyAA8NyEWcifYrkerVuDGIR2hVtmfZ28PLfy8XeDjpYXZYkNyZhGSM4uw73g6Pv5xL/7vy39xomK5Q3PrEumPbh0CIBMEFJca8f63u/DSgg149X+bsO1gsrQ7ERERUat39d9NXgEKuQyxMaGYMWkInp8wEMP7tkNogEe16tquWhVCAz0wamB7PPfgQMx4ZDBiu4fWu/a7cj2wRqWot1/lPthatdKx9riSUiFzvJGur0CWUiFH1/YBCA++EMY6hfsiqp19xOxStWvjjcfu6It+XdvAzUWFQp0BJWVGRLbxrlYFWiYI0GqUUMhl0KgUjmmstenVOQgvPDwIY4d2RLCfG1Iyi3HsTC5Ky03o360Npj88CHdc3wWouF+FvPb7UqsUGNKrrWOUV61SoH+3Nhet0j4+rjNemTwUD4yNQecIP7holMguKEN2QRn0BjP8vV3ROzoYt1wXhftu7CY9He6uaqBixkFtI9QXM+m2XnjpkcHo17UNXLUqFBTrUVRqQIcwHzxwU3e89Mhg9O4SUjEd2P4akHLVKnHr8CjMeGQIbrmuE9oGe0IulyG7oAwlZUb4emoxqGcYXpo4BM9NiL3oFnM3DOwAN5cL31dMp0C4aKq/3jzc1OjTJcQRMj3d1egRFQRPN/t5tfGoeKyUcjlUyrqnx1euLVcq5I7HtyE83dS4b0w3PHlvP/SODoZKKUdicj7OpRbCVavC7SOjMfuxYehbMYtDqahZ+V6jVji+p/p+xuRymWNkvq4K6DcP64TpDw/CsN7h8HLXoKTMiNzCcrQJ9MBdN3TFixMHIa5/JLRq+8+Iopbntj4KhRyait8Hldvq1UelkkOtUkAmE2osTziTUoC/d59FucGMmI6BePnRIXjzyTi8+WQc3npqJOY9cz2emxCLqHa+sNpsOJKQib92nkVJub0mgCDYw75CLoNWrah3r+DK32suGqXj66/Kz8sFT9zdFzcO6YAgPzcYTRbkF+vh5+WCTuFN+x1GREREdC1yvKXtcdfiaqsqRw6IwKtThsHb4+oVUbsczBYrSstN0BstsFhsjnXYcpn9TbWLRglXrbLOvamrysorhd5ogYtGAV8vlzrDemZeKQxGCzRqBXw9tdUKYhlMFuQVlsNsscHLXV3v460rNWLe0n/x57+nAQCvPDoUd4/uKu3WaCazFboyI8oNZlitImSCfbTe0+1CFXGL1YaMnBLYRBFe7hp4VqmCXRurTURpuQll+gu1ABRy++Pr4aaGxWJDZl4pFHIBPp4ude6DbTBakFtUDovFBplMgLe7Bh71BMdKoiii3GBBabkRRpN9XS4AyGQCFHIZVEo51Ep5rfeVnV+KcoMFGrUcvp4ul1TAzGK1oajEcOExlQEalRLuriq4aJQwmqzIzi+FKIrw8XKpM0Daqj6OFitsNnuAUipk0KiV8HRT1/m6q8pitSEjt8TxtXi5a+DhWvM5LCkzIr9YD1G0P1++Xlq4aGp/blCxFr9Mb4ZKKYefl9Zx0Ukqr7AcJeUmKBQy+Hu51LhgdTEmsxXFpUYYTPafW5lMgFIhg7urGm5aJYpKjCgqMcBFq4Sfl0u1ZQV6gxl5RXpYrDZ4uKod09elDCYL8ovKYTLb4Oaigr93zfX+qHgsdaVGlBnMsFZMFdeoFHBzUcFFq4RMEJCSWQxRFOHproFXxYWmhjCZrcgrKofJZIVKJb9otX2DyYKc/DLYRBHuLtW/t5cXbsL6nWcQ5OeGGY8MxtDe4TWWW5jMVhTq9Lj7xVUoLjWgZ+cgzH7sOrQP9YYoAroyIwp1egiCgGA/tzp/FkrL7Usq5DIB/t4u0NbxmikuNaC03AyT2QpBsF/A8XBTw60RWxJSw5nNZqhU9sd20aJFeOqpp6RdrmlhYWFIS0vDyJEjsXHjRmkzUaP89NNPuPfeewEA6enpCAlxjhmXRNTy7D6ahreWbENqln2HsUpx/e3529fLRUBrDOot2bEzOZj7xTacSsqDm4sK/349SdqFiAgAMOihJSg3WDC0dzhmThqCNgG1h35RBO56cSXOpOSjW4cAzPnPdY617dSyMagzqFPzYVAnoubS0KB+8aE4cgpWqw2nkvKQlG5fN37jkI7SLkREDhar/dqrrtSAQp0etlpK0RtMFuyOT0NqVhEEQUBEG+9adw4gIiIioiuLQb2FKNAZsONwCowmC1RKOW4e1knahYjIoX83e8HGxOR8fLv6CNZuS8S+4xk4lJCFgyczsfVAMpatPoLXFv8Dk8mKYD83XNcnHD6enEVFREREdLUxqLcQadk6HD6VBQDo2j4AUSzARET1mHJ7H/SMCoLJYsOGXWcxb+kOvPXFNrz1+TbM/WIb5n6+FZ+uOoDs/DK0CfTAg7f0wIAm7CJBRERERM2HQb0FEEUR8WeyUVhigFatRFy/do2uJk1ErUv3jgGY/fh1ePaBWMTGhMLbXYPzGUU4k1qAc2mFsIlA1/b+eHR8b3z44hjcOjwK7q4s6kZERETkDJj2WgBBEHD/mO7YtWwy/lnyMO6/qXuDKn0TUeslkwloH+qN+2/qjkUzbsTPH9yNXcsmO25rP74fS+aMw9S7+6JDW596q/sTERER0ZXFtNdCKBT2vYw1agXkDOlE1EBymWDfjlClgFZ94aZRKaBSyvn7hIiIiMgJ8R0aERERERERkRNhUCeiBrHZROTmFUoPExERERFRM2NQJ6IGMZpMWPLD78hhWCciIiIiuqwY1ImoQaxWG7btPIivlv+B/MJiaTMRERERETUTBnUiarAid398la3Atz//hSJdibSZiIiIiIiaAYM6ETWYWa1FUtfr8HmSAd/88jeKdaXSLkRERERE1EQM6kTUKCatO5K6x+HT02VY8sPvyCsoknYhIiIiIqImYFAnokYzat1xLiYOn2XIsOS735CTVyDtQkREREREl4hBnYguiUnjhqSYkfimxANf/vAH8vI5sk5ERERE1BwY1InoklmUapyJGoKv8jX4ZsUarlknIiIiImoGDOpE1CQWpRrJXYZhSZqIr3/ZgKJiVoMnIiIiImoKBnUiajKTxhVJ3Yfj09Ol+HrVOhRwn3UiIiIiokvGoE5EzcKo9cC57nH49LwZX7DAHBERERHRJRMq/9HjrsVi1YaRAyLw6pRh8PbQVj1MdFGlZeXYue+o9DC1cEajCa+v3osDo6ZIm6pRmvSIPLUDD3uW4NH7b0WAn7e0CxFdAWazGSqVCgCwaNEiPPXUU9Iu17SwsDCkpaVh5MiR2Lhxo7SZqFF++ukn3HvvvQCA9PR0hISESLsQETXI7qNpeGvJNqRm6aodj+tvz9++Xi4CGNTpcjifmomJb3+FvNDO0iZqwUQRKFa7I71jf2lTDQqzEe1PbMMkn3JMmXAbvL08pF2I6DJjUGdQp+bDoE5EzYVBna6apJQMjPt4LY4NvlvaRK2I0liOyPjN+E+EGg/fMRrenu7SLkR0GTGoM6hT82FQJ6Lm0tCgzjXqRHRZmNUuON/1Onx2thzfsho8EREREVGDMagT0WVj1LojqXscFp/V44vvf0NufqG0CxERERERSTCoE9FlVRnWl+SqseT731kNnqg2JgPMf/0Aw5yHoJ95Fyz7Nkt7EBERUSvCoE5El51J44pzXYfjW50Hlv7wB/IKiqRdiFotW14GDAtegHH+NJjXfQ/LplWwnY2XdiMiIqJWhEGdiK4Ii1KNM1GD8VWeGt+uWociHdesUytntcB6YAvKJw+DedUnEHWFgGizt1V+JCIiolaJQZ2IrhiLSoPzXYfhi2QLvvnlb4Z1arXE4nyYvnsf+pl3QUw/C8HbH7LILtJuRERE1EoxqBPRFWXSuCGp+3B8eroMS5ev4TR4apUsuzfAuOQNiPpSyPsMh/rJt6Ga+LK0W5MkJyc7/r1r1y4sX74cO3fuRHp6erV+1xK9Xo8jR45g5cqVKC8vBwAUFhbi8OHDjv8TNVRZWRn279+PH3/8EZs3X6gbER8fj5ISXmgmosuLQZ2Irjij1gPnYuLwWRqw5LvfWGCOWh+LCbKgtlD/Zy40MxdDeeujEFzcpb0uidlsxo8//ogXXnjBcWzFihWYOnUqnnjiCbz44otYv349LBZLtfNaOp1OhwULFuCZZ57Bk08+icJC+y4Tp06dwpNPPokFCxY4jhFdzMmTJzFr1iw89dRTmDp1KpYuXepomzlzJp599lnEx7OWBBFdPgzqRHRVmDRuONc9Dl+XeODL73/n1m3UqigGj4X23V+huvtJyNp1ljZfsrS0NLz44ouYMWMG1q5d6zhutVpRWFiIo0ePYtWqVZg6dSrmzZuH/Pz8aue3VImJiXjggQfw3nvvYfv27cjNzYUoigCA8vJy7Nq1C/Pnz8cDDzyAhIQE6elEDhaLBX/99ReefPJJfPbZZ9izZw+KioqqXdg6fPgwvv32W0yePBk//vgjTCZTtfsgImoODOpEdNVYVBqc6xiLn1KN+Hr5GhQVcyohtQ6Cl589oKs00qZLZrFY8NNPP+Gzzz5DamoqrFartAtQMeKelJSEd955B9u2bYPN1vIL1919993YsGEDCgsLa/1+RFGETqfD+vXrcccdd0ibiRwSExMxffp0bN26FQaDwXHBR8pisWDfvn2YNWsW/v33X2kzEVGTMagT0VUjt5gQfnY/xgfJ8dDdY+Hl2TxTf4laG1EUsXv3bixZsqTBo3ulpaV44403cP78eWlTi2GxWDB//nwkJCQ06PsWRRGJiYmYM2fONTf1n5qurKzM8Xqq7YKPlCiKSE5OxsKFC5GamiptJiJqEgZ1IroqlMZytDu2FROU2Xj8odsR6O8j7UJEDWQwGPDHH3/g7NmzDQoYlY4dO4aVK1dKD7cYp0+fxrJly2AwGKRNdapcw3/q1ClpE7Vy27dvx48//giz2SxtqpPNZsPatWuxceNGaRMRUZMwqBPRFacylKLdsS141LccT0y8A0EBvtIuRNQIRqMRu3btalTAQJX1uC3VwYMHL2mdfVFREfbs2SM9TK3ckiVL6pzqXh9RFLFixQrpYSKiJhEq/9HjrsXVfjONHBCBV6cMg7eHtuphootKSsnAuI/X4tjgu6VNRFAZytDu+FY82laBR++4Ab7entIuRK2SZevv0E+/DQCgfv4DqO57TtqlTjk5OYiOjkZBQeN3UHBzc8PDDz8sPXxVWCwWGI1G6eE6HTt2DEeOHGn0BQqFQoHu3bujR48e0qZrmsFg4JT/evz111+XvO2au7s7dDqd9DARUQ27j6bhrSXbkJpV/XdGXH97/vb1chHAoE6XA4M61UVhNqDdsa2YHGTBo3ffBD8fL2kXolarKUE9OzsbkZGRl7xXuFKplB66KkRRbNSIps1ma1T/qgRBgEzWuiYWXupj1Vo0ZtlIbfj4ElFDMKjTVcOgTrWRWc2IPLUDD6pz8cTEO+Dv6y3tQtSqNSWo5+fnY9iwYThx4oS06aLUajVcXV2lh68aQXC8Nbkog8GA8vLyRgckQRCg1Wqh1bau9ziCIDTq8W1tCgoK6twt4WKUSmWDChoSETGo01XDoE5SSpMebRN24UFNHh5/6HauSSeqRVOCellZGZ5++ml8/fXXjRoVlMlkmDRpEmbOnCltuioUCgU0moZvWff9999j7ty5KCwslDbVy8vLCy+99BImTZokbbqmaTQayOVy6WGqMGbMGOzcufOSLvz07t0b+/fvlzYREdXAoE5XDYM6VaUylCL8xHY87FWOyRNuRaA/QzpRbZoS1C0WC37++Wc899xzyMzMlDbXKTQ0FN999x2uu+46aVOLcPDgQdx3331ITEyUNtUrMjIS33//PWJjY6VN1IotW7YMkyZNavQ6foVCgXnz5uGFF16QNhER1dDQoN66FmcR0RWlMpSi3fGtmNxGwH8m3sGQTnSZKBQKXH/99bjtttugUCikzbVSKBSYPHky+vfvL21qMaKjozFu3LhGjRLL5XJcf/31iImJkTZRK3fTTTdh1KhRjXo9CYKA2NhY3HzzzdImIqImYVAnostCadQj/MR2TA5TYNKdo1ndnegy8/HxwZQpUzBo0KCLFkmTy+UYN24cHnzwwRa9Tlur1eKVV15BVFSUtKlObdq0wVtvvQUXFxdpE7VyPj4+ePnllxEaGiptqpUgCAgMDMS0adPQoUMHaTMRUZNw6js1u6SUDDzw1lLkhnaRNlELV+7qhYz2faSHa5BZzYg4vg2PuBXhiYl3wIchnag6UQREG1DlL69l+x/Qv3g7AED97HtQ3fvshUZBAC4SvisZDAbMmDED33zzDYqLix3HKwuJ+fn5Ydq0aZgxYwZUKlW1c1uqI0eO4J577kFiYmKd64uVSiVCQ0Px888/o1evXtJmIgCA2WzGqlWr8MorryA5ObnO11Plz9JLL72Ep556Cmq1WtqFiKhWDZ36zqBOza6ktAzbdh2SHqYWzmgy4//WHcCBUVOkTdUozEa0S9yFCaoc/Ofh2zndnagWlp3rYPrsvxAN+gsHy0tgy0oBAAgBoRDcLlzgkvcYDPXjr0PwDbrQ/yK2bNmCESNGAAA6dOiAbt26oXfv3hgzZgz69esn7d7i5efnY+bMmdi0aROys7NhMBgAACqVCgEBAYiLi8Pbb7+NoKCGP4bUeh06dAivvvoqjh49itzcXJjNZkehxtDQUISFheG///0vxowZIz2ViKheDOpE1KxKy/QYPuN/9QZ1laEMbU/+iwfddXjswfGs7k5UB/Pab2GYOxmwmKVNtZL3vx6a2V9CFtRW2lQns9nsGDFftGgRnnrqKWmXa45Op8OePXuwc+dOZGVlAQB8fX0RGxuLoUOHwtOTs3uo4QoLC7F7925s374dBw4cwIYNGwAAS5cuxS233AI/Pz/pKUREF8WgTkTN6mJBXaUvRbsT2zApWMSku2/kPulE9bClnIZ13yaIDQzqsuB2kPcbAUHrJm2qU2sM6kSXy08//YR7770XAJCeno6QkBBpFyKiBmloUG/YgjcionoojWVod2IbJrdVYPI9NzGkE12ErG1HKO/4D1T3PNWgm2LYLY0K6URERNSyMagTUZPIzUaEn9yBRwKtmHTHDfD18ZJ2ISIiIiKiRmBQJ6JLJreYEZm4Cw+6FWPSPWO5BRsRERERUTNgUKcGOXT8NHbsPdLst10H4pGWmSv9dNQCKI3laHd8Kyaoc/DYg+MR4Mfp7kREREREzYHF5KhBJs5aiD3wgUnjKm1qEv/yfDwVG4kHbh0pbSInU7WYnMpQinbHt+FhPyMevW8cAv19pN2J6CpjMTmi5sNickTUXFhMjpqVUaFGWqdYnIsZ2Wy3pO5xyAuJgk2sdo2InJw9pG/F5LYK/OfB8QzpRERERETNjEGdiBpMadIj/MS/eLSNDI/cPgo+XJNORERERNTsGNSJqME8irPxkFcpJt01Bn6s7k5EREREdFkwqBNRg8hkAgb164HJE25jSCciIiIiuowY1ImoQTRqFR5/6HYE+ftKm4iIiIiIqBkxqBNRg8hkMgQFMKQTEREREV1uDOpEREREREREToRBnYiIiIiIiMiJMKgTEREREREROREGdSIiIiIiIiInwqBORERERERE5EQY1ImIiIiIiIicCIM6ERERERERkRNhUCciIiIiIiJyIgzqRERERERERE6EQZ2IiIiIiIjIiTCoExERERERETkRBnUiIiIiIiIiJ8KgTkREREREROREGNSJiIiIiIiInAiDOhEREREREZETYVAnIiIiIiIiciIM6kREREREREROhEGdiIiIiIiIyIkwqBMRERERERE5EQZ1IiIiIiIiIifCoE5ERERERETkRBjUiYiIiIiIiJwIgzoRERERERGRE2FQJyIiIiIiInIiDOpEREREREREToRBnYiIiIiIiMiJMKgTEREREREROREGdSIiIiIiIiInwqBORERERERE5EQY1ImIiIiIiIicCIM6ERERERERkRNhUCciIiIiIiJyIgzqRERERERERE6EQZ2IiIiIiIjIiTCoExERERERETkRBnUiIiIiIiIiJ8KgTkREREREROREGNSJiIiIiIiInAiDOhEREREREZETYVAnIiIiIiIiciIM6kREREREREROhEGdiIiIiIiIyIkwqBMRERERERE5EQZ1IiIiIiIiIifCoE5ERERERETkRBjUiYiIiIiIiJwIgzoRERERERGRE2FQJyIiIiIiInIiDOpEREREREREToRBnYiIiIiIiMiJMKgTEREREREROREGdSIiIiIiIiInwqBORERERERE5EQY1ImIiIiIiIicCIM6ERERERERkRNhUCciIiIiIiJyIgzqRERERERERE6EQZ2IiIiIiIjIiTCoExERERERETkRBnUiIiIiIiIiJ8KgTkREREREROREGNSJiIiIiIiInAiDOhEREREREZETYVAnIiIiIiIiciIM6kREREREREROhEGdiIiIiIiIyIkwqBMRERERERE5EQZ1IiIiIiIiIifCoE5ERERERETkRBjUiYiIiIiIiJwIgzoRERERERGRE2FQJyIiIiIiInIiDOpERERXk8UM2/lTMLw1BSXD3FDST4D51y+kvYiIiKgVYVAnIiK6SsSiXJj/XAbDnIdg/m0JoC+zHzeUSrsSERFRK8KgTkREdBVYTx+FcfF/YfzwBVhP7gcUSmkXIiIiaqUY1ImIiK4w6+HtMM57AuY1X0EsKYK893VQ3fuMtBsRERG1UgzqREREV5gt9Sys8bsgaN2gfn4BtO//AXmPwdJulyQ3NxeLFy/GiBEjHMcWLlyI2bNn4/Tp09X60pV15MgRvPTSS+jWrRtCQ0PRsWNHTJgwAevWrZN2JSeQmZmJ9957DwMHDsTTTz/tOL5kyRKkpKRU60tX1u7duzFt2jR06dIFoaGh6Ny5M6ZMmYKtW7dKuxK1WAzqREREV5jg6g7FyLvg8u0+qO57FoKrOyAI0m6NYjQasWHDBowaNQrPPvssduzY4Wg7e/Ys5s6di+joaHzyySfQ6XQQRbHa+XR5iKKI0tJSfPLJJxg3bhwWLVqE48ePIz09HWfOnMH333+P22+/HZMmTUJ+fj6sVqv0LugKEkUR5eXlWLVqFWJjYzFr1izs3r0bOTk5jj5z5sxB9+7d8d1336G0tJQ/S1eIzWaDTqfD66+/jnHjxmHJkiU4efIk0tPTkZCQgCVLluDGG2/ESy+9hKKiIthsNuld0BWg0+mwevVqTJkyBV27doVarUZISAhGjx6Njz76CCdPnoTZbJaeRrVgUCciIrrCFHF3QPv2T5CFREibLonRaMQXX3yByZMnIz4+HiaTSdoFAGC1WjF9+nRMnToV586dkzbTZZCfn4+ZM2filVdeQWpqKoxGo7QLDAYDvv76a4wbNw579+6VNtMVVFxcjHfffRfTpk1DampqnT9LOp0O06ZNw6xZs5CVlSVtpssgOTkZTzzxBN577z3k5ubW+rOk1+vx4YcfYsKECThx4oS0mS4jvV6PvXv3YurUqbj11lvx1Vdf4cSJEzCZTMjMzMSGDRvw9NNP4/bbb8fXX39d7eIX1Y5BnYiIqIXbtm0b3n33XaSlpV10FEmv1+P333/HkiVLUFhYKG2mZiSKItasWYNly5ZddBaDKIrYt28fFi9ejIyMDGkzXQE2mw1//vknPv30U+Tk5NT7fKEi1C9btgzLly9HeXm5tJmakV6vx4oVK/D777+jrMy+O0ZdzGYzNm3ahK+//pq/466g9evXY9KkSVi+fDlEUaxzdtCpU6fwwgsv4K233pI2kQSDOhERUQuWm5uL6dOnIz09/aLBolJpaSm+/fZbbN26tc43U9R0KSkpmDt3LkpKShr03JjNZqxduxZr166tcySXLp/U1FS8+eabDQrplYqKirBo0SLEx8dLm6gZHT16FP/73/9QXl7eoOfGaDTiu+++w7///nvRi5fUdPHx8fjkk0+QmJjYoL8pJSUl+PLLL/Hll19Km6gKBnUiIqIWbPXq1Th79myD3hxVlZ2djfXr1190dIou3W+//YaUlJQGBYtKxcXF2Lp1K0cCr4Kff/4ZKSkpjQp2oigiLS0Nf/zxh7SJmtHatWuRmZnZ4J8lURSRl5eHjRs38qLXZVZcXIzly5dj586djVp7XlZWhtdff50XuerhqFzT467F1V75IwdE4NUpw+Dtoa16mFqp++Z8ijWRI1HqFSBtumSCKCIy9SjmhJnw4G3XS5uJiFoVy9bfoZ9+GwBA/fwHUN33nLRLrYYPH37JlY7DwsKwbds2hISESJtavIa+ob+cbr75ZmzcuFF6+KI6deqElStXIioqStp02TnD43a19O7dGydPnpQebpD27dszcFxGo0aNqlYgs6F69OiBDRs2wN3dXdpEzeT06dN44oknsGfPnkZfMJbL5Xj11Vfx2muvSZuuabuPpuGtJduQmqWrdjyuvz1/+3q5CGBQp4ZiUCciurwuNai3b9/+kgvDyeVyXHfdddBqL+1vvV6vh8VikR52CmVlZVc9dMbHxzdqhKmSTCZDaGgo1Gq1tOmys1gsMBgM0sNOwWg0XtbRUWd4zRC1JoIg4IYbbsD69eulTdc0BnVqVgzqRESX16UG9fDwcO7pTERELdLQoUOxbds26eFrGoM6NSsGdSKiy+tSg3rfvn1x4MAB6eEGcXFxwU033QQXFxdpU4Oo1WrI5XLpYaeg0WggNHFv+qZatWoVUlNTpYcvytfXF3fddRd8fX2lTZedXC6HSqWSHnYKKpUKCoVCerjZzJs375K3jPL19cXcuXOlh6mZzJ8/H0lJSdLDFxUWFobnn38eGo1G2kTNJCkpCR999BH0er206aIEQcCoUaPw119/SZuuaQzq1KwY1ImILq9LDeqvvPIK3nvvvUZPsZbL5bjhhhvw4YcfwtvbW9rcIDKZ7KqH4brI5fKr/rW9/vrr+OCDD6SH6yWTyRAXF4ePP/4YoaGh0ubLTiaTQSZzzlrDl/v19uSTT2Lp0qWNXs4hl8tx991344cffpA2UTN57LHH8MUXX0gP10sul2P8+PH45ptvLvliJF3c8ePH8cADD+DIkSPSpouSyWR44YUXMH/+fGnTNY1BnZoVgzoR0eV1qUH97Nmz6Ny5c6PDhUwmw8cff4zJkydDqVRKm6kZHD58GL17927UumdBEDBnzhy8+OKLDBdX2JEjR9CnT59LKoj122+/4eabb5Y2UTNZs2YNxo0b1+ifpc8//xyPPPKI0878uRYUFBTgtddew+LFixv9d8jT0xPr169HbGystOma1tCg7pyXTImIiKhB2rdvj/fffx9ubm7SpjopFArceeedGDt2LEP6ZdSjRw9Mnz69wdO1ZTIZBg8ejHHjxjGkXwVdu3bFrFmzGlVcUaVS4fHHH8fgwYOlTdSMhgwZ0qjALZfLcfPNN+P6669v8Dl0aXx8fHDfffehR48ejZrxotVqMWXKlFYX0huDQZ2IiKiFe+SRRzB+/PgGbUGkUCjQs2dPTJ48GW3btpU2UzMSBAFPPvkkhg4detF133K5HGFhYZg8eTJ69eolbaYrQKFQYNKkSRg9enSDLpSo1WoMHjwYjz766CUvH6GG8fLywn/+8x/06dPnohe+FAoFOnXqhKlTp6Jdu3bSZroMBg4ciKlTpyIsLEzaVIMgCNBoNBg9ejTeffddaTNV4bjEFNT15mob2EWGemNYn3Bo1bzSTsDPW/Yj0TsSJo2rtOmSCQC8ddkY7mlFj86R0mYiomuWLe0sLP/8CtuxPbCd2A/bif2wHtkB28n9AADBzRMozHO0iQU5EPxDIChrD3sqlQq9e/eGRqNBUlISiouLpV0ca7Zvu+02zJw5E8OHD+dI0xXg6uqKbt26Qa/XIyUlpdatzxQKBfr374/Zs2fjlltuuSrbspGdh4cHYmJioFAokJiYWGuBLLlcDrVajXvvvRczZsxAr169nHZd/7XE19cX0dHRKCwsRGpqaq11ORQKBeLi4jB79mxcd911F71ARs0nMjISERERyMnJQXJysrQZqPjZCQkJwZQpUzBz5kz4+PhIu7QKadk6bD+YDF2psdrxiDb2/D1/3luvg0GdGopBnYio+Vh2/QXjgudh3bsR1n2bYN23CbbEQ4DF/sbTlpEE68EtjjaxOB+KvnEQ3DykdwVUjFB4eXmhT58+6N69Ozw9PZGVlQWj0QhBEODn54cRI0bg+eefx9SpU9G7d2+G9CtELpejTZs26N+/P8LDwyGKInJzc2G1WqHVatGlSxdMnjwZM2bMQFxcHEP6VSYIAgICAtC3b1907doVbm5uyM7OhslkcqxdHz9+PF588UVMmTIF0dHRDOlXiEKhQLt27TBgwACEhobCbDYjLy8PJpMJANCzZ09MmzYNL7zwAgYOHMiQfoVpNBp069YNAwcORGRkJFxdXZGfn4/y8nIAQL9+/XDnnXfi6aefxgMPPICQkBDpXbQaDQ3qLCZHDcJickREzcf813IY5j4KGOxvYC5GMWgMNLO+gBBw8SrgNpsNer0epaWljmAhk8mg0Wjg5uZ20WmjdPmYzWaUlZVBr9dDFEUIggClUglXV9dGrYumK8NqtaK8vBzl5eX49ddf8cQTTwAAEhIS0L59e17suopMJhPKysqwZcsW3HvvvTCZTFi/fj2GDx/Oi11OwGQyQa/X4/XXX8eiRYtgtVqRnJwMPz8/aDSaVn9xi8XkiIiInJRy9L1w314G931ig27ahesaFNJREcpdXV0RGBiIkJAQhISEICgoCF5eXgzpV5lSqYSXlxeCg4MREhKC4OBg+Pn5MaQ7KblcDnd3dwQGBlZbg+7m5saQfpWpVCp4e3vD19fXEfrc3d0Z0p2ESqWCp6cnXF1dHQXmvLy84OLi0upDemPwkSIiIiIiohapMgjabDZpE11lgiDw+WkCBnUiIiIiImpxGASdW9Xt2kSx2ipragAGdSIiIiIiapEqwyCDoPOpGtR5IaXxGNSJiIiIiKjFqTqizqDufPj8NA2DOhERERERtUic+u68OKLeNAzqRERERETUInHE1nmxhkDTMKgTEREREVGLw6nVLQefn8ZjUCciIiIiohaNQdD58EJK0zCoExERERFRi8Op1c6Na9SbhkGdiIiIiIhaJI7YOi9eSGkaBnUiIiIiImpxGASdW9URdV5IaTwGdSIiIiIiapE4ou68GNSbhkGdiIiIiIhaJAZ158UZD03DoE5ERERERC0Og6Bz44h60zCoExERERFRi8QRdefFCylNw6BOREREREQtTtUgyKDufKqOqDOoNx6DOhERERERtUgcsXVevJDSNAzqrdSZpFScOnO+wTeT0Si9i2ZhE23Iyy+s8fnquxXrSqV3Q0REREStDIOgc+Ma9aZhUG+l5DIZvl65HvN+2ozZfx656O2c0lt6F83CICiwOsNY4/NJb/9dewiLV/6NE2dSqv3QExEREVHrxRF158U16k3DoN5KRYS3wYN3jIbVasVuqwdW+/eu93ayaxzK3Zs3rIuCgNygjtjZ4boan096S8ktQniQL0YO7gMPd1fpXRERERFRK8QRdefFEfWmYVBvxbp2isCrE8ZgSFkSXPTFMLp41H3TusMmV0rvosksKk3NzyW5RSdsx83Bajz78Hh4MqQTEREREUdsWwQ+P5eOQb2Vi4oMw/TbhuCmnIPwLsyQNl9VSrMRvU5twb1harz65P2QyTjlnYiIiIhq4oit8+GIetMwqBP6dOuEaWP64absffDOS5E2XxUqYzm6pxzAg2FKPPXAzdJmIiIiImrlWEzOuVUN6hxRbzwGdQIAxPaMxnNjB2J05j74Z52WNl9RCosR3dIO4aE2Mjx80xC4aNTSLkREREREDOpOjBdSmoZBnRz6dOuI1+4fhesLTyAgM1HafMV0P70TEwJFPDhmEHy8PKTNRERERERco+7kOKLeNAzqVE1UZBheu3ck4gqOwzcnSdp82fU8tBZ3+5rxxJ2j4OPpLm0mIiIiInLgiK3z4oh60zCoUw2d2rXBzPFDMTrvyBUrMCe3mtHr+EbcGShg5pS7oFGrpF2IiIiIiKphEHReHFFvGgZ1qlWP6PZ4+qYBGJu9H94F6dLmZqUylaNH0h5MCFNhxpS7pc1ERERERDVw6rtz44h60zCoU50G9OiMp8b0w5iMPfDLPittbhZKkx7d0g7joTYKTLp1BBQKubQLEREREVGtGASdF0fUm4ZBnerVv0dnvHLXCIzKj2/2AnOCaEO38/vwYJCACWMGwsvDTdqFiIiIiKhWHFFvOXghpfEY1OmiunVqh9fuux4jC0/CvxlH1nsc3YD7/K14dNww+LK6OxERERE1EkfUnZdMJuOFlCZgUKcG6dSuDWbfNRwjcw7DuyBN2twogiii55F1uN3HjBcn3gZ3VxdpFyIiIiKienENdMvB56fxGNSpwaI7tMXz4wZjbM7BS64GrzTp0ev0dtzfVoPZ0yZIm4mIiIiIGowjts6LSxOahkGdGqVfTBSmje6LG7P2wif3vLS5XipTObqnHcKDoQr8567R0mYiIiIiogbjiLpzq1pMjs9P4zGoU6MN6BmN6eMG44bsgw0uMCe3mtEt5SAeCpHhwRsHw91VK+1CRERERHRJGASdDy+kNA2DOl2SXl064PUHRmFk0UkEZJ6WNtcQc2orHggU8fCNg1k4joiIiIiaBadWOy9uz9Y0DOp0yTq1C8Wce+IQlx8Pn9xkabNDz0NrcaePGU/feyO3YCMiIiKiZsERW+fGNepNw6BOTRIVEYqXbhuKG/MO1ygwp7AY0evkZtzTRolX/nMvFAp5tXYiIiIioqZgEHReXKPeNAzq1GS9unbAU2P6YWz2fnjnpwIAVMZyxCTvx4NhKjz38G3SU4iIiIiImoQj6s6NI+pNw6BOzWJAz2g8c9MAjM7Yi5DUY+iWdhgPtZHj4ZuHQa1SSrsTERERETUZg7rz4oh60zCoU7Pp270T5tw/CmNLEvBgkIgHRw+Cj6e7tBsRERERUZNxRN25sZhc0zCoU7PqHBmG+dPuwWPjR8LHiyGdiIiIiC4fTq12bryQcukY1KnZebm7wkWrlh4mIiIiImpWDILOSya7EDV5IaXxGNSJiIiIiKjFYbEy58cLKZeOQZ2IiIiIiFokBkHnxWJyTcOgTkRERERELQ6LyTk3znhoGgZ1IiIiIiJq0RgEnQ+rvjcNgzoREREREbU4giA4CpZxRN35cOp70zCoExERERFRi8Yg6Hy4NKFpGNSJiIiIiKhF4hpo58Wp703DoE5ERERERC0OR2ydG4vJNQ2DOhEREdH/t3fvMV3VDRzHP+fw+3VBYT+8G88odWhqQ8sLzjAcuhqa9x51zbVQMykvNWdOS6WL25NiyXI6HbrKnCtFV3aZhc14vOCGmpkyUUt9upAMUEQRfwrPH9pvcPIGB+174v3a2PR8v+gf56/3+X7P9wDwJELQXLyj7g6hDgAAAMBzWFE3H/en/gh1AAAAAJ5ECJrrzxP5xY6HeiHUAQAAAHgO70Cbjwcp9UeoAwAAAPAkQtBcnPruDqEOAAAAwHN4R91sHCbnDqEOAAAAwNMIQfPwaoI7hDoAAAAAT/rzwDJC0DysqLtDqAMAAADwHELQbKyou0OoAwAAAPAkVtTNxYMUdwh1AAAAAJ7DYXJmY0XdHUIdAAAAgKcRguZhRd0dQh0AAACAJ7Gibi5W1N0h1AEAAAB4DlvfvYP7U3eEOgAAAABPYsXWXLZtc39cINQBAAAAeA4r6t7B/ak7Qh0AAACAJxHq5qp5mBwr6nVHqAMAAADwHA4rMxs7Htwh1AEAAAB4EiFoLlbU3SHUAQAAAHgSK+rmYkXdHUIdAAAAgOcQgmZjRd0dQh0AAACAJxHq5uJBijuEOgAAAADPqbliSwiahxV1dwh1AAAAAJ5k21dyhhA0Dw9S3CHUAQAAAHgOIWg+tr7XH6EOAAAAwJMIQXOx9d0dQh0AAACAJ/F5NnPVPEyO+1N3hDoAAAAAz+FUcbPxaoI7hDoAAAAAT2LF1lw8SHGHUAcAAADgOYSg2XhH3R1CHQAAAIAnEerm4h11dwh1AAAAAJ5DCJqNd9TdIdQBAAAAeBIr6uZi67s7hDoAAAAATyMEzcMZAu4Q6gAAAAA8x7Is2faVnCEEzcb9qTtCHQAAAICnEYLmsW2bMwRcINQBAAAAeE7NFXVC0Dy8o+4OoQ4AAADAk3gH2ly8o+4OoQ4AAADAc/j8l3dwf+qOUAcAAADgSazYmovv3LtDqAMAAADwHELQbLyj7g6hDgAAAMCTWFE3F++ou0OoAwAAAPAkVtTNxRkC7hDqAAAAADyHFVuzsfXdHUIdAAAAgCexom4uHqS4Q6gDAAAA8BxC0GysqLtDqAMAAADwJELdXDxIcYdQBwAAAOBJhKA3sKJed4Q6AAAAAM+puWJLCJqHU9/dIdQBAAAAeBohaB7btnmQ4gKhDgAAAMBzLMuSbV/JGULQbDxIqTtCHQAAAICnEYLm4dUEdwh1AAAAAJ7DqeJm4x11dwh1AAAAAJ7Eiq25WFF3h1AHAAAA4DmsqJuNFXV3CHUAAAAAnkSom4sVdXcIdQAAAACeRAiaixV1dwh1AAAAwKGiokL5+fnasmWL8vLyQtePHj2qc+fO1ZqLO+/06dPKz8/X77//Lkk6c+aMtm/frp9//lkVFRXO6biDiouLtX//fu3YsUNnzpyRJJWWlurkyZOqrKx0Tsd1hP35hzZdn0yrOdD+X1F6rMf9uvduf83LAAAAwD/asWPHtHz5ci1fvlzLli1TTk5OaMX2yJEj+umnnxQTE6MWLVo4fxV3wI4dO5Senq61a9dq9+7dqqysVFlZmbZt26a8vDz9+uuviomJUSAQcP4qbrNvv/1W77zzjt5//32tW7dOv/32m6qrq1VaWqrDhw/r1KlTateunZo2ber81Ubjlz/K9N+9J1RWXvuhRbvoK/298D8LXpek0H6Ebv9eXms/woD4dnrtuccUFXlvzcsAAADAP9Lly5e1fft2vfvuu8rOzlZFRcU1t1T7/X71799fL774ogYNGiS/n4WtO6GkpESrV6/W2rVr9f3338u27Wven4iICCUkJGjmzJlKTEyUbbOJ+HY7deqUli1bpvXr1ys/P1+6znb3qKgoJSYmas6cOerVq5dzuFHI/eEXLcjM0f8Ky2pdT+p9pb+bB8ItsfUdAAAAuOLYsWOaNWuWvvzyS507d+6aEShJwWBQW7du1Wuvvabc3FznMG6T9evXKz09XT/88IN0g/fSz549qy1btmj69OkqLy93DuM2WLlypZYuXar8/HxVV1dfM9J1dQv85s2bNXnyZOcQHAh1AAAANHoXLlzQkiVLtG/fPgWDQefwX1RVVenQoUNaunSpCgsLncNoQNXV1dq1a5dWrFihoqKi6wZ6TVVVVTpw4ICef/55Xbp0yTmMBlJdXa2vvvpKH330kUpKSq4b6DVdvnxZe/fu1cSJE7k3N0CoAwAAoNHbtWuXMjMzdfHiRefQdVVVVSkrK0tbt251DqEBlZeXa8OGDfrxxx9vKdJr2rRpkz777DPnZTSQU6dOaf369Tp27NgtRXpNH3/8sbKzs52XcRWhDgAAgEZv1apVtT4nVReffPKJ8xIaUFlZmbZu3arLly87h26qsrJS69atc15GAyksLNSuXbvq/ABFks6fP89DlBvgMDkAAAA0em3btq33FvaIiAiNHDnSeRkN5OzZs/riiy/q/WmvZs2aaciQIc7LaABFRUXKzs6u006UmpKSkhrdjpRbPUyOUAcAAECj5/P56rViC6D++vXrp5ycHOflf7RbDXW2vgMAAKDRa8zfdQb+DpZlKTIy0nm5lry8PPXq1Uu2bSshIUH5+fk6efKk9u/f75x6U+fOndP+/ftVXFzsHLqm9PR0xcXF6fjx486hO4JQBwAAQKPXsWPHer2jblmW4uLiQp+k4qfhf4qKijR06NB63R/btjV//vy//Jv8NMzP0aNHlZSUVK974/P5NGDAAOflkMLCQs2YMUOlpaXKyMhQSkqKiouLNX36dPXu3ds5/Yaqqqq0adMm9ezZU5s2bXIOG4lQBwAAQKP33HPPyefzOS/fVFhYmMaOHeu8jAYUGRmpYcOGqWXLls6hG7JtW+3bt9fTTz/tHEIDadOmjZKTkxUIBJxDN2Tbtjp16qThw4c7h0KOHz+u4uJipaamaurUqZowYYIeeeQRJScna+rUqc7pN2RZljp37qwXXnhBDz30kHPYSIQ6AAAAGr2hQ4eqb9++CgsLcw5dl2VZ6t69OweV3WZ33XWXBg8erOHDh+vuu+92Dl9XZGSkFixYoI4dOzqH0ECaNGmi0aNHa+DAgXV60BUVFaWFCxeqXbt2zqGQYDCoqqqqWnPCw8M1adIkpaen15p7M5ZlqUePHsrIyFCfPn2cw0Yi1AEAANDotWrVSq+++qratm3rHLomy7LUokULTZkyRZ06dXIOo4G1bt1aqampSkxMvOnDFMuyFAgENG3aNA0bNsw5jAYWExOjl19+WT179nQO/YVt22rWrJlmz56t5ORk57Ak6eLFi1qzZo1eeuklnThxQmlpaRo4cKDmzp0rSXr77bc1bdq00Pw9e/YoJSVFubm52rhxo4YOHapBgwYpIyNDJSUloXkHDx7U2LFjtXv37tC1goICzZkzR8nJyXryySc1b9680NifysvLtWTJEg0ZMkRjxozRp59+qoqKCue0BkeoAwAAoNGzLEv9+vVTWlqaoqOjb/rObSAQ0JQpUzRq1Cj5/X7nMG6DuLg4ZWVlafbs2de9P36/X7Gxsfrwww81Z86cOq3Ao/7i4+P19ddfa9q0ade8N5Zlye/3Ky4uThs3bqwV2k6WZSk6OlpxcXEKDw9Xly5d1K9fP3Xr1k2SlJ+frz179oTml5aWatu2bUpNTdX06dMVGxurpk2bKi0tTZmZmbpw4YIk6cyZM9q5c2foMLnS0lKNGDFCWVlZ6tKlix544AF98MEHoX9XVz8/N27cOK1cuVLdunXTH3/8oQkTJmj79u2qrq710bQGR6gDAAAAku655x5NmDBBWVlZ6tOnjwKBgHw+nyzLkmVZ8vl8at68uTp27KjVq1dr3rx5nBZ/B9m2raZNm+rNN9/UgQMHtHDhQj3++OOKjY1V9+7dNW7cOGVmZuq7777TkCFDiPQ7yLZtRUREKCMjQ3v27NEbb7yhAQMGqEOHDurRo4dSUlK0Zs0affPNN0pMTLzhwy2/36+kpCSNHz9eLVu21OjRozV//nw99dRTzqm1+P1+7dy5U4sXL9Z7772nwYMHKysrS6Wlpc6p0tXgLyws1Lx587R48WItXbpUJ06cqDWnqKhIvXv31qFDh/TWW29p0aJFuv/++/X555/X+9vxt4pQBwAAAGqIj4/X5s2blZmZqfHjx2vkyJEaMWKEUlJSlJ6erpycnBsegoXbr2vXrpo5c6a2bNmigoIC7du3T2vWrNEzzzyjNm3aOKfjDnr44Yc1d+5cZWdn6+jRo8rLy9OqVas0ZswYtWjRwjm9wcyaNUvR0dHS1VclHnzwQRUUFIRW1J2ioqLk9/uVm5urgoKCa4b3fffdp5kzZ4b+HhMTow4dOujw4cO6dOlSrbkNjVAHAAAAHJo3b65Ro0ZpxYoV2rBhg7KysrRy5Uo9++yzat26tXM6gL9ZVFSUbLt23p4+ffq6Qd25c2dNnjxZOTk5Sk1N1aJFi3Tw4MFacwKBwDVX/0tKStj6DgAAAABAQ5sxY4aWLFmivn37at26dZo4caKOHDninPa3INQBAAAAAI1ORESE+vfvr9mzZ+v1119Xfn6+tm3b5pz2tyDUAQAAAACNSjAY1IULFxQMBuXz+RQZGamwsLDrbpW/0wh1AAAAAMA/im3boa82XEtmZqaeeOIJpaamatKkSXrllVfUqVMnjRgxwjk1xLIs2batsLAw51CDC/0Pbbo+mVZzoP2/ovRYj/t1791/fXkeAAAAAIDbJRgMqrq6Wn369Kl1kn9ZWZliYmLUt29fSdLFixdlWZYSEhJqnSpfWVmpli1bauDAgQoPD1cwGFRVVZUSEhLUqlUrNWnSRD6fT2fPnlWTJk2UlJSkWbNmKSYmRpJ0/vx5BQIBPfroowoPD5euhnplZaViY2MVHx8vn88X+v9u1S9/lOm/e0+orLyy1vV20Vf6e+F/FrwuSaHHC93+vbzWsXUD4tvpteceU1TkvTUvAwAAAACAesj94RctyMzR/wrLal1P6n2lv5sHwi2x9R0AAAAAALMQ6gAAAAAAGIRQBwAAAADAIIQ6AAAAAAAGIdQBAAAAADAIoQ4AAAAAgEEIdQAAAAAADEKoAwAAAABgEEIdAAAAAACDEOoAAAAAABiEUAcAAAAAwCCEOgAAAAAABiHUAQAAAAAwCKEOAAAAAIBBCHUAAAAAAAxCqAMAAAAAYBBCHQAAAAAAgxDqAAAAAAAYhFAHAAAAAMAghDoAAAAAAAYh1AEAAAAAMAihDgAAAACAQQh1AAAAAAAMQqgDAAAAAGAQQh0AAAAAAIMQ6gAAAAAAGIRQBwAAAADAIIQ6AAAAAAAGIdQBAAAAADAIoQ4AAAAAgEEIdQAAAAAADEKoAwAAAABgEEIdAAAAAAAAAAAAAAAAAAAAAGC4/wOOavHme8lZkAAAAABJRU5ErkJggg==)"
      ],
      "metadata": {
        "id": "4PlYuPcEytjq"
      }
    },
    {
      "cell_type": "code",
      "source": [
        "def rat(a,i,j,n,c=0):\n",
        "  if(i==n or j==n or a[i][j]==0):\n",
        "    return 0\n",
        "  if i==n-1 and j==n-1 and a[i][j]==1:\n",
        "    return 1\n",
        "  return rat(a,i,j+1,n,c)+ rat(a,i+1,j,n,c)\n",
        "\n",
        "a = [[1,0,0,0,0],[1,1,1,1,1],[1,0,1,0,1],[1,1,0,0,1],[1,1,1,1,1]]\n",
        "print(rat(a,0,0,5))"
      ],
      "metadata": {
        "colab": {
          "base_uri": "https://localhost:8080/"
        },
        "id": "MhbHx1gus45t",
        "outputId": "8934b088-71e6-490d-a4c7-9fe93b087f81"
      },
      "execution_count": null,
      "outputs": [
        {
          "output_type": "stream",
          "name": "stdout",
          "text": [
            "3\n"
          ]
        }
      ]
    },
    {
      "cell_type": "code",
      "source": [
        "def land(a,i,j,n):\n",
        "  if(i==n or j==n or a[i][j]==2 or i<0 or j<0 or a[i][j]==0):\n",
        "    return 0\n",
        "  if a[i][j]==1:\n",
        "    a[i][j]=2\n",
        "  land(a,i-1,j,n)\n",
        "  land(a,i,j-1,n)\n",
        "  land(a,i+1,j,n)\n",
        "  land(a,i,j+1,n)\n",
        "\n",
        "a = [[1,0,0,1,1],[1,0,0,0,1],[0,0,0,1,0],[1,0,0,0,0],[1,0,0,0,1]]\n",
        "c = 0\n",
        "print(a)\n",
        "for i in range(5):\n",
        "  for j in range(5):\n",
        "    if a[i][j]==1:\n",
        "      land(a,i,j,5)\n",
        "      c+=1\n",
        "print(c)\n",
        "print(a)"
      ],
      "metadata": {
        "colab": {
          "base_uri": "https://localhost:8080/"
        },
        "id": "bC30d9wazwOy",
        "outputId": "836ea341-fa4d-4a77-812d-7e8b2eda5648"
      },
      "execution_count": null,
      "outputs": [
        {
          "output_type": "stream",
          "name": "stdout",
          "text": [
            "[[1, 0, 0, 1, 1], [1, 0, 0, 0, 1], [0, 0, 0, 1, 0], [1, 0, 0, 0, 0], [1, 0, 0, 0, 1]]\n",
            "5\n",
            "[[2, 0, 0, 2, 2], [2, 0, 0, 0, 2], [0, 0, 0, 2, 0], [2, 0, 0, 0, 0], [2, 0, 0, 0, 2]]\n"
          ]
        }
      ]
    },
    {
      "cell_type": "markdown",
      "source": [
        "**BURNING TREE PROBLEM**"
      ],
      "metadata": {
        "id": "05InNCoJQ68J"
      }
    },
    {
      "cell_type": "code",
      "source": [
        "def land(a,i,j,n):\n",
        "  if(i==n or j==n or a[i][j]==2 or i<0 or j<0 or a[i][j]==0):\n",
        "    return 0\n",
        "  if a[i][j]==1:\n",
        "    a[i][j]=2\n",
        "  land(a,i-1,j,n)\n",
        "  land(a,i,j-1,n)\n",
        "  land(a,i+1,j,n)\n",
        "  land(a,i,j+1,n)\n",
        "\n",
        "a = [[1, 0, 0, 1, 1, 1],\n",
        "     [1, 1, 1, 0, 0, 0],\n",
        "     [0, 0, 1, 1, 1, 1],\n",
        "     [1, 1, 1, 0, 0, 0],\n",
        "     [0, 0, 0, 0, 0, 1],\n",
        "     [1, 0, 0, 1, 0, 0]]\n",
        "c = 0\n",
        "for row in a:\n",
        "    print(row)\n",
        "\n",
        "land(a,2,5,6)\n",
        "\n",
        "for i in range(6):\n",
        "  for j in range(6):\n",
        "    if a[i][j]==1:\n",
        "      c+=1\n",
        "print(c)\n",
        "for row in a:\n",
        "    print(row)\n"
      ],
      "metadata": {
        "colab": {
          "base_uri": "https://localhost:8080/"
        },
        "id": "dDXczWwrJpAh",
        "outputId": "2af0ff29-1aea-405f-8a64-fb4c285c0a58"
      },
      "execution_count": null,
      "outputs": [
        {
          "output_type": "stream",
          "name": "stdout",
          "text": [
            "[1, 0, 0, 1, 1, 1]\n",
            "[1, 1, 1, 0, 0, 0]\n",
            "[0, 0, 1, 1, 1, 1]\n",
            "[1, 1, 1, 0, 0, 0]\n",
            "[0, 0, 0, 0, 0, 1]\n",
            "[1, 0, 0, 1, 0, 0]\n",
            "6\n",
            "[2, 0, 0, 1, 1, 1]\n",
            "[2, 2, 2, 0, 0, 0]\n",
            "[0, 0, 2, 2, 2, 2]\n",
            "[2, 2, 2, 0, 0, 0]\n",
            "[0, 0, 0, 0, 0, 1]\n",
            "[1, 0, 0, 1, 0, 0]\n"
          ]
        }
      ]
    },
    {
      "cell_type": "code",
      "source": [
        "def rat(a,i,j,n,c=0):\n",
        "  if(i==n or j==n or a[i][j]==0):\n",
        "    return 0\n",
        "  if i==n-1 and j==n-1 and a[i][j]==1:\n",
        "    return 1\n",
        "  return rat(a,i,j+1,n,c)+ rat(a,i+1,j,n,c)\n",
        "\n",
        "a = [[1,0,0,0,0],[1,1,1,1,1],[1,0,1,0,1],[1,1,0,0,1],[1,1,1,1,1]]\n",
        "print(rat(a,0,0,5))"
      ],
      "metadata": {
        "colab": {
          "base_uri": "https://localhost:8080/"
        },
        "id": "p5kdlMGeTMZI",
        "outputId": "2b7ebfc8-493e-4bbc-8ffa-f891f57a794d"
      },
      "execution_count": null,
      "outputs": [
        {
          "output_type": "stream",
          "name": "stdout",
          "text": [
            ". . . . . \n",
            ". . . . . \n",
            "X . . . . \n",
            "X X . . X \n",
            ". X . . . \n",
            "5\n"
          ]
        }
      ]
    },
    {
      "cell_type": "code",
      "source": [
        "def frog(n,i,j,haz):\n",
        "  if (i==n or j==n or (i,j) in haz):\n",
        "    return 0\n",
        "  if (i==n-1 and j==n-1):\n",
        "    return 1\n",
        "  return frog(n,i+1,j,haz) + frog(n,i,j+1,haz)\n",
        "n = 5\n",
        "i = 2\n",
        "j = 3\n",
        "haz = [(2, 1), (3, 0), (3, 1), (3, 4), (4, 1)]\n",
        "print(frog(n,i-1,j-1,haz))"
      ],
      "metadata": {
        "colab": {
          "base_uri": "https://localhost:8080/"
        },
        "id": "lnc2u-P9T_yM",
        "outputId": "95d03a7d-a64b-48f3-a4ac-b3c31fc00df2"
      },
      "execution_count": null,
      "outputs": [
        {
          "output_type": "stream",
          "name": "stdout",
          "text": [
            "4\n"
          ]
        }
      ]
    },
    {
      "cell_type": "code",
      "source": [
        "def print_binary_padded_recursive_single(n, current=1, num_bits=None):\n",
        "    def int_to_binary(k):\n",
        "        if k == 0:\n",
        "            return \"0\"\n",
        "        elif k == 1:\n",
        "            return \"1\"\n",
        "        else:\n",
        "            return int_to_binary(k // 2) + str(k % 2)\n",
        "    if n <= 0:\n",
        "        return\n",
        "    if num_bits is None:\n",
        "        num_bits = len(int_to_binary(n))\n",
        "    if current > n:\n",
        "        return\n",
        "    binary_current = int_to_binary(current)\n",
        "    padded_binary = binary_current.zfill(num_bits)\n",
        "    print(padded_binary)\n",
        "    print_binary_padded_recursive_single(n, current + 1, num_bits)\n",
        "n = 10\n",
        "print_binary_padded_recursive_single(n)"
      ],
      "metadata": {
        "colab": {
          "base_uri": "https://localhost:8080/"
        },
        "id": "cgwlmCO2WtIL",
        "outputId": "811825c1-f0a0-4857-87bf-6fd402406c84"
      },
      "execution_count": null,
      "outputs": [
        {
          "output_type": "stream",
          "name": "stdout",
          "text": [
            "0001\n",
            "0010\n",
            "0011\n",
            "0100\n",
            "0101\n",
            "0110\n",
            "0111\n",
            "1000\n",
            "1001\n",
            "1010\n"
          ]
        }
      ]
    },
    {
      "cell_type": "code",
      "source": [
        "import math\n",
        "re = []\n",
        "def allbin(n,s=''):\n",
        "  if n==0:\n",
        "    return\n",
        "  if(len(s)==n):\n",
        "    re.append(s)\n",
        "    return\n",
        "  allbin(n,s+\"0\")\n",
        "  allbin(n,s+\"1\")\n",
        "a = 6\n",
        "n = int(math.log(a,2))+1\n",
        "allbin(n)\n",
        "for i in range(a+1):\n",
        "  print(re[i])"
      ],
      "metadata": {
        "colab": {
          "base_uri": "https://localhost:8080/"
        },
        "id": "J-fgvYzGb0dA",
        "outputId": "153f0313-89cd-4841-a618-e93411989f45"
      },
      "execution_count": null,
      "outputs": [
        {
          "output_type": "stream",
          "name": "stdout",
          "text": [
            "000\n",
            "001\n",
            "010\n",
            "011\n",
            "100\n",
            "101\n",
            "110\n"
          ]
        }
      ]
    },
    {
      "cell_type": "code",
      "source": [
        "import math\n",
        "def allbin(a,n,s=''):\n",
        "  if a==-1:\n",
        "    return\n",
        "  if(len(s)==n):\n",
        "    print(s)\n",
        "    a=a-1\n",
        "    return a\n",
        "  a = allbin(a,n,s+\"0\")\n",
        "  a = allbin(a,n,s+\"1\")\n",
        "  return a\n",
        "a = 3\n",
        "n = int(math.log(a,2))+1\n",
        "allbin(a,n)"
      ],
      "metadata": {
        "colab": {
          "base_uri": "https://localhost:8080/"
        },
        "id": "IrCUrffTjOVu",
        "outputId": "7b1f833b-ff4b-41fe-8379-783f739b8310"
      },
      "execution_count": null,
      "outputs": [
        {
          "output_type": "stream",
          "name": "stdout",
          "text": [
            "00\n",
            "01\n",
            "10\n",
            "11\n"
          ]
        },
        {
          "output_type": "execute_result",
          "data": {
            "text/plain": [
              "-1"
            ]
          },
          "metadata": {},
          "execution_count": 22
        }
      ]
    },
    {
      "cell_type": "code",
      "source": [
        "def occur(n,i=0,j=0,s=''):\n",
        "  if len(s)==2*n:\n",
        "    print(s)\n",
        "    return\n",
        "  if i<n:\n",
        "    occur(n,i+1,j,s+'(')\n",
        "  if j<i:\n",
        "    occur(n,i,j+1,s+')')\n",
        "occur(3)"
      ],
      "metadata": {
        "id": "xalg8a-bi0wI"
      },
      "execution_count": null,
      "outputs": []
    },
    {
      "cell_type": "code",
      "source": [
        "def occur(n,i=0,j=0,s=''):\n",
        "  if len(s)==2*n:\n",
        "    print(s)\n",
        "    return\n",
        "  if i<n:\n",
        "    occur(n,i+1,j,s+'(')\n",
        "  if j<i:\n",
        "    occur(n,i,j+1,s+')')\n",
        "occur(3)"
      ],
      "metadata": {
        "colab": {
          "base_uri": "https://localhost:8080/"
        },
        "id": "OTG3yyU-k0St",
        "outputId": "65547da8-eb41-4bbb-d83d-60f04053858e"
      },
      "execution_count": null,
      "outputs": [
        {
          "output_type": "stream",
          "name": "stdout",
          "text": [
            "((()))\n",
            "(()())\n",
            "(())()\n",
            "()(())\n",
            "()()()\n"
          ]
        }
      ]
    }
  ]
}