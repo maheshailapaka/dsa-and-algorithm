{
  "nbformat": 4,
  "nbformat_minor": 0,
  "metadata": {
    "colab": {
      "provenance": [],
      "authorship_tag": "ABX9TyM1X4Hll1Ri/o4UHnMiq0So",
      "include_colab_link": true
    },
    "kernelspec": {
      "name": "python3",
      "display_name": "Python 3"
    },
    "language_info": {
      "name": "python"
    }
  },
  "cells": [
    {
      "cell_type": "markdown",
      "metadata": {
        "id": "view-in-github",
        "colab_type": "text"
      },
      "source": [
        "<a href=\"https://colab.research.google.com/github/jayanthbottu/TRAINING/blob/main/SLIDING_WINDOW_PROBLEMS.ipynb\" target=\"_parent\"><img src=\"https://colab.research.google.com/assets/colab-badge.svg\" alt=\"Open In Colab\"/></a>"
      ]
    },
    {
      "cell_type": "markdown",
      "source": [
        "**UNIQUE ELEMENTS INDEXES**"
      ],
      "metadata": {
        "id": "2XnOG7V5gjDa"
      }
    },
    {
      "cell_type": "code",
      "execution_count": 18,
      "metadata": {
        "colab": {
          "base_uri": "https://localhost:8080/"
        },
        "id": "b7mH1B3CZlYW",
        "outputId": "3ef3a97e-899e-459b-e310-bf99b57c017e"
      },
      "outputs": [
        {
          "output_type": "stream",
          "name": "stdout",
          "text": [
            "{'l': 1, 'e': 3, 't': 1, 'c': 1, 'o': 1, 'd': 1}\n",
            "0 3 4 5 6 "
          ]
        }
      ],
      "source": [
        "s = 'leetcode'\n",
        "d = {}\n",
        "for i in s:\n",
        "    d[i] = d.get(i, 0) + 1\n",
        "print(d)\n",
        "for i in range(len(s)):\n",
        "  if d[s[i]]==1:\n",
        "    print(i,end= \" \")"
      ]
    },
    {
      "cell_type": "markdown",
      "source": [
        "**LONGEST SUBSTRING WITHOUT DUPLICATES**"
      ],
      "metadata": {
        "id": "_29sewr-lN6p"
      }
    },
    {
      "cell_type": "code",
      "source": [
        "st = \"abcdecfbgce\"\n",
        "l = 0\n",
        "max_len = 0\n",
        "d = {}\n",
        "for r in range(len(st)):\n",
        "    if st[r] in d and d[st[r]] >= l:\n",
        "        l = d[st[r]] + 1\n",
        "    d[st[r]] = r\n",
        "    max_len = max(max_len, r - l + 1)\n",
        "print(\"Length of the longest substring with unique characters:\", max_len)"
      ],
      "metadata": {
        "colab": {
          "base_uri": "https://localhost:8080/"
        },
        "id": "qPoL_50lh6Bi",
        "outputId": "29881787-4d1a-4ea7-ed25-6ee2db92db81"
      },
      "execution_count": 39,
      "outputs": [
        {
          "output_type": "stream",
          "name": "stdout",
          "text": [
            "Length of the longest substring with unique characters: 6\n"
          ]
        }
      ]
    },
    {
      "cell_type": "code",
      "source": [
        "st = \"abcedacefaebghd\"\n",
        "l = 0\n",
        "m,n = 'c', 'd'\n",
        "max_len = 0\n",
        "d = {}\n",
        "for r in range(len(st)):\n",
        "    if st[r] in d and d[st[r]] >= l:\n",
        "        l = d[st[r]] + 1\n",
        "    d[st[r]] = r\n",
        "    if m in st[l:r+1] and n in st[l:r+1]:\n",
        "      print(st[l:r+1])\n",
        "      max_len = max(max_len, r - l + 1)\n",
        "print(f\"Length of the longest substring with unique characters having {m} and {n} :\", max_len)"
      ],
      "metadata": {
        "colab": {
          "base_uri": "https://localhost:8080/"
        },
        "id": "cwJImiGslR5e",
        "outputId": "b93d5f56-ec11-4b52-bad2-b6714292c3b6"
      },
      "execution_count": 62,
      "outputs": [
        {
          "output_type": "stream",
          "name": "stdout",
          "text": [
            "abced\n",
            "bceda\n",
            "edac\n",
            "dace\n",
            "dacef\n",
            "Length of the longest substring with unique characters having c and d : 5\n"
          ]
        }
      ]
    },
    {
      "cell_type": "markdown",
      "source": [
        "**REMOVE CARDS SO THAT YOU WILL GET MAXIMUM MONEY TAKE ONLY EDGE VALUES**"
      ],
      "metadata": {
        "id": "tlu_bMx1xpw7"
      }
    },
    {
      "cell_type": "code",
      "source": [
        "nums = [4,2,7,20,8,60,4,1]\n",
        "k = 3\n",
        "l = 0\n",
        "r = len(nums)-k\n",
        "money = 0\n",
        "if sum(nums[l:l+3]) > sum(nums[r:r+3]):\n",
        "    money = sum(nums[l:l+3])\n",
        "elif sum(nums[l:l+3]) < sum(nums[r:r+3]):\n",
        "    money = sum(nums[r:r+3])\n",
        "print(money)"
      ],
      "metadata": {
        "colab": {
          "base_uri": "https://localhost:8080/"
        },
        "id": "FP7XOpvixpIu",
        "outputId": "1ec3622f-d792-4bbf-aa3f-954432712ff4"
      },
      "execution_count": 104,
      "outputs": [
        {
          "output_type": "stream",
          "name": "stdout",
          "text": [
            "65\n"
          ]
        }
      ]
    },
    {
      "cell_type": "code",
      "source": [
        "nums = [4,2,7,20,8,6,4,1]\n",
        "k = 3\n",
        "m = 0\n",
        "l,r = 0,len(nums)-k\n",
        "total = sum(nums)\n",
        "print(total)\n",
        "while l<=k:\n",
        "  print(nums[l:r])\n",
        "  m = max(m,total-sum(nums[l:r]))\n",
        "  l+=1\n",
        "  r+=1\n",
        "print(m)"
      ],
      "metadata": {
        "colab": {
          "base_uri": "https://localhost:8080/"
        },
        "id": "9CQUNvR74wpb",
        "outputId": "8b03eb00-854f-4db8-ea10-afc00ec1fc1f"
      },
      "execution_count": 134,
      "outputs": [
        {
          "output_type": "stream",
          "name": "stdout",
          "text": [
            "52\n",
            "[4, 2, 7, 20, 8]\n",
            "[2, 7, 20, 8, 6]\n",
            "[7, 20, 8, 6, 4]\n",
            "[20, 8, 6, 4, 1]\n",
            "13\n"
          ]
        }
      ]
    },
    {
      "cell_type": "markdown",
      "source": [
        "**MAX CONSECUTIVE ONES - FLIP K ZEROES TO ONES**\n",
        "\n",
        "\n",
        "\n"
      ],
      "metadata": {
        "id": "AzZf3WMavJ85"
      }
    },
    {
      "cell_type": "code",
      "source": [
        "def longest_subarray_with_k_zeroes(nums, k):\n",
        "    l = 0\n",
        "    m = 0\n",
        "    zeroes = 0\n",
        "    for r in range(len(nums)):\n",
        "        if nums[r] == 0:\n",
        "            zeroes += 1\n",
        "        while zeroes > k:\n",
        "            if nums[l] == 0:\n",
        "                zeroes -= 1\n",
        "            l += 1\n",
        "        m = max(m, r - l + 1)\n",
        "    return m\n",
        "nums = [0,0,1,1,0,0,1,1,1,0,0,1,1,1]\n",
        "k = 2\n",
        "print(longest_subarray_with_k_zeroes(nums,k))"
      ],
      "metadata": {
        "colab": {
          "base_uri": "https://localhost:8080/"
        },
        "id": "ehvb2RdFEbGt",
        "outputId": "7267a216-8f59-442e-de01-c261b9090aa0"
      },
      "execution_count": 143,
      "outputs": [
        {
          "output_type": "stream",
          "name": "stdout",
          "text": [
            "8\n"
          ]
        }
      ]
    },
    {
      "cell_type": "markdown",
      "source": [
        "**MAXIMUM DOCTORS REQUIRED ON A DAY**"
      ],
      "metadata": {
        "id": "cdKBbWGb0UGo"
      }
    },
    {
      "cell_type": "code",
      "source": [
        "start = [900, 945, 1110, 1230, 1235, 1245, 1340, 1700] #Time Slots\n",
        "end = [930, 1130, 1120, 1250, 1250, 1415, 1400, 1730]\n",
        "\n",
        "start_time = 900\n",
        "end_time = 1730\n",
        "max_doctors = 0\n",
        "current_doctors = 0\n",
        "\n",
        "for time in range(start_time, end_time + 1):\n",
        "    current_doctors = sum(1 for s in start if s <= time)\n",
        "    current_doctors -= sum(1 for e in end if e < time)\n",
        "\n",
        "    max_doctors = max(max_doctors, current_doctors)\n",
        "\n",
        "print(max_doctors)"
      ],
      "metadata": {
        "colab": {
          "base_uri": "https://localhost:8080/"
        },
        "id": "aWNRueBHwPCT",
        "outputId": "9c3907a9-0ee6-4bf4-b028-5e14cd9dac74"
      },
      "execution_count": 146,
      "outputs": [
        {
          "output_type": "stream",
          "name": "stdout",
          "text": [
            "3\n"
          ]
        }
      ]
    }
  ]
}