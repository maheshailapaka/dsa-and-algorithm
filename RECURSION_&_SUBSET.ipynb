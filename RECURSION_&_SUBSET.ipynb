{
  "cells": [
    {
      "cell_type": "markdown",
      "metadata": {
        "id": "view-in-github",
        "colab_type": "text"
      },
      "source": [
        "<a href=\"https://colab.research.google.com/github/jayanthbottu/TRAINING/blob/main/RECURSION_%26_SUBSET.ipynb\" target=\"_parent\"><img src=\"https://colab.research.google.com/assets/colab-badge.svg\" alt=\"Open In Colab\"/></a>"
      ]
    },
    {
      "cell_type": "code",
      "execution_count": null,
      "metadata": {
        "colab": {
          "base_uri": "https://localhost:8080/"
        },
        "id": "iGCMz0BwHSBv",
        "outputId": "0157b261-fc7c-41f3-ffb1-fdb530277a1b"
      },
      "outputs": [
        {
          "name": "stdout",
          "output_type": "stream",
          "text": [
            "2 4 6 3 3 2 6 1 2 3 6 6 5\n",
            "6\n",
            "4\n"
          ]
        }
      ],
      "source": [
        "# 2 4 6 3 3 2 6 1 2 3 6 5 5\n",
        "# k = 6 Find the count of k in list\n",
        "def search(nums,t,c=0,l=0):\n",
        "  if l==len(nums):\n",
        "    return c\n",
        "  if nums[l]==t:\n",
        "    c+=1\n",
        "  return search(nums,t,c,l+1)\n",
        "nums=list(map(int,input().split()))\n",
        "print(search(nums,t=int(input())))"
      ]
    },
    {
      "cell_type": "code",
      "execution_count": null,
      "metadata": {
        "colab": {
          "background_save": true,
          "base_uri": "https://localhost:8080/"
        },
        "id": "zFtw2NSCIsXH",
        "outputId": "c37a2ddb-d677-412e-ebbe-6b4f611e84a2"
      },
      "outputs": [
        {
          "name": "stderr",
          "output_type": "stream",
          "text": [
            "ERROR:root:Internal Python error in the inspect module.\n",
            "Below is the traceback from this internal error.\n",
            "\n"
          ]
        },
        {
          "name": "stdout",
          "output_type": "stream",
          "text": [
            "Traceback (most recent call last):\n",
            "  File \"/usr/local/lib/python3.11/dist-packages/IPython/core/interactiveshell.py\", line 3553, in run_code\n",
            "    exec(code_obj, self.user_global_ns, self.user_ns)\n",
            "  File \"<ipython-input-12-f8de6dfd28ba>\", line 12, in <cell line: 0>\n",
            "    print(search(nums,t=int(input())))\n",
            "          ^^^^^^^^^^^^^^^^^^^^^^^^^^^\n",
            "  File \"<ipython-input-12-f8de6dfd28ba>\", line 9, in search\n",
            "    return search(nums,t,l+1)\n",
            "           ^^^^^^^^^^^^^^^^^^\n",
            "  File \"<ipython-input-12-f8de6dfd28ba>\", line 9, in search\n",
            "    return search(nums,t,l+1)\n",
            "           ^^^^^^^^^^^^^^^^^^\n",
            "  File \"<ipython-input-12-f8de6dfd28ba>\", line 9, in search\n",
            "    return search(nums,t,l+1)\n",
            "           ^^^^^^^^^^^^^^^^^^\n",
            "  [Previous line repeated 7169617 more times]\n",
            "  File \"<ipython-input-12-f8de6dfd28ba>\", line 6, in search\n",
            "    c = nums.count(nums[l])\n",
            "        ^^^^^^^^^^^^^^^^^^^\n",
            "KeyboardInterrupt\n",
            "\n",
            "During handling of the above exception, another exception occurred:\n",
            "\n",
            "Traceback (most recent call last):\n",
            "  File \"/usr/local/lib/python3.11/dist-packages/IPython/core/interactiveshell.py\", line 3473, in run_ast_nodes\n",
            "    if (await self.run_code(code, result,  async_=asy)):\n",
            "        ^^^^^^^^^^^^^^^^^^^^^^^^^^^^^^^^^^^^^^^^^^^^^^\n",
            "  File \"/usr/local/lib/python3.11/dist-packages/IPython/core/interactiveshell.py\", line 3574, in run_code\n",
            "    result.error_in_exec = sys.exc_info()[1]\n",
            "                           ^^^^^^^^^^^^^^\n",
            "KeyboardInterrupt\n",
            "\n",
            "During handling of the above exception, another exception occurred:\n",
            "\n",
            "Traceback (most recent call last):\n",
            "  File \"/usr/local/lib/python3.11/dist-packages/IPython/core/interactiveshell.py\", line 2099, in showtraceback\n",
            "    stb = value._render_traceback_()\n",
            "          ^^^^^^^^^^^^^^^^^^^^^^^^\n",
            "AttributeError: 'KeyboardInterrupt' object has no attribute '_render_traceback_'\n",
            "\n",
            "During handling of the above exception, another exception occurred:\n",
            "\n",
            "Traceback (most recent call last):\n",
            "  File \"/usr/local/lib/python3.11/dist-packages/IPython/core/ultratb.py\", line 1101, in get_records\n",
            "    return _fixed_getinnerframes(etb, number_of_lines_of_context, tb_offset)\n",
            "           ^^^^^^^^^^^^^^^^^^^^^^^^^^^^^^^^^^^^^^^^^^^^^^^^^^^^^^^^^^^^^^^^^\n",
            "  File \"/usr/local/lib/python3.11/dist-packages/IPython/core/ultratb.py\", line 248, in wrapped\n",
            "    return f(*args, **kwargs)\n",
            "           ^^^^^^^^^^^^^^^^^^\n",
            "  File \"/usr/local/lib/python3.11/dist-packages/IPython/core/ultratb.py\", line 281, in _fixed_getinnerframes\n",
            "    records = fix_frame_records_filenames(inspect.getinnerframes(etb, context))\n",
            "                                          ^^^^^^^^^^^^^^^^^^^^^^^^^^^^^^^^^^^^\n",
            "  File \"/usr/lib/python3.11/inspect.py\", line 1739, in getinnerframes\n",
            "    traceback_info = getframeinfo(tb, context)\n",
            "                     ^^^^^^^^^^^^^^^^^^^^^^^^^\n",
            "  File \"/usr/lib/python3.11/inspect.py\", line 1684, in getframeinfo\n",
            "    filename = getsourcefile(frame) or getfile(frame)\n",
            "               ^^^^^^^^^^^^^^^^^^^^\n",
            "  File \"/usr/lib/python3.11/inspect.py\", line 948, in getsourcefile\n",
            "    module = getmodule(object, filename)\n",
            "             ^^^^^^^^^^^^^^^^^^^^^^^^^^^\n",
            "  File \"/usr/lib/python3.11/inspect.py\", line 988, in getmodule\n",
            "    if ismodule(module) and hasattr(module, '__file__'):\n",
            "                            ^^^^^^^^^^^^^^^^^^^^^^^^^^^\n",
            "KeyboardInterrupt\n"
          ]
        }
      ],
      "source": [
        "# 2 3 3 4 4 4 5 6\n",
        "#f = 3 OUTPUT : 4\n",
        "from collections import Counter\n",
        "\n",
        "def search(nums, t):\n",
        "    dt = Counter(nums)\n",
        "    for num, freq in dt.items():\n",
        "        if freq == t:\n",
        "            return num\n",
        "    return None\n",
        "\n",
        "nums = list(map(int, input().split()))\n",
        "t = int(input())\n",
        "print(search(nums, t))"
      ]
    },
    {
      "cell_type": "markdown",
      "metadata": {
        "id": "Vn6RqGqpXxFL"
      },
      "source": [
        "**FIND NUMBER WITH F FREQUENCY**"
      ]
    },
    {
      "cell_type": "code",
      "execution_count": null,
      "metadata": {
        "colab": {
          "base_uri": "https://localhost:8080/"
        },
        "id": "ydKfFojHJkDZ",
        "outputId": "45d7d9b7-fbfc-4359-f51b-e17595f0349c"
      },
      "outputs": [
        {
          "name": "stdout",
          "output_type": "stream",
          "text": [
            "7\n"
          ]
        }
      ],
      "source": [
        "def freq(a,x,i=0):\n",
        "  if i==len(a):\n",
        "    return 0\n",
        "  if a[i]==x:\n",
        "    return 1+freq(a,x,i+1)\n",
        "  return freq(a,x,i+1)\n",
        "def iterate(a,f,i=0):\n",
        "  if i==len(a):\n",
        "    return\n",
        "  if freq(a,a[i])==f:\n",
        "    return a[i]\n",
        "  return iterate(a,f,i+1)\n",
        "a = [2,3,3,4,4,4,5,5,7,7,7,7,7]\n",
        "f = 5\n",
        "print(iterate(a,f))"
      ]
    },
    {
      "cell_type": "markdown",
      "metadata": {
        "id": "dXibRsWgdH05"
      },
      "source": [
        "**SUBSET**"
      ]
    },
    {
      "cell_type": "code",
      "execution_count": null,
      "metadata": {
        "colab": {
          "base_uri": "https://localhost:8080/"
        },
        "id": "_XjLhE3TdHNZ",
        "outputId": "76f37d37-7fa6-4740-8f1b-30ee47236a05"
      },
      "outputs": [
        {
          "name": "stdout",
          "output_type": "stream",
          "text": [
            "[[2], []]\n"
          ]
        }
      ],
      "source": [
        "def subset(l, i=0):\n",
        "    if i == len(l):\n",
        "        return [[]]\n",
        "    subs = subset(l, i + 1)\n",
        "    new_subs = []\n",
        "    def add_element(subsets):\n",
        "        if not subsets:\n",
        "            return\n",
        "        new_subs.append([l[i]] + subsets[0])\n",
        "        add_element(subsets[1:])\n",
        "    add_element(subs)\n",
        "    return subs + new_subs\n",
        "\n",
        "l = [1,2]\n",
        "print(subset(l))"
      ]
    },
    {
      "cell_type": "code",
      "execution_count": null,
      "metadata": {
        "colab": {
          "base_uri": "https://localhost:8080/"
        },
        "id": "K-0maJxcjGVQ",
        "outputId": "cc7a2485-9390-4fc9-b3d4-577b712eb4dd"
      },
      "outputs": [
        {
          "name": "stdout",
          "output_type": "stream",
          "text": [
            "[2, 3, 4]\n",
            "[2, 3]\n",
            "[2, 4]\n",
            "[2]\n",
            "[3, 4]\n",
            "[3]\n",
            "[4]\n",
            "[]\n",
            "None\n"
          ]
        }
      ],
      "source": [
        "def subset(x,s=[],i=0):\n",
        "  if i==len(x):\n",
        "    print(s)\n",
        "    return\n",
        "  subset(x,s+[x[i]],i+1)\n",
        "  subset(x,s,i+1)\n",
        "a=[2,3,4]\n",
        "print(subset(a))"
      ]
    },
    {
      "cell_type": "code",
      "execution_count": null,
      "metadata": {
        "colab": {
          "base_uri": "https://localhost:8080/"
        },
        "id": "8DPiw8gQsgYT",
        "outputId": "59124180-0e44-40d0-fda9-2dcf474de294"
      },
      "outputs": [
        {
          "name": "stdout",
          "output_type": "stream",
          "text": [
            "True\n"
          ]
        }
      ],
      "source": [
        "def sumsubset(nums,k,i):\n",
        "  if k==0:\n",
        "    return True\n",
        "\n",
        "  if i==0:\n",
        "    return False\n",
        "\n",
        "  if nums[i-1]>k:\n",
        "    return sumsubset(nums,k,i-1)\n",
        "  return sumsubset(nums,k-nums[i-1],i-1) or sumsubset(nums,k,i-1)\n",
        "\n",
        "nums=[5,6,10,40]\n",
        "k = 45\n",
        "print(sumsubset(nums,k,len(nums)))"
      ]
    },
    {
      "cell_type": "markdown",
      "metadata": {
        "id": "SUIhb8oJDa0x"
      },
      "source": [
        "**SUM OF SUBSET ITEMS EQUAL TO A GIVEN NUMBER**"
      ]
    },
    {
      "cell_type": "code",
      "execution_count": null,
      "metadata": {
        "colab": {
          "base_uri": "https://localhost:8080/"
        },
        "id": "WeG8AINiCsyn",
        "outputId": "242a5ba2-6b5c-4c89-dade-525b3d0a70fb"
      },
      "outputs": [
        {
          "name": "stdout",
          "output_type": "stream",
          "text": [
            "[5, 10, 30]\n",
            "[5, 40]\n"
          ]
        }
      ],
      "source": [
        "def subset(x,k,s=[],i=0):\n",
        "  if i==len(x):\n",
        "    if k==0:\n",
        "      print(s)\n",
        "    return\n",
        "  if x[i]<=k:\n",
        "    subset(x,k-x[i],s+[x[i]],i+1)\n",
        "  subset(x,k,s,i+1)\n",
        "nums=[5,6,10,40,30]\n",
        "k = 45\n",
        "subset(nums,k)"
      ]
    },
    {
      "cell_type": "code",
      "execution_count": null,
      "metadata": {
        "colab": {
          "base_uri": "https://localhost:8080/"
        },
        "id": "CJcWuz7BDr63",
        "outputId": "548a9c62-0124-46a4-b2f0-fbaab280e14a"
      },
      "outputs": [
        {
          "name": "stdout",
          "output_type": "stream",
          "text": [
            "[5, 50]\n"
          ]
        }
      ],
      "source": [
        "def subset(x,k,s=[],d=[],i=0):\n",
        "  if i==len(x):\n",
        "    if k==0:\n",
        "      d.append(s)\n",
        "    return d\n",
        "  if x[i]<=k:\n",
        "    subset(x,k-x[i],s+[x[i]],d,i+1)\n",
        "  subset(x,k,s,d,i+1)\n",
        "  return d\n",
        "nums=[2,4,5,10,20,50,100,500]\n",
        "k = 55\n",
        "result = subset(nums,k)\n",
        "if result:\n",
        "    print(min(result, key=len))\n",
        "else:\n",
        "  print(-1)"
      ]
    },
    {
      "cell_type": "code",
      "execution_count": null,
      "metadata": {
        "colab": {
          "base_uri": "https://localhost:8080/"
        },
        "id": "O40hDCY4FClC",
        "outputId": "69ab15d8-614d-4236-f5f8-02b1ecc608b5"
      },
      "outputs": [
        {
          "name": "stdout",
          "output_type": "stream",
          "text": [
            "1\n"
          ]
        }
      ],
      "source": [
        "def subset(x, k, s=[], d=[], i=0):\n",
        "    if i == len(x):\n",
        "        if k == 0:\n",
        "            d.append(s)\n",
        "        return d\n",
        "    if x[i] <= k:\n",
        "        subset(x, k - x[i], s + [x[i]], d, i + 1)\n",
        "    subset(x, k, s, d, i + 1)\n",
        "    return d\n",
        "\n",
        "nums = [1,5, 6, 10, 40, 30,55]\n",
        "k = 55\n",
        "result = subset(nums, k)\n",
        "if result:\n",
        "    print(len(max(result)))\n",
        "else:\n",
        "  print(-1)"
      ]
    },
    {
      "cell_type": "code",
      "execution_count": null,
      "metadata": {
        "colab": {
          "base_uri": "https://localhost:8080/"
        },
        "id": "qfgv8rl-GfcC",
        "outputId": "6a0a1071-d03a-4738-dff8-ad8853a30125"
      },
      "outputs": [
        {
          "name": "stdout",
          "output_type": "stream",
          "text": [
            "2\n"
          ]
        }
      ],
      "source": [
        "pri = [2,5,10,20,50,100]\n",
        "pri.sort()\n",
        "t = 32\n",
        "c=0\n",
        "for x in range(len(pri)-1,0,-1):\n",
        "  if pri[x]<=t:\n",
        "    t-=pri[x]\n",
        "    c+=1\n",
        "print(c)"
      ]
    },
    {
      "cell_type": "code",
      "execution_count": null,
      "metadata": {
        "id": "QIyxt59tSkHD"
      },
      "outputs": [],
      "source": [
        "#Largest Even Number and Smallest Odd Number\n",
        "def show(nums, i=0, max_even=float('-inf'), min_odd=float('inf')):\n",
        "    if i == len(nums):\n",
        "        return max_even , min_odd\n",
        "    if nums[i] % 2 == 0:\n",
        "        max_even = (nums[i] if nums[i]>max_even else max_even)\n",
        "    else:\n",
        "        min_odd = nums[i] if nums[i]<min_odd else min_odd\n",
        "    return show(nums, i + 1, max_even, min_odd)\n",
        "\n",
        "nums = list(map(int, input().split()))\n",
        "result = show(nums)\n",
        "print(\"Largest Even Number:\", result[0] if result[0] != float('-inf') else \"No Even Numbers in Input\")\n",
        "print(\"Smallest Odd Number:\", result[1] if result[1] != float('inf') else \"No Odd Numbers in Input\")\n"
      ]
    },
    {
      "cell_type": "code",
      "execution_count": null,
      "metadata": {
        "colab": {
          "base_uri": "https://localhost:8080/"
        },
        "id": "sUVHUinDMcLT",
        "outputId": "2829d688-d78a-46fb-8937-301141953956"
      },
      "outputs": [
        {
          "name": "stdout",
          "output_type": "stream",
          "text": [
            "1 2 3 4 5 6 7 8\n",
            "Largest Even Number: 8\n",
            "Smallest Odd Number: 1\n"
          ]
        }
      ],
      "source": [
        "#Largest Even Number and Smallest Odd Number\n",
        "def show(nums, i=0, max_even=float('-inf'), min_odd=float('inf')):\n",
        "    if i == len(nums):\n",
        "        return max_even , min_odd\n",
        "    max_even = (nums[i] if nums[i]>max_even else max_even) if nums[i]%2==0 else max_even\n",
        "    min_odd = (nums[i] if nums[i]<min_odd else min_odd) if nums[i]%2!=0 else min_odd\n",
        "    return show(nums, i + 1, max_even, min_odd)\n",
        "\n",
        "nums = list(map(int, input().split()))\n",
        "result = show(nums)\n",
        "print(\"Largest Even Number:\", result[0] if result[0] != float('-inf') else \"No Even Numbers in Input\")\n",
        "print(\"Smallest Odd Number:\", result[1] if result[1] != float('inf') else \"No Odd Numbers in Input\")\n"
      ]
    },
    {
      "cell_type": "code",
      "execution_count": null,
      "metadata": {
        "colab": {
          "base_uri": "https://localhost:8080/"
        },
        "id": "tT9rxqHdWTCW",
        "outputId": "6521ecc6-4aff-4154-8a1e-06302532a5c2"
      },
      "outputs": [
        {
          "name": "stdout",
          "output_type": "stream",
          "text": [
            "1 2 4 3\n",
            "4\n"
          ]
        }
      ],
      "source": [
        "def show(nums, max1=float('-inf'), max2=float('-inf'), i=0):\n",
        "    if i == len(nums):\n",
        "        return max2\n",
        "    if nums[i] > max1:\n",
        "        max2 = max1\n",
        "        max1 = nums[i]\n",
        "    elif nums[i] > max2 and nums[i] != max1:\n",
        "        max2 = nums[i]\n",
        "    return show(nums, max1, max2, i + 1)\n",
        "\n",
        "nums = list(map(int, input().split()))\n",
        "result = show(nums)\n",
        "print(result)\n"
      ]
    },
    {
      "cell_type": "code",
      "execution_count": null,
      "metadata": {
        "colab": {
          "base_uri": "https://localhost:8080/"
        },
        "id": "Sf-gz1trTFGy",
        "outputId": "5b9332f2-5017-4d5f-9cfe-358aabbb5e71"
      },
      "outputs": [
        {
          "name": "stdout",
          "output_type": "stream",
          "text": [
            "1 2 3 4 5 6 7 8\n",
            "6\n"
          ]
        }
      ],
      "source": [
        "def show(nums,m=-1,max=-1,i=0):\n",
        "  if i==len(nums):\n",
        "    return m\n",
        "  if nums[i]>max and nums[i]%2==0:\n",
        "    m=max\n",
        "    max=nums[i]\n",
        "    return show(nums,m,max,i+1)\n",
        "  return show(nums,m,max,i+1)\n",
        "\n",
        "nums = list(map(int, input().split()))\n",
        "result = show(nums)\n",
        "print(result)"
      ]
    },
    {
      "cell_type": "code",
      "execution_count": null,
      "metadata": {
        "id": "ezdxtwaOdTU9"
      },
      "outputs": [],
      "source": [
        "class Solution:\n",
        "    def leftRightDifference(self, nums: List[int]) -> List[int]:\n",
        "        n = len(nums)\n",
        "        leftSum = [0] * n\n",
        "        rightSum = [0] * n\n",
        "\n",
        "        # Calculate leftSum\n",
        "        leftSum[0] = 0\n",
        "        for i in range(1, n):\n",
        "            leftSum[i] = leftSum[i-1] + nums[i-1]\n",
        "\n",
        "        # Calculate rightSum\n",
        "        rightSum[n-1] = 0\n",
        "        for i in range(n-2, -1, -1):\n",
        "            rightSum[i] = rightSum[i+1] + nums[i+1]\n",
        "\n",
        "        # Calculate answer\n",
        "        answer = [abs(leftSum[i] - rightSum[i]) for i in range(n)]\n",
        "        return answer\n"
      ]
    }
  ],
  "metadata": {
    "colab": {
      "provenance": [],
      "authorship_tag": "ABX9TyNKa1N5DPFfdXBUHgOraYx0",
      "include_colab_link": true
    },
    "kernelspec": {
      "display_name": "Python 3",
      "name": "python3"
    },
    "language_info": {
      "name": "python"
    }
  },
  "nbformat": 4,
  "nbformat_minor": 0
}