{
 "cells": [
  {
   "cell_type": "code",
   "execution_count": 157,
   "id": "653ef495-0924-4d4f-af35-01c3d393cc62",
   "metadata": {
    "scrolled": true
   },
   "outputs": [
    {
     "data": {
      "text/plain": [
       "2"
      ]
     },
     "execution_count": 157,
     "metadata": {},
     "output_type": "execute_result"
    }
   ],
   "source": [
    "class Node1:\n",
    "    def __init__(self,data):\n",
    "        self.data=data\n",
    "        self.left=None\n",
    "        self.right=None\n",
    "    def inorder(self,root):\n",
    "        if root==None:\n",
    "            return\n",
    "        self.inorder(root.left)\n",
    "        print(root.data,end=\" \")\n",
    "        self.inorder(root.right)\n",
    "    def preorder(self,root):\n",
    "        if root==None:\n",
    "            return\n",
    "        print(root.data,end=\" \")\n",
    "        self.preorder(root.left)\n",
    "        self.preorder(root.right)\n",
    "    def postorder(self,root):\n",
    "        if root==None:\n",
    "            return\n",
    "        self.postorder(root.left)\n",
    "        self.postorder(root.right)\n",
    "        print(root.data,end=\" \")\n",
    "    # sum of all nodes\n",
    "    def sum_all(self,root):\n",
    "        if root==None:\n",
    "            return 0\n",
    "        return root.data+self.sum_all(root.left)+self.sum_all(root.right)\n",
    "    # sum even no\n",
    "    def even_sum(self,root):\n",
    "        if root==None:\n",
    "            return 0\n",
    "        if root.data%2==0:\n",
    "            return root.data+self.even_sum(root.left)+self.even_sum(root.right)\n",
    "        else:\n",
    "            return self.even_sum(root.left)+self.even_sum(root.right)    \n",
    "    # height\n",
    "    def height(self,root):\n",
    "        if root==None:\n",
    "            return-1\n",
    "        return max(self.height(root.left),self.height(root.right))+1\n",
    "    # binary search when root and search key is given\n",
    "    def bin(self,root,key):\n",
    "        if root==None:\n",
    "            return None\n",
    "        if root.data==key:\n",
    "            return root.data\n",
    "        elif key<root.data:\n",
    "            return self.bin(root.left,key)\n",
    "        else:\n",
    "            return self.bin(root.right,key)\n",
    "root=Node1(10)\n",
    "root.left=Node1(5)\n",
    "root.right=Node1(20)\n",
    "root.left.left=Node1(2)\n",
    "root.left.right=Node1(8)\n",
    "root.right.left=Node1(15)\n",
    "root.right.right=Node1(22)\n",
    "root.height(root)"
   ]
  },
  {
   "cell_type": "markdown",
   "id": "4c819502-52fd-44ec-b9bd-1e4232022e33",
   "metadata": {},
   "source": [
    "NUMBER OF LEAF NODES IN A TREE"
   ]
  },
  {
   "cell_type": "code",
   "execution_count": 158,
   "id": "6ba1c66c-3e2b-497b-95b5-3dae74390ea3",
   "metadata": {
    "scrolled": true
   },
   "outputs": [
    {
     "data": {
      "text/plain": [
       "4"
      ]
     },
     "execution_count": 158,
     "metadata": {},
     "output_type": "execute_result"
    }
   ],
   "source": [
    "class Node2:\n",
    "    def __init__(self,data):\n",
    "        self.data=data\n",
    "        self.left=None\n",
    "        self.right=None\n",
    "\n",
    "def leaf_nodes(root):\n",
    "  if root==None:\n",
    "    return 0\n",
    "  if root.left==None and root.right==None:\n",
    "    return 1\n",
    "  return leaf_nodes(root.left)+leaf_nodes(root.right)\n",
    "\n",
    "root=Node2(10)\n",
    "root.left=Node2(5)\n",
    "root.right=Node2(20)\n",
    "root.left.left=Node2(2)\n",
    "root.left.right=Node2(8)\n",
    "root.right.left=Node2(15)\n",
    "root.right.right=Node2(22)\n",
    "\n",
    "leaf_nodes(root)"
   ]
  },
  {
   "cell_type": "markdown",
   "id": "5bf4a927-65a0-4de2-a8d8-b0b0a9fa3e11",
   "metadata": {},
   "source": [
    "INSERTING VALUES INTO A TREE"
   ]
  },
  {
   "cell_type": "code",
   "execution_count": 159,
   "id": "a0aec4ae-81c4-4ca8-9e9d-753817fa3c5e",
   "metadata": {
    "scrolled": true
   },
   "outputs": [
    {
     "name": "stdout",
     "output_type": "stream",
     "text": [
      "2 5 8 10 15 20 22 None\n"
     ]
    }
   ],
   "source": [
    "class Node3:\n",
    "    def __init__(self,data):\n",
    "        self.data=data\n",
    "        self.left=None\n",
    "        self.right=None\n",
    "def insert(root,x):\n",
    "  if root is None:\n",
    "    return Node3(x)\n",
    "  if x<root.data:\n",
    "    root.left = insert(root.left,x)\n",
    "  else:\n",
    "    root.right = insert(root.right,x)\n",
    "  return root\n",
    "\n",
    "def inorder(root):\n",
    "  if root is not None:\n",
    "    inorder(root.left)\n",
    "    print(root.data,end=\" \")\n",
    "    inorder(root.right)\n",
    "root = Node3(10)\n",
    "insert(root,5)\n",
    "insert(root,20)\n",
    "insert(root,2)\n",
    "insert(root,8)\n",
    "insert(root,15)\n",
    "insert(root,22)\n",
    "print(inorder(root))"
   ]
  },
  {
   "cell_type": "markdown",
   "id": "669f287f-9ccf-4c82-bf38-bbf4d6acdd40",
   "metadata": {},
   "source": [
    "ALL THE PATHS FROM ROOT TO LEAF"
   ]
  },
  {
   "cell_type": "code",
   "execution_count": 160,
   "id": "a1517772-24b5-4a98-aca8-41b0eb1b6324",
   "metadata": {
    "scrolled": true
   },
   "outputs": [
    {
     "name": "stdout",
     "output_type": "stream",
     "text": [
      "[10, 5, 2]\n",
      "[10, 5, 8]\n",
      "[10, 20, 15]\n",
      "[10, 20, 22]\n"
     ]
    }
   ],
   "source": [
    "def paths(root,s):\n",
    "    if root == None:\n",
    "        return\n",
    "    s.append(root.data)\n",
    "    if root.left==None and  root.right==None:\n",
    "        print(s)\n",
    "        s.pop()\n",
    "        return\n",
    "    paths(root.left,s)\n",
    "    paths(root.right,s)\n",
    "    s.pop()\n",
    "paths(root,[])"
   ]
  },
  {
   "cell_type": "code",
   "execution_count": 161,
   "id": "8bb45d97-2c7c-4c0f-ad9c-cb1edaf019ad",
   "metadata": {},
   "outputs": [
    {
     "name": "stdout",
     "output_type": "stream",
     "text": [
      "2 5 9 10 12 13 14 15 17 20 22 None\n"
     ]
    }
   ],
   "source": [
    "class Node4:\n",
    "    def __init__(self,data):\n",
    "        self.data=data\n",
    "        self.left=None\n",
    "        self.right=None\n",
    "def insert(root,x):\n",
    "  if root is None:\n",
    "    return Node4(x)\n",
    "  if x<root.data:\n",
    "    root.left = insert(root.left,x)\n",
    "  else:\n",
    "    root.right = insert(root.right,x)\n",
    "  return root\n",
    "\n",
    "def inorder(root):\n",
    "  if root is not None:\n",
    "    inorder(root.left)\n",
    "    print(root.data,end=\" \")\n",
    "    inorder(root.right)\n",
    "root = Node4(15)\n",
    "insert(root,10)\n",
    "insert(root,20)\n",
    "insert(root,2)\n",
    "insert(root,9)\n",
    "insert(root,12)\n",
    "insert(root,14)\n",
    "insert(root,5)\n",
    "insert(root,13)\n",
    "insert(root,17)\n",
    "insert(root,22)\n",
    "print(inorder(root))"
   ]
  },
  {
   "cell_type": "markdown",
   "id": "601ec6fb-b2de-43cc-9db6-eb8bf1c6e176",
   "metadata": {},
   "source": [
    "LEVEL ORDER TRAVERSAL"
   ]
  },
  {
   "cell_type": "code",
   "execution_count": null,
   "id": "b0ad7fba-b04f-4c2f-812a-4d47cb4a3cf5",
   "metadata": {},
   "outputs": [],
   "source": [
    "def levelorder(root,l):\n",
    "    if root==None:\n",
    "        return\n",
    "    l.append(root)\n",
    "    while(l):\n",
    "        curr = l.pop(0)\n",
    "        if curr.left:\n",
    "            l.append(curr.left)\n",
    "        if curr.right:\n",
    "            l.append(curr.right)\n",
    "        print(curr.data,end=\" \")\n",
    "\n",
    "levelorder(root,[])"
   ]
  },
  {
   "cell_type": "code",
   "execution_count": null,
   "id": "41169a8b-8d62-483d-bda3-ab07ed62bf84",
   "metadata": {},
   "outputs": [],
   "source": [
    "COUNTING LEAF NODES USING LEVEL ORDER TRAVERSAL"
   ]
  },
  {
   "cell_type": "code",
   "execution_count": null,
   "id": "8a1f8a9c-f2fa-463a-92b1-1be569ccf9fa",
   "metadata": {},
   "outputs": [],
   "source": [
    "def levelorderleaf(root,l,c):\n",
    "    if root==None:\n",
    "        return\n",
    "    l.append(root)\n",
    "    while(l):\n",
    "        curr = l.pop(0)\n",
    "        if curr.left:\n",
    "            l.append(curr.left)\n",
    "        if curr.right:\n",
    "            l.append(curr.right)\n",
    "        if curr.left==None and curr.right==None:\n",
    "            c += 1\n",
    "    return c\n",
    "\n",
    "levelorderleaf(root,[],-1)"
   ]
  },
  {
   "cell_type": "code",
   "execution_count": null,
   "id": "d9a7052e-7202-4fdc-bb2b-db27585e839c",
   "metadata": {},
   "outputs": [],
   "source": [
    "LEFT VIEW OF A TREE"
   ]
  },
  {
   "cell_type": "code",
   "execution_count": null,
   "id": "8eecd50a-b251-43f3-98be-782d749960b1",
   "metadata": {},
   "outputs": [],
   "source": [
    "def rightview(root,d,c):\n",
    "    if root==None:\n",
    "        return\n",
    "    d[c] = root.data\n",
    "    c = c + 1\n",
    "    rightview(root.left,d,c)\n",
    "    rightview(root.right,d,c)\n",
    "    return d\n",
    "    \n",
    "rightview(root,{},0)"
   ]
  },
  {
   "cell_type": "code",
   "execution_count": null,
   "id": "58434db5-d8f1-4b6b-ba67-5ec8f978b85c",
   "metadata": {},
   "outputs": [],
   "source": [
    "p = rightview(root,{},0)\n",
    "for i,j in p.items():\n",
    "    print(i*\" \",j)\n",
    "    print(i*\" \",\"\\\\\")\n",
    "print(i*\" \",\"None\")"
   ]
  },
  {
   "cell_type": "code",
   "execution_count": null,
   "id": "2954d8a5-1c06-411d-a64d-cef14d659386",
   "metadata": {},
   "outputs": [],
   "source": [
    "def leftview(root,d,c):\n",
    "    if root==None:\n",
    "        return\n",
    "    d[c] = root.data\n",
    "    c = c + 1\n",
    "    leftview(root.right,d,c)\n",
    "    leftview(root.left,d,c)\n",
    "    return d\n",
    "    \n",
    "leftview(root,{},0)"
   ]
  },
  {
   "cell_type": "code",
   "execution_count": null,
   "id": "b04e6934-ff6b-4e17-a572-a44d3c785364",
   "metadata": {},
   "outputs": [],
   "source": [
    "p = leftview(root,{},0)\n",
    "k = 6\n",
    "for i,j in p.items():\n",
    "    print(k*\" \",j)\n",
    "    k-=1\n",
    "    print(k*\" \",'/')\n",
    "print(k*\" \",\"None\")"
   ]
  },
  {
   "cell_type": "code",
   "execution_count": null,
   "id": "e0e34289-f2e2-47ec-9ae4-c7c15900292c",
   "metadata": {},
   "outputs": [],
   "source": [
    "d = {}\n",
    "def leftview(root,c):\n",
    "    if root==None:\n",
    "        return\n",
    "        \n",
    "    d[c]= root.data\n",
    "    leftview(root.right,c+1)\n",
    "    leftview(root.left,c+1)\n",
    "leftview(root,0)\n",
    "for i in sorted(d):\n",
    "    print(d[i])"
   ]
  },
  {
   "cell_type": "code",
   "execution_count": null,
   "id": "a7b64da0-f293-4e18-b044-0fcfa48ea7a1",
   "metadata": {},
   "outputs": [],
   "source": [
    "d = {}\n",
    "def topview(root,c):\n",
    "    if root==None:\n",
    "        return\n",
    "\n",
    "    if c not in d:\n",
    "        d[c]=root.data\n",
    "\n",
    "    topview(root.left,c-1)\n",
    "    topview(root.right,c+1)\n",
    "    \n",
    "    \n",
    "\n",
    "topview(root,0)\n",
    "for i in sorted(d):\n",
    "    print(d[i],end=\" \")"
   ]
  },
  {
   "cell_type": "code",
   "execution_count": null,
   "id": "59181337-9bb8-4bb6-8948-a42db07ca3f4",
   "metadata": {},
   "outputs": [],
   "source": [
    "def ancestor(root,m,n):\n",
    "    if root==None:\n",
    "        return \n",
    "    if root.data==m or root.data==n:\n",
    "        return root.data\n",
    "    if root.data>m and root.data<n:\n",
    "        return root.data\n",
    "    if root.data>m and root.data>n:\n",
    "        return ancestor(root.left,m,n) \n",
    "    else:\n",
    "        return ancestor(root.left,m,n) \n",
    "ancestor(root,2,17)"
   ]
  },
  {
   "cell_type": "code",
   "execution_count": null,
   "id": "42b669b8-13c9-4ce3-b210-de768457f6cc",
   "metadata": {},
   "outputs": [],
   "source": [
    "Cheking for a Balance Tree"
   ]
  },
  {
   "cell_type": "code",
   "execution_count": null,
   "id": "1f2a4921-bfed-4bf3-8570-489c065d65ba",
   "metadata": {},
   "outputs": [],
   "source": [
    "def checkbal(root):\n",
    "    def h(node):\n",
    "        if not node: return 0, True\n",
    "        lh, lb = h(node.left)\n",
    "        rh, rb = h(node.right)\n",
    "        return max(lh, rh) + 1, lb and rb and abs(lh - rh) <= 1\n",
    "    \n",
    "    _, b = h(root)\n",
    "    return b\n",
    "    \n",
    "checkbal(root)"
   ]
  }
 ],
 "metadata": {
  "kernelspec": {
   "display_name": "Python 3 (ipykernel)",
   "language": "python",
   "name": "python3"
  },
  "language_info": {
   "codemirror_mode": {
    "name": "ipython",
    "version": 3
   },
   "file_extension": ".py",
   "mimetype": "text/x-python",
   "name": "python",
   "nbconvert_exporter": "python",
   "pygments_lexer": "ipython3",
   "version": "3.8.10"
  }
 },
 "nbformat": 4,
 "nbformat_minor": 5
}
