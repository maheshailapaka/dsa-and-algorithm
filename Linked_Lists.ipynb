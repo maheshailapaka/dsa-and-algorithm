{
  "nbformat": 4,
  "nbformat_minor": 0,
  "metadata": {
    "colab": {
      "provenance": [],
      "authorship_tag": "ABX9TyNZ5P2N0adtvzpwT6Tw9FsW",
      "include_colab_link": true
    },
    "kernelspec": {
      "name": "python3",
      "display_name": "Python 3"
    },
    "language_info": {
      "name": "python"
    }
  },
  "cells": [
    {
      "cell_type": "markdown",
      "metadata": {
        "id": "view-in-github",
        "colab_type": "text"
      },
      "source": [
        "<a href=\"https://colab.research.google.com/github/jayanthbottu/TRAINING/blob/main/Linked_Lists.ipynb\" target=\"_parent\"><img src=\"https://colab.research.google.com/assets/colab-badge.svg\" alt=\"Open In Colab\"/></a>"
      ]
    },
    {
      "cell_type": "markdown",
      "source": [
        "**LINKED LIST RECAP**"
      ],
      "metadata": {
        "id": "_JwdCoH_39Nu"
      }
    },
    {
      "cell_type": "code",
      "source": [
        "class Node:\n",
        "  def __init__(self,data):\n",
        "    self.data = data\n",
        "    self.next = None\n",
        "class Linked:\n",
        "  def __init__(self):\n",
        "    self.head = None\n",
        "  def append(self,data):\n",
        "    neewnode = Node(data)\n",
        "    if self.head is None:\n",
        "      self.head = neewnode\n",
        "      return\n",
        "    t = self.head\n",
        "    while(t.next):\n",
        "      t = t.next\n",
        "    t.next = neewnode\n",
        "  def insertbegin(self,data):\n",
        "    newnode = Node(data)\n",
        "    newnode.next = self.head\n",
        "    self.head = newnode\n",
        "  def printlist(self):\n",
        "    t = self.head\n",
        "    while(t):\n",
        "      print(t.data,end=\" -> \")\n",
        "      t = t.next\n",
        "    print(\"NULL\")\n",
        "l = Linked()\n",
        "l.append(1)\n",
        "l.append(2)\n",
        "l.append(3)\n",
        "l.insertbegin(10)\n",
        "l.printlist()"
      ],
      "metadata": {
        "colab": {
          "base_uri": "https://localhost:8080/"
        },
        "id": "4YIXZkozuqoz",
        "outputId": "3d16d25b-c252-4dc2-b7d2-9bf6e87d1692"
      },
      "execution_count": 18,
      "outputs": [
        {
          "output_type": "stream",
          "name": "stdout",
          "text": [
            "10 -> 1 -> 2 -> 3 -> NULL\n"
          ]
        }
      ]
    },
    {
      "cell_type": "markdown",
      "source": [
        "**SUM OF ELEMENTS IN LINKED LIST**"
      ],
      "metadata": {
        "id": "UHTbwBOQ4YU5"
      }
    },
    {
      "cell_type": "code",
      "source": [
        "class Node:\n",
        "  def __init__(self,data):\n",
        "    self.data = data\n",
        "    self.next = None\n",
        "class Linked:\n",
        "  def __init__(self):\n",
        "    self.head = None\n",
        "  def append(self,data):\n",
        "    neewnode = Node(data)\n",
        "    if self.head is None:\n",
        "      self.head = neewnode\n",
        "      return\n",
        "    t = self.head\n",
        "    while(t.next):\n",
        "      t = t.next\n",
        "    t.next = neewnode\n",
        "  def addition(self):\n",
        "    if self.head is None:\n",
        "      return \"List is Empty!!\"\n",
        "    s = 0\n",
        "    t = self.head\n",
        "    while(t):\n",
        "      s += t.data\n",
        "      t = t.next\n",
        "    return s\n",
        "l = Linked()\n",
        "l.append(10)\n",
        "l.append(20)\n",
        "l.append(30)\n",
        "print(l.addition())"
      ],
      "metadata": {
        "colab": {
          "base_uri": "https://localhost:8080/"
        },
        "id": "rlfy0IcL4CCU",
        "outputId": "644e8611-dbda-4588-853f-79579fd98851"
      },
      "execution_count": 23,
      "outputs": [
        {
          "output_type": "stream",
          "name": "stdout",
          "text": [
            "60\n"
          ]
        }
      ]
    },
    {
      "cell_type": "markdown",
      "source": [
        "**SUM OF ALL EVEN ELEMENTS**"
      ],
      "metadata": {
        "id": "R18qz25h5hmJ"
      }
    },
    {
      "cell_type": "code",
      "source": [
        "class Node:\n",
        "  def __init__(self,data):\n",
        "    self.data = data\n",
        "    self.next = None\n",
        "class Linked:\n",
        "  def __init__(self):\n",
        "    self.head = None\n",
        "  def append(self,data):\n",
        "    neewnode = Node(data)\n",
        "    if self.head is None:\n",
        "      self.head = neewnode\n",
        "      return\n",
        "    t = self.head\n",
        "    while(t.next):\n",
        "      t = t.next\n",
        "    t.next = neewnode\n",
        "  def addition(self):\n",
        "    if self.head is None:\n",
        "      return \"List is Empty!!\"\n",
        "    s = 0\n",
        "    t = self.head\n",
        "    while(t):\n",
        "      s += t.data if t.data%2==0 else 0\n",
        "      t = t.next\n",
        "    return s\n",
        "l = Linked()\n",
        "l.append(1)\n",
        "l.append(2)\n",
        "l.append(3)\n",
        "l.append(4)\n",
        "l.append(5)\n",
        "l.append(6)\n",
        "print(l.addition())"
      ],
      "metadata": {
        "colab": {
          "base_uri": "https://localhost:8080/"
        },
        "id": "VQsYPRWz5MTt",
        "outputId": "5e29b5d2-e0fd-4cd4-946f-f0ea3cfb8a95"
      },
      "execution_count": 34,
      "outputs": [
        {
          "output_type": "stream",
          "name": "stdout",
          "text": [
            "12\n"
          ]
        }
      ]
    },
    {
      "cell_type": "markdown",
      "source": [
        "**SUM OF EVEN INDEXED ELEMENTS**"
      ],
      "metadata": {
        "id": "RWWwZg497DGV"
      }
    },
    {
      "cell_type": "code",
      "source": [
        "class Node:\n",
        "  def __init__(self,data):\n",
        "    self.data = data\n",
        "    self.next = None\n",
        "class Linked:\n",
        "  def __init__(self):\n",
        "    self.head = None\n",
        "  def append(self,data):\n",
        "    neewnode = Node(data)\n",
        "    if self.head is None:\n",
        "      self.head = neewnode\n",
        "      return\n",
        "    t = self.head\n",
        "    while(t.next):\n",
        "      t = t.next\n",
        "    t.next = neewnode\n",
        "  def addition(self):\n",
        "    if self.head is None:\n",
        "      return \"List is Empty!!\"\n",
        "    s = 0\n",
        "    t = self.head\n",
        "    tl = 1\n",
        "    while(t):\n",
        "      if tl%2==0:\n",
        "        s += t.data\n",
        "      t = t.next\n",
        "      tl += 1\n",
        "    return s\n",
        "l = Linked()\n",
        "l.append(1)\n",
        "l.append(2)\n",
        "l.append(3)\n",
        "l.append(4)\n",
        "l.append(5)\n",
        "l.append(6)\n",
        "print(l.addition())"
      ],
      "metadata": {
        "colab": {
          "base_uri": "https://localhost:8080/"
        },
        "id": "CqK6eA0Q7B4o",
        "outputId": "58df8201-65c0-4229-8346-10bc5859eb81"
      },
      "execution_count": 38,
      "outputs": [
        {
          "output_type": "stream",
          "name": "stdout",
          "text": [
            "12\n"
          ]
        }
      ]
    },
    {
      "cell_type": "markdown",
      "source": [
        "**SECOND LARGEST NUMBER**"
      ],
      "metadata": {
        "id": "CTEIrkTz9LDo"
      }
    },
    {
      "cell_type": "code",
      "source": [
        "class Node:\n",
        "  def __init__(self,data):\n",
        "    self.data = data\n",
        "    self.next = None\n",
        "class Linked:\n",
        "  def __init__(self):\n",
        "    self.head = None\n",
        "  def append(self,data):\n",
        "    neewnode = Node(data)\n",
        "    if self.head is None:\n",
        "      self.head = neewnode\n",
        "      return\n",
        "    t = self.head\n",
        "    while(t.next):\n",
        "      t = t.next\n",
        "    t.next = neewnode\n",
        "  def secondlargest(self):\n",
        "    if self.head is None:\n",
        "      return \"List is Empty!!\"\n",
        "    t = self.head\n",
        "    m1,m2 = 0,0\n",
        "    while(t):\n",
        "      if m1<t.data:\n",
        "        m2 = m1\n",
        "        m1 = t.data\n",
        "      elif m2<t.data:\n",
        "        m2 = t.data\n",
        "      t = t.next\n",
        "    return m2\n",
        "\n",
        "l = Linked()\n",
        "l.append(1)\n",
        "l.append(2)\n",
        "l.append(3)\n",
        "l.append(4)\n",
        "l.append(5)\n",
        "l.append(6)\n",
        "print(l.secondlargest())"
      ],
      "metadata": {
        "colab": {
          "base_uri": "https://localhost:8080/"
        },
        "id": "2QKAyAhP9E_7",
        "outputId": "f6472301-65d6-430a-ff60-aff597889aa5"
      },
      "execution_count": 53,
      "outputs": [
        {
          "output_type": "stream",
          "name": "stdout",
          "text": [
            "5\n"
          ]
        }
      ]
    },
    {
      "cell_type": "markdown",
      "source": [
        "**COUNT OF CONSECUTIVE PAIRS WITH SUM <=K**"
      ],
      "metadata": {
        "id": "32DoM-ag9rEP"
      }
    },
    {
      "cell_type": "code",
      "source": [
        "class Node:\n",
        "  def __init__(self,data):\n",
        "    self.data = data\n",
        "    self.next = None\n",
        "class Linked:\n",
        "  def __init__(self):\n",
        "    self.head = None\n",
        "  def append(self,data):\n",
        "    neewnode = Node(data)\n",
        "    if self.head is None:\n",
        "      self.head = neewnode\n",
        "      return\n",
        "    t = self.head\n",
        "    while(t.next):\n",
        "      t = t.next\n",
        "    t.next = neewnode\n",
        "  def consecutivesum(self,k):\n",
        "    if self.head is None:\n",
        "      return \"No List!!\"\n",
        "    t = self.head\n",
        "    d = []\n",
        "    while(t.next):\n",
        "      if t.data + t.next.data <= k:\n",
        "        d.append([t.data,t.next.data])\n",
        "      t= t.next\n",
        "    return d\n",
        "\n",
        "l = Linked()\n",
        "l.append(1)\n",
        "l.append(2)\n",
        "l.append(3)\n",
        "l.append(4)\n",
        "l.append(5)\n",
        "l.append(6)\n",
        "print(l.consecutivesum(6))"
      ],
      "metadata": {
        "colab": {
          "base_uri": "https://localhost:8080/"
        },
        "id": "Xca5hiXA9uoW",
        "outputId": "23c897cc-2a32-4c31-818c-8549c6025a5d"
      },
      "execution_count": 52,
      "outputs": [
        {
          "output_type": "stream",
          "name": "stdout",
          "text": [
            "[[1, 2], [2, 3]]\n"
          ]
        }
      ]
    },
    {
      "cell_type": "markdown",
      "source": [
        "**RETURN A LIST OF ELEMNTS WHOSE SUM IS <= K**"
      ],
      "metadata": {
        "id": "hRZz7lT5Fd2Y"
      }
    },
    {
      "cell_type": "code",
      "source": [
        "class Node:\n",
        "  def __init__(self,data):\n",
        "    self.data = data\n",
        "    self.next = None\n",
        "class Linked:\n",
        "  def __init__(self):\n",
        "    self.head = None\n",
        "  def append(self,data):\n",
        "    neewnode = Node(data)\n",
        "    if self.head is None:\n",
        "      self.head = neewnode\n",
        "      return\n",
        "    t = self.head\n",
        "    while(t.next):\n",
        "      t = t.next\n",
        "    t.next = neewnode\n",
        "  def anysum(self,k):\n",
        "    if self.head is None:\n",
        "      return \"No List man\"\n",
        "    t = self.head\n",
        "    d =[]\n",
        "\n",
        "    while(t.next):\n",
        "      t1 = t.next\n",
        "      while(t1):\n",
        "        if t.data + t1.data <= k:\n",
        "          d.append([t.data,t1.data])\n",
        "        t1 = t1.next\n",
        "      t = t.next\n",
        "    return d\n",
        "\n",
        "l = Linked()\n",
        "l.append(1)\n",
        "l.append(2)\n",
        "l.append(3)\n",
        "l.append(4)\n",
        "l.append(5)\n",
        "l.append(6)\n",
        "print(l.anysum(15))"
      ],
      "metadata": {
        "colab": {
          "base_uri": "https://localhost:8080/"
        },
        "id": "Zz6PNDQAFdQO",
        "outputId": "5be5e8f8-170c-4547-a549-bcd4a7e14b2b"
      },
      "execution_count": 60,
      "outputs": [
        {
          "output_type": "stream",
          "name": "stdout",
          "text": [
            "[[1, 2], [1, 3], [1, 4], [1, 5], [1, 6], [2, 3], [2, 4], [2, 5], [2, 6], [3, 4], [3, 5], [3, 6], [4, 5], [4, 6], [5, 6]]\n"
          ]
        }
      ]
    },
    {
      "cell_type": "markdown",
      "source": [
        "**PRINTING SECOND HALF OF LINKED LIST**"
      ],
      "metadata": {
        "id": "LC5xSmeFKx89"
      }
    },
    {
      "cell_type": "code",
      "source": [
        "class Node:\n",
        "  def __init__(self,data):\n",
        "    self.data = data\n",
        "    self.next = None\n",
        "class Linked:\n",
        "  def __init__(self):\n",
        "    self.head = None\n",
        "  def append(self,data):\n",
        "    neewnode = Node(data)\n",
        "    if self.head is None:\n",
        "      self.head = neewnode\n",
        "      return\n",
        "    t = self.head\n",
        "    while(t.next):\n",
        "      t = t.next\n",
        "    t.next = neewnode\n",
        "  def printing(self):\n",
        "    if self.head is None:\n",
        "      return \"No List\"\n",
        "    c = 0\n",
        "    t = self.head\n",
        "    while(t):\n",
        "      c+=1\n",
        "      t = t.next\n",
        "    print(c)\n",
        "    x = 0\n",
        "    n = c//2\n",
        "    t = self.head\n",
        "    while(t):\n",
        "      if x>=n:\n",
        "        print(t.data,end=\" -> \")\n",
        "      x+=1\n",
        "      t = t.next\n",
        "    print(\"NULL\")\n",
        "l = Linked()\n",
        "l.append(1)\n",
        "l.append(2)\n",
        "l.append(3)\n",
        "l.append(4)\n",
        "l.append(5)\n",
        "l.append(6)\n",
        "l.printing()"
      ],
      "metadata": {
        "colab": {
          "base_uri": "https://localhost:8080/"
        },
        "id": "tyUo-pyvKxar",
        "outputId": "be680e27-2f46-4f6a-fc00-a902b718d934"
      },
      "execution_count": 70,
      "outputs": [
        {
          "output_type": "stream",
          "name": "stdout",
          "text": [
            "6\n",
            "4 -> 5 -> 6 -> NULL\n"
          ]
        }
      ]
    },
    {
      "cell_type": "code",
      "source": [
        "class Node:\n",
        "  def __init__(self,data):\n",
        "    self.data = data\n",
        "    self.next = None\n",
        "class Linked:\n",
        "  def __init__(self):\n",
        "    self.head = None\n",
        "  def append(self,data):\n",
        "    neewnode = Node(data)\n",
        "    if self.head is None:\n",
        "      self.head = neewnode\n",
        "      return\n",
        "    t = self.head\n",
        "    while(t.next):\n",
        "      t = t.next\n",
        "    t.next = neewnode\n",
        "  def printing(self):\n",
        "    if self.head is None:\n",
        "      return \"Lopalem Lev Dolla!\"\n",
        "    t = self.head\n",
        "    f = self.head\n",
        "    s = self.head\n",
        "    while(f):\n",
        "      print(s.data,end=\" -> \")\n",
        "      s = s.next\n",
        "      f = f.next.next\n",
        "    print(\"NULL\")\n",
        "l = Linked()\n",
        "l.append(1)\n",
        "l.append(2)\n",
        "l.append(3)\n",
        "l.append(4)\n",
        "l.append(5)\n",
        "l.append(6)\n",
        "l.printing()"
      ],
      "metadata": {
        "colab": {
          "base_uri": "https://localhost:8080/"
        },
        "id": "1updWH2wOci1",
        "outputId": "a3b66768-8bc3-4f71-d62e-b9e111bbafcb"
      },
      "execution_count": 85,
      "outputs": [
        {
          "output_type": "stream",
          "name": "stdout",
          "text": [
            "1 -> 2 -> 3 -> NULL\n"
          ]
        }
      ]
    },
    {
      "cell_type": "code",
      "source": [
        "class Node:\n",
        "  def __init__(self,data):\n",
        "    self.data = data\n",
        "    self.next = None\n",
        "class Linked:\n",
        "  def __init__(self):\n",
        "    self.head = None\n",
        "  def append(self,data):\n",
        "    neewnode = Node(data)\n",
        "    if self.head is None:\n",
        "      self.head = neewnode\n",
        "      return\n",
        "    t = self.head\n",
        "    while(t.next):\n",
        "      t = t.next\n",
        "    t.next = neewnode\n",
        "  def printing(self):\n",
        "    if self.head is None:\n",
        "      return \"Lopalem Lev Dolla!\"\n",
        "    t = self.head\n",
        "    f = self.head\n",
        "    s = self.head\n",
        "    while(f!=None and f.next):\n",
        "      print(s.data,end=\"->\")\n",
        "      s = s.next\n",
        "      f = f.next.next\n",
        "    print()\n",
        "    while(s):\n",
        "      print(s.data,end=\"->\")\n",
        "      s = s.next\n",
        "    print(\"Null\")\n",
        "l = Linked()\n",
        "l.append(1)\n",
        "l.append(2)\n",
        "l.append(3)\n",
        "l.append(4)\n",
        "l.append(5)\n",
        "l.append(6)\n",
        "l.append(7)\n",
        "l.printing()"
      ],
      "metadata": {
        "colab": {
          "base_uri": "https://localhost:8080/"
        },
        "id": "4dhK9VGbS-1X",
        "outputId": "f7267017-d911-47fd-fe3b-49235ebd8bd9"
      },
      "execution_count": 95,
      "outputs": [
        {
          "output_type": "stream",
          "name": "stdout",
          "text": [
            "1->2->3->\n",
            "4->5->6->7->Null\n"
          ]
        }
      ]
    },
    {
      "cell_type": "code",
      "source": [
        "class Node:\n",
        "  def __init__(self,data):\n",
        "    self.data = data\n",
        "    self.next = None\n",
        "class Linked:\n",
        "  def __init__(self):\n",
        "    self.head = None\n",
        "  def append(self,data):\n",
        "    neewnode = Node(data)\n",
        "    if self.head is None:\n",
        "      self.head = neewnode\n",
        "      return\n",
        "    t = self.head\n",
        "    while(t.next):\n",
        "      t = t.next\n",
        "    t.next = neewnode\n",
        "  def printing(self):\n",
        "    if self.head is None:\n",
        "      return \"Lopalem Lev Dolla!\"\n",
        "    t = self.head\n",
        "    f = self.head\n",
        "    s = self.head\n",
        "    while(f!=None and f.next):\n",
        "      print(s.data,end=\"->\")\n",
        "      s = s.next\n",
        "      f = f.next.next.next\n",
        "    print()\n",
        "    while(s):\n",
        "      print(s.data,end=\"->\")\n",
        "      s = s.next\n",
        "    print(\"Null\")\n",
        "l = Linked()\n",
        "l.append(1)\n",
        "l.append(2)\n",
        "l.append(3)\n",
        "l.append(4)\n",
        "l.append(5)\n",
        "l.append(6)\n",
        "l.append(7)\n",
        "l.printing()"
      ],
      "metadata": {
        "colab": {
          "base_uri": "https://localhost:8080/"
        },
        "id": "jNr7zBTpUYFn",
        "outputId": "c22cdc43-b9ba-4682-dfb0-9493708b9d74"
      },
      "execution_count": 96,
      "outputs": [
        {
          "output_type": "stream",
          "name": "stdout",
          "text": [
            "1->2->\n",
            "3->4->5->6->7->Null\n"
          ]
        }
      ]
    },
    {
      "cell_type": "markdown",
      "source": [
        "**KTH ELEMENT FROM LAST**"
      ],
      "metadata": {
        "id": "grsLWioWpZ6a"
      }
    },
    {
      "cell_type": "code",
      "source": [
        "class Node:\n",
        "  def __init__(self,data):\n",
        "    self.data = data\n",
        "    self.next = None\n",
        "class Linked:\n",
        "  def __init__(self):\n",
        "    self.head = None\n",
        "  def append(self,data):\n",
        "    neewnode = Node(data)\n",
        "    if self.head is None:\n",
        "      self.head = neewnode\n",
        "      return\n",
        "    t = self.head\n",
        "    while(t.next):\n",
        "      t = t.next\n",
        "    t.next = neewnode\n",
        "  def printing(self,k):\n",
        "    if self.head is None:\n",
        "      return \"Lopalem Lev Dolla!\"\n",
        "    t = t1 = self.head\n",
        "    c = 1\n",
        "    while(t):\n",
        "      print(t.data,t1.data,c)\n",
        "      if c>k:\n",
        "        t1 = t1.next\n",
        "      c+=1\n",
        "      t = t.next\n",
        "    print(t1.data)\n",
        "\n",
        "l = Linked()\n",
        "l.append(1)\n",
        "l.append(2)\n",
        "l.append(3)\n",
        "l.append(4)\n",
        "l.append(5)\n",
        "l.append(6)\n",
        "l.append(7)\n",
        "l.printing(4)"
      ],
      "metadata": {
        "colab": {
          "base_uri": "https://localhost:8080/"
        },
        "id": "pe_h0gtTWFtf",
        "outputId": "8eb329c6-f4e6-4175-fb5c-04b7b5611eaf"
      },
      "execution_count": 102,
      "outputs": [
        {
          "output_type": "stream",
          "name": "stdout",
          "text": [
            "1 1 1\n",
            "2 1 2\n",
            "3 1 3\n",
            "4 1 4\n",
            "5 1 5\n",
            "6 2 6\n",
            "7 3 7\n",
            "4\n"
          ]
        }
      ]
    },
    {
      "cell_type": "markdown",
      "source": [
        "**DELETE Kth ELEMENT FROM LAST**"
      ],
      "metadata": {
        "id": "94XXsR7Jpf7P"
      }
    },
    {
      "cell_type": "code",
      "source": [
        "class Node:\n",
        "  def __init__(self,data):\n",
        "    self.data = data\n",
        "    self.next = None\n",
        "class Linked:\n",
        "  def __init__(self):\n",
        "    self.head = None\n",
        "  def append(self,data):\n",
        "    neewnode = Node(data)\n",
        "    if self.head is None:\n",
        "      self.head = neewnode\n",
        "      return\n",
        "    t = self.head\n",
        "    while(t.next):\n",
        "      t = t.next\n",
        "    t.next = neewnode\n",
        "  def deletenode(self,k):\n",
        "    if self.head is None:\n",
        "      return \"Lopalem Lev Dolla!\"\n",
        "    t = t1 = self.head\n",
        "    c = 1\n",
        "    for i in range(k):\n",
        "      t = t.next\n",
        "    while(t.next):\n",
        "      t = t.next\n",
        "      t1 = t1.next\n",
        "    t1.next = t1.next.next\n",
        "\n",
        "  def printing(self):\n",
        "    t = self.head\n",
        "    while(t):\n",
        "      print(t.data,end=\" -> \")\n",
        "      t = t.next\n",
        "    print(\"Null\")\n",
        "\n",
        "l = Linked()\n",
        "l.append(1)\n",
        "l.append(2)\n",
        "l.append(3)\n",
        "l.append(4)\n",
        "l.append(5)\n",
        "l.append(6)\n",
        "l.append(7)\n",
        "l.deletenode(3)\n",
        "l.printing()"
      ],
      "metadata": {
        "colab": {
          "base_uri": "https://localhost:8080/"
        },
        "id": "l1toXAY6pi8m",
        "outputId": "4ea54ee0-b1b1-49a3-aed0-282914f705da"
      },
      "execution_count": 128,
      "outputs": [
        {
          "output_type": "stream",
          "name": "stdout",
          "text": [
            "1 -> 2 -> 3 -> 4 -> 6 -> 7 -> Null\n"
          ]
        }
      ]
    },
    {
      "cell_type": "markdown",
      "source": [
        "**SWAPPING ELEMENTS IN LINKED LIST**"
      ],
      "metadata": {
        "id": "eP8TIj5pyed5"
      }
    },
    {
      "cell_type": "code",
      "source": [
        "class Node:\n",
        "  def __init__(self,data):\n",
        "    self.data = data\n",
        "    self.next = None\n",
        "class Linked:\n",
        "  def __init__(self):\n",
        "    self.head = None\n",
        "  def append(self,data):\n",
        "    neewnode = Node(data)\n",
        "    if self.head is None:\n",
        "      self.head = neewnode\n",
        "      return\n",
        "    t = self.head\n",
        "    while(t.next):\n",
        "      t = t.next\n",
        "    t.next = neewnode\n",
        "  def printing(self):\n",
        "    t = self.head\n",
        "    while(t):\n",
        "      print(t.data,end=\" -> \")\n",
        "      t = t.next\n",
        "    print(\"Null\")\n",
        "  def swap(self):\n",
        "    if self.head is None:\n",
        "      return \"Lopalem Lev Dolla!\"\n",
        "    t = self.head\n",
        "    while(t.next):\n",
        "      t.data,t.next.data = t.next.data,t.data\n",
        "      t = t.next.next\n",
        "l = Linked()\n",
        "l.append(1)\n",
        "l.append(2)\n",
        "l.append(3)\n",
        "l.append(4)\n",
        "l.append(5)\n",
        "l.append(6)\n",
        "l.append(7)\n",
        "l.swap()\n",
        "l.printing()"
      ],
      "metadata": {
        "colab": {
          "base_uri": "https://localhost:8080/"
        },
        "id": "sKb2nJ3ayYyV",
        "outputId": "81571572-6ac7-4a7d-ce38-08be0584b44c"
      },
      "execution_count": 132,
      "outputs": [
        {
          "output_type": "stream",
          "name": "stdout",
          "text": [
            "2 -> 1 -> 4 -> 3 -> 6 -> 5 -> 7 -> Null\n"
          ]
        }
      ]
    },
    {
      "cell_type": "markdown",
      "source": [
        "**BUBBLE SORT IN LINKED LIST**"
      ],
      "metadata": {
        "id": "Gziei5GU3pwq"
      }
    },
    {
      "cell_type": "code",
      "source": [
        "class Node:\n",
        "  def __init__(self,data):\n",
        "    self.data = data\n",
        "    self.next = None\n",
        "class Linked:\n",
        "  def __init__(self):\n",
        "    self.head = None\n",
        "  def append(self,data):\n",
        "    neewnode = Node(data)\n",
        "    if self.head is None:\n",
        "      self.head = neewnode\n",
        "      return\n",
        "    t = self.head\n",
        "    while(t.next):\n",
        "      t = t.next\n",
        "    t.next = neewnode\n",
        "  def printing(self):\n",
        "    t = self.head\n",
        "    while(t):\n",
        "      print(t.data,end=\" -> \")\n",
        "      t = t.next\n",
        "    print(\"Null\")\n",
        "  def bubblesort(self):\n",
        "    if self.head is None:\n",
        "      return \"Lopalem Lev Dolla!\"\n",
        "    t = self.head\n",
        "    while(t.next):\n",
        "      t1 = t\n",
        "      f = 0\n",
        "      while(t1):\n",
        "        if t.data > t1.data:\n",
        "          t.data,t1.data = t1.data,t.data\n",
        "          f = 1\n",
        "        t1 = t1.next\n",
        "      if f==0:\n",
        "        break\n",
        "      t = t.next\n",
        "\n",
        "l = Linked()\n",
        "l.append(10)\n",
        "l.append(3)\n",
        "l.append(5)\n",
        "l.append(2)\n",
        "l.append(9)\n",
        "l.append(1)\n",
        "l.append(4)\n",
        "l.bubblesort()\n",
        "l.printing()"
      ],
      "metadata": {
        "colab": {
          "base_uri": "https://localhost:8080/"
        },
        "id": "GPO6yi2u3sOp",
        "outputId": "605a9e4c-334d-49bc-d9bb-3380abd3e8f6"
      },
      "execution_count": 142,
      "outputs": [
        {
          "output_type": "stream",
          "name": "stdout",
          "text": [
            "1 -> 2 -> 3 -> 4 -> 5 -> 9 -> 10 -> Null\n"
          ]
        }
      ]
    },
    {
      "cell_type": "markdown",
      "source": [
        "**KTh LARGEST ELEMENT IN UNSORTED LINKEDLIST**"
      ],
      "metadata": {
        "id": "k8JTowVn-BXW"
      }
    },
    {
      "cell_type": "code",
      "source": [
        "class Node:\n",
        "  def __init__(self,data):\n",
        "    self.data = data\n",
        "    self.next = None\n",
        "class Linked:\n",
        "  def __init__(self):\n",
        "    self.head = None\n",
        "  def append(self,data):\n",
        "    neewnode = Node(data)\n",
        "    if self.head is None:\n",
        "      self.head = neewnode\n",
        "      return\n",
        "    t = self.head\n",
        "    while(t.next):\n",
        "      t = t.next\n",
        "    t.next = neewnode\n",
        "  def printing(self):\n",
        "    t = self.head\n",
        "    while(t):\n",
        "      print(t.data,end=\" -> \")\n",
        "      t = t.next\n",
        "    print(\"Null\")\n",
        "  def kthlargest(self,k):\n",
        "    if self.head is None:\n",
        "      return \"Lopalem Lev Dolla!\"\n",
        "    t = self.head\n",
        "    d = []\n",
        "    while(t):\n",
        "      d.append(t.data)\n",
        "      t = t.next\n",
        "    d.sort()\n",
        "    print(d[-k])\n",
        "\n",
        "l = Linked()\n",
        "l.append(10)\n",
        "l.append(3)\n",
        "l.append(5)\n",
        "l.append(2)\n",
        "l.append(9)\n",
        "l.append(1)\n",
        "l.append(4)\n",
        "l.kthlargest(3)\n",
        "l.printing()"
      ],
      "metadata": {
        "colab": {
          "base_uri": "https://localhost:8080/"
        },
        "id": "t4l7HqFt98kO",
        "outputId": "ce68f619-16c8-4634-cbf1-3937ab57446e"
      },
      "execution_count": 144,
      "outputs": [
        {
          "output_type": "stream",
          "name": "stdout",
          "text": [
            "5\n",
            "10 -> 3 -> 5 -> 2 -> 9 -> 1 -> 4 -> Null\n"
          ]
        }
      ]
    },
    {
      "cell_type": "code",
      "source": [
        "def checkloop(self):\n",
        "  f = self.head\n",
        "  s = self.head\n",
        "  while(f!=None and f.next!=None):\n",
        "    f = f.next.next\n",
        "    s = s.next\n",
        "    if(f == s): #by any chance\n",
        "      print(\"loop found\")\n",
        "      break\n",
        "    else:\n",
        "    print(\"loop not found\")"
      ],
      "metadata": {
        "id": "zraKHejgHrfj"
      },
      "execution_count": null,
      "outputs": []
    }
  ]
}