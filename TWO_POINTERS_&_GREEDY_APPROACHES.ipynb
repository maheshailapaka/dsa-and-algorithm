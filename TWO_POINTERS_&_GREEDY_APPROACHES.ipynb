{
  "nbformat": 4,
  "nbformat_minor": 0,
  "metadata": {
    "colab": {
      "provenance": [],
      "authorship_tag": "ABX9TyNH5tUIZ0xdbHAe4BbU5y7g",
      "include_colab_link": true
    },
    "kernelspec": {
      "name": "python3",
      "display_name": "Python 3"
    },
    "language_info": {
      "name": "python"
    }
  },
  "cells": [
    {
      "cell_type": "markdown",
      "metadata": {
        "id": "view-in-github",
        "colab_type": "text"
      },
      "source": [
        "<a href=\"https://colab.research.google.com/github/jayanthbottu/TRAINING/blob/main/TWO_POINTERS_%26_GREEDY_APPROACHES.ipynb\" target=\"_parent\"><img src=\"https://colab.research.google.com/assets/colab-badge.svg\" alt=\"Open In Colab\"/></a>"
      ]
    },
    {
      "cell_type": "markdown",
      "source": [
        "**WITH THE PETROLS AVAILABLE, EXCHANGE IF YOU HAVE LOW PETROL, CHECK IF YOU CAN GO OUT OF LIST**"
      ],
      "metadata": {
        "id": "Ju5iSJ2wK331"
      }
    },
    {
      "cell_type": "code",
      "execution_count": 5,
      "metadata": {
        "colab": {
          "base_uri": "https://localhost:8080/"
        },
        "id": "WSAnTmi-DDS8",
        "outputId": "8e9f77f7-14fb-4434-833b-4849d5bf2863"
      },
      "outputs": [
        {
          "output_type": "stream",
          "name": "stdout",
          "text": [
            "False\n"
          ]
        }
      ],
      "source": [
        "def travelPossible(nums):\n",
        "  if nums[0]==0 or len(nums)==0:\n",
        "    return False\n",
        "  k = nums[0]\n",
        "  for i in range(1,len(nums)):\n",
        "    k-=1\n",
        "    if k == 0:\n",
        "      return False\n",
        "    if(nums[i])>k and k:\n",
        "      k = nums[i]\n",
        "  return k>0\n",
        "nums = [3,2,1,0,4]\n",
        "print(travelPossible(nums))"
      ]
    },
    {
      "cell_type": "markdown",
      "source": [
        "**MINIMUM NUMBER OF JUMPS REQUIRED TO REACH LAST INDEX**"
      ],
      "metadata": {
        "id": "VzCQ1xx3W4wj"
      }
    },
    {
      "cell_type": "code",
      "source": [
        "def jump(nums):\n",
        "        n = len(nums)\n",
        "        if n==1:\n",
        "            return 0\n",
        "        j = 0\n",
        "        cn = 0\n",
        "        far = 0\n",
        "        for i in range(len(nums)):\n",
        "            far = max(far,i+nums[i])\n",
        "            if i ==cn:\n",
        "                j+=1\n",
        "                cn = far\n",
        "                if cn>=n-1:\n",
        "                    break\n",
        "        return j\n",
        "nums = [2,3,1,1,4]\n",
        "print(jump(nums))"
      ],
      "metadata": {
        "colab": {
          "base_uri": "https://localhost:8080/"
        },
        "id": "KnCibeGUWkm2",
        "outputId": "bf8d4e88-b3c5-4201-b7f2-1d2532b1182a"
      },
      "execution_count": 8,
      "outputs": [
        {
          "output_type": "stream",
          "name": "stdout",
          "text": [
            "2\n"
          ]
        }
      ]
    },
    {
      "cell_type": "markdown",
      "source": [
        "**CAN YOU GET CHANGE FOR SELLING LEMONAIDE**"
      ],
      "metadata": {
        "id": "RGZb9Oa1aKuj"
      }
    },
    {
      "cell_type": "code",
      "source": [
        "def sellemon(p):\n",
        "  h = []\n",
        "  for i in p:\n",
        "    if i==5:\n",
        "      h.append(i)\n",
        "    elif i==10:\n",
        "      if h.count(5)>0:\n",
        "        h.append(i)\n",
        "        h.remove(5)\n",
        "    else:\n",
        "      if h.count(10)>0 and h.count(5)>0:\n",
        "        h.remove(10)\n",
        "        h.remove(5)\n",
        "        h.append(i)\n",
        "      elif h.count(5)>=3:\n",
        "        h.remove(5,5,5)\n",
        "        h.append(i)\n",
        "  if h:\n",
        "    return h\n",
        "  return 'Impossible'\n",
        "p = [20]\n",
        "print(sellemon(p))"
      ],
      "metadata": {
        "colab": {
          "base_uri": "https://localhost:8080/"
        },
        "id": "jDA0e2e_aVkz",
        "outputId": "421706ed-da26-49f6-9d73-fa58b4e55972"
      },
      "execution_count": 37,
      "outputs": [
        {
          "output_type": "stream",
          "name": "stdout",
          "text": [
            "Impossible\n"
          ]
        }
      ]
    },
    {
      "cell_type": "code",
      "source": [
        "def sellemon(p):\n",
        "    change = {5: 0, 10: 0, 20: 0}\n",
        "    for bill in p:\n",
        "        print(f\"Customer pays: {bill}\")\n",
        "        if bill == 5:\n",
        "            change[5] += 1\n",
        "        elif bill == 10:\n",
        "            if change[5] >= 1:\n",
        "                change[5] -= 1\n",
        "                change[10] += 1\n",
        "            else:\n",
        "                print(\"Cannot make change for 10.\")\n",
        "                return 'Impossible'\n",
        "        elif bill == 20:\n",
        "            if change[10] >= 1 and change[5] >= 1:\n",
        "                change[10] -= 1\n",
        "                change[5] -= 1\n",
        "                change[20] += 1\n",
        "            elif change[5] >= 3:\n",
        "                change[5] -= 3\n",
        "                change[20] += 1\n",
        "            else:\n",
        "                print(\"Cannot make change for 20.\")\n",
        "                return 'Impossible'\n",
        "        print(f\"Current change: {change}\")\n",
        "\n",
        "    return 'Possible'\n",
        "\n",
        "p = [5, 5, 5, 10, 20]\n",
        "print(sellemon(p))"
      ],
      "metadata": {
        "colab": {
          "base_uri": "https://localhost:8080/"
        },
        "id": "mveEB_ZAeV5A",
        "outputId": "7c3fe467-ada4-4a31-9ad1-a9080de49a15"
      },
      "execution_count": 41,
      "outputs": [
        {
          "output_type": "stream",
          "name": "stdout",
          "text": [
            "Customer pays: 5\n",
            "Current change: {5: 1, 10: 0, 20: 0}\n",
            "Customer pays: 5\n",
            "Current change: {5: 2, 10: 0, 20: 0}\n",
            "Customer pays: 5\n",
            "Current change: {5: 3, 10: 0, 20: 0}\n",
            "Customer pays: 10\n",
            "Current change: {5: 2, 10: 1, 20: 0}\n",
            "Customer pays: 20\n",
            "Current change: {5: 1, 10: 0, 20: 1}\n",
            "Possible\n"
          ]
        }
      ]
    },
    {
      "cell_type": "code",
      "source": [
        "people = [5, 4, 7, 9, 1 ,2, 6]\n",
        "bundle = [10,9,4,5,6,1,1]\n",
        "bundle.sort()\n",
        "print(bundle)\n",
        "ppl = 0\n",
        "for i in people:\n",
        "  for j in bundle:\n",
        "    if i<=j:\n",
        "      bundle.remove(j)\n",
        "      ppl+=1\n",
        "      break\n",
        "print(bundle)\n",
        "print(ppl)"
      ],
      "metadata": {
        "colab": {
          "base_uri": "https://localhost:8080/"
        },
        "id": "b0QoAQfardfS",
        "outputId": "5517e261-9204-4839-e41d-45214a5e5167"
      },
      "execution_count": 79,
      "outputs": [
        {
          "output_type": "stream",
          "name": "stdout",
          "text": [
            "[1, 1, 4, 5, 6, 9, 10]\n",
            "[1]\n",
            "6\n"
          ]
        }
      ]
    },
    {
      "cell_type": "code",
      "source": [
        "def findContentChildren(g,s):\n",
        "        c=0\n",
        "        g.sort()\n",
        "        print(g)\n",
        "        print(s)\n",
        "        i = j =0\n",
        "        while(i<len(g) and j<len(s)):\n",
        "            if g[i]<=s[i]:\n",
        "                c+=1\n",
        "                i+=1\n",
        "                j+=1\n",
        "            elif g[i]>s[i]:\n",
        "                j+=1\n",
        "            else:\n",
        "                i+=1\n",
        "        return c\n",
        "g = [10,9,8,7]\n",
        "s = [5,6,7,8]\n",
        "print(findContentChildren(g,s))"
      ],
      "metadata": {
        "colab": {
          "base_uri": "https://localhost:8080/"
        },
        "id": "ZnBq9T8NvZ48",
        "outputId": "dfea4bbf-b645-44d6-c531-78bac8c96ba3"
      },
      "execution_count": 75,
      "outputs": [
        {
          "output_type": "stream",
          "name": "stdout",
          "text": [
            "[7, 8, 9, 10]\n",
            "[5, 6, 7, 8]\n",
            "0\n"
          ]
        }
      ]
    },
    {
      "cell_type": "code",
      "source": [
        "def findContentChildren(g,s):\n",
        "        c=0\n",
        "        g.sort()\n",
        "        print(g)\n",
        "        print(s)\n",
        "        for i in range(len(g)):\n",
        "          for j in range(len(s)):\n",
        "            if g[i]<=s[j]:\n",
        "              c+=1\n",
        "              s.pop(j)\n",
        "              break\n",
        "        return c\n",
        "g = [10,9,8,7]\n",
        "s = [5,6,7,8]\n",
        "print(findContentChildren(g,s))"
      ],
      "metadata": {
        "colab": {
          "base_uri": "https://localhost:8080/"
        },
        "id": "Scdybycvv1fn",
        "outputId": "f998bfca-a051-45cc-ca2d-47798ddefdd0"
      },
      "execution_count": 76,
      "outputs": [
        {
          "output_type": "stream",
          "name": "stdout",
          "text": [
            "[7, 8, 9, 10]\n",
            "[5, 6, 7, 8]\n",
            "2\n"
          ]
        }
      ]
    },
    {
      "cell_type": "code",
      "source": [
        "def intersect(nums1,nums2):\n",
        "        h= []\n",
        "        for i in nums1:\n",
        "            if i in nums2:\n",
        "                h.append(i)\n",
        "        return h\n",
        "\n",
        "nums1 =[1,2,2,1]\n",
        "nums2 =[2]\n",
        "print(intersect(nums1,nums2))"
      ],
      "metadata": {
        "colab": {
          "base_uri": "https://localhost:8080/"
        },
        "id": "YMuKEYmUFAkn",
        "outputId": "c224efa1-47e1-4f4c-9766-f18e5ed43c36"
      },
      "execution_count": 78,
      "outputs": [
        {
          "output_type": "stream",
          "name": "stdout",
          "text": [
            "[2, 2]\n"
          ]
        }
      ]
    },
    {
      "cell_type": "markdown",
      "source": [
        "**PRINT MINIMUM JUMPS TO GET OUT OF LIST**"
      ],
      "metadata": {
        "id": "5fM0oDUpZ21j"
      }
    },
    {
      "cell_type": "code",
      "source": [
        "def jump(nums):\n",
        "        l=r=j=0\n",
        "        while r<len(nums)-1:\n",
        "            m=0\n",
        "            for i in range(l,r+1):\n",
        "                if i+nums[i]>m:\n",
        "                    m=i+nums[i]\n",
        "            l=r+1\n",
        "            r=m\n",
        "            j+=1\n",
        "        return j\n",
        "nums = [2,1,4,3,1,1,2,4,2]\n",
        "print(jump(nums))"
      ],
      "metadata": {
        "colab": {
          "base_uri": "https://localhost:8080/"
        },
        "id": "NOH4eU87N0wk",
        "outputId": "8d5c1175-5a4e-4b5e-95de-feb2c553f152"
      },
      "execution_count": 83,
      "outputs": [
        {
          "output_type": "stream",
          "name": "stdout",
          "text": [
            "3\n"
          ]
        }
      ]
    }
  ]
}