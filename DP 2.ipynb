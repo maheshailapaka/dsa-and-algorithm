{
 "cells": [
  {
   "cell_type": "code",
   "execution_count": 2,
   "id": "29a462f0",
   "metadata": {},
   "outputs": [
    {
     "name": "stdout",
     "output_type": "stream",
     "text": [
      "2 : 1   0   1   0   1   0   1   0   1   0   1   0   1   0   1   0   \n",
      "3 : 1   0   0   1   0   0   1   0   0   1   0   0   1   0   0   1   \n",
      "4 : 1   0   0   0   1   0   0   0   1   0   0   0   1   0   0   0   \n",
      "5 : 1   0   0   0   0   1   0   0   0   0   1   0   0   0   0   1   \n",
      "Yes, it's possible to make 15 with the given coins.\n"
     ]
    }
   ],
   "source": [
    "coins = [2,3,4,5]\n",
    "target = 15\n",
    "mat = [[0] * (target + 1) for _ in range(len(coins))]\n",
    "\n",
    "for i in range(len(coins)):\n",
    "    for j in range(target + 1):\n",
    "        if j == 0:\n",
    "            mat[i][j] = 1\n",
    "        elif coins[i] <= j:\n",
    "            if j % coins[i] == 0:\n",
    "                mat[i][j] = 1\n",
    "\n",
    "for i in range(len(mat)):\n",
    "    print(coins[i], end=\" : \")\n",
    "    for j in range(len(mat[i])):\n",
    "        print(mat[i][j], end=\"   \")\n",
    "    print()\n",
    "\n",
    "if mat[len(coins) - 1][target]:\n",
    "    print(f\"Yes, it's possible to make {target} with the given coins.\")\n",
    "else:\n",
    "    print(f\"No, it's not possible to make {target} with the given coins.\")\n"
   ]
  },
  {
   "cell_type": "code",
   "execution_count": 25,
   "id": "f92e0c3e",
   "metadata": {},
   "outputs": [
    {
     "name": "stdout",
     "output_type": "stream",
     "text": [
      "2 [1, 0, 1, 0, 0, 0, 0, 0, 0, 0, 0, 0, 0, 0]\n",
      "3 [1, 0, 1, 1, 0, 1, 0, 0, 0, 0, 0, 0, 0, 0]\n",
      "4 [1, 0, 1, 1, 1, 1, 1, 1, 0, 1, 0, 0, 0, 0]\n",
      "5 [1, 0, 1, 1, 1, 1, 1, 1, 1, 1, 1, 1, 1, 0]\n"
     ]
    }
   ],
   "source": [
    "a = [2,3,4,5]\n",
    "amt = 13\n",
    "dp = [[0]*(amt+1) for _ in range(len(a))]\n",
    "k = 0\n",
    "for i in range(len(a)):\n",
    "    dp[i][0]=1\n",
    "    \n",
    "dp[0][a[0]]=1\n",
    "for i in range(1,len(a)):\n",
    "    for j in range(1,amt+1):\n",
    "        if(j<a[i]):\n",
    "            dp[i][j]= dp[i-1][j]\n",
    "        else:\n",
    "            if dp[i-1][j]==1:\n",
    "                dp[i][j] = dp[i-1][j]\n",
    "            else:\n",
    "                if dp[i-1][j-a[i]]==1:\n",
    "                    dp[i][j] = dp[i-1][j-a[i]]\n",
    "for dpp in dp:\n",
    "    print(a[k],dpp)\n",
    "    k+=1"
   ]
  },
  {
   "cell_type": "code",
   "execution_count": 55,
   "id": "8754002a",
   "metadata": {},
   "outputs": [
    {
     "name": "stdout",
     "output_type": "stream",
     "text": [
      "2 : [1, 0, 1, 0, 0, 0, 0, 0, 0, 0, 0, 0, 0, 0]\n",
      "3 : [1, 0, 1, 1, 0, 1, 0, 0, 0, 0, 0, 0, 0, 0]\n",
      "4 : [1, 0, 1, 1, 1, 1, 1, 1, 0, 1, 0, 0, 0, 0]\n",
      "5 : [1, 0, 1, 1, 1, 1, 1, 1, 1, 1, 1, 1, 1, 0]\n"
     ]
    }
   ],
   "source": [
    "coin = [2,3,4,5]\n",
    "amt = 13\n",
    "dp = [[0]*(amt+1) for _ in range(len(coin))]\n",
    "k = 0\n",
    "for i in range(len(coin)):\n",
    "    dp[i][0]=1\n",
    "for i in range(0,len(coin)):\n",
    "    for j in range(1,amt+1):\n",
    "        if j<coin[i]:\n",
    "            dp[i][j]=dp[i-1][j]\n",
    "        else:\n",
    "            if dp[i-1][j]==1:\n",
    "                dp[i][j] = dp[i-1][j]\n",
    "            else:\n",
    "                if dp[i-1][j-coin[i]]==1:\n",
    "                    dp[i][j]=1\n",
    "            \n",
    "                               \n",
    "\n",
    "\n",
    "for x in dp:\n",
    "    print(coin[k],\":\",x)\n",
    "    k+=1\n",
    "    "
   ]
  },
  {
   "cell_type": "code",
   "execution_count": 90,
   "id": "9d225ca7",
   "metadata": {},
   "outputs": [
    {
     "name": "stdout",
     "output_type": "stream",
     "text": [
      "2 : [0, 0, 1, 0, 0, 0, 0, 0, 0, 0, 0, 0, 0, 0]\n",
      "3 : [0, 0, 1, 1, 0, 2, 0, 0, 0, 0, 0, 0, 0, 0]\n",
      "4 : [0, 0, 1, 1, 1, 2, 2, 2, 0, 3, 0, 0, 0, 0]\n",
      "5 : [0, 0, 1, 1, 1, 1, 2, 2, 2, 3, 3, 3, 3, 0]\n"
     ]
    }
   ],
   "source": [
    "coin = [2,3,4,5]\n",
    "amt = 13\n",
    "dp = [[0]*(amt+1) for _ in range(len(coin))]\n",
    "k = 0\n",
    "for i in range(len(coin)):\n",
    "    dp[i][0]=0\n",
    "for i in range(0,len(coin)):\n",
    "    for j in range(1,amt+1):\n",
    "        if j == a[i]:\n",
    "            dp[i][j]=1\n",
    "        elif dp[i-1][j]>0:\n",
    "            dp[i][j]=dp[i-1][j]\n",
    "        else:\n",
    "            if dp[i-1][j-coins[i]]!=0:\n",
    "                dp[i][j]= dp[i-1][j-coins[i]]+1\n",
    "\n",
    "for x in dp:\n",
    "    print(coin[k],\":\",x)\n",
    "    k+=1\n",
    "    "
   ]
  },
  {
   "cell_type": "code",
   "execution_count": 91,
   "id": "ae09f13d",
   "metadata": {},
   "outputs": [
    {
     "name": "stdout",
     "output_type": "stream",
     "text": [
      "2 : [0, 0, 1, 0, 0, 0, 0, 0, 0, 0, 0, 0, 0, 0]\n",
      "3 : [0, 0, 1, 1, 0, 2, 0, 0, 0, 0, 0, 0, 0, 0]\n",
      "4 : [0, 0, 1, 1, 1, 2, 2, 2, 0, 3, 0, 0, 0, 0]\n",
      "5 : [0, 0, 1, 1, 1, 1, 2, 2, 2, 3, 3, 3, 3, 0]\n"
     ]
    }
   ],
   "source": [
    "coin = [2,3,4,5]\n",
    "amt = 13\n",
    "dp = [[0]*(amt+1) for _ in range(len(coin))]\n",
    "k = 0\n",
    "for i in range(len(coin)):\n",
    "    dp[i][0]=0\n",
    "for i in range(0,len(coin)):\n",
    "    for j in range(1,amt+1):\n",
    "        if j == a[i]:\n",
    "            dp[i][j]=1\n",
    "        elif dp[i-1][j]>0:\n",
    "            dp[i][j]=dp[i-1][j]\n",
    "        else:\n",
    "            if dp[i-1][j-coins[i]]!=0:\n",
    "                dp[i][j]= dp[i-1][j-coins[i]]+1\n",
    "\n",
    "for x in dp:\n",
    "    print(coin[k],\":\",x)\n",
    "    k+=1\n",
    "    "
   ]
  },
  {
   "cell_type": "code",
   "execution_count": 117,
   "id": "087d9b44",
   "metadata": {},
   "outputs": [
    {
     "name": "stdout",
     "output_type": "stream",
     "text": [
      "2 : [0, 1, 1, 2, 2, 3, 3, 4, 4, 5, 5, 6, 6, 7]\n",
      "3 : [0, 1, 1, 1, 2, 2, 2, 3, 3, 3, 4, 4, 4, 5]\n",
      "4 : [0, 1, 1, 1, 1, 2, 2, 2, 2, 3, 3, 3, 3, 4]\n",
      "5 : [0, 1, 1, 1, 1, 1, 2, 2, 2, 2, 2, 3, 3, 3]\n"
     ]
    }
   ],
   "source": [
    "coin = [2,3,4,5]\n",
    "amt = 13\n",
    "dp = [[0]*(amt+1) for _ in range(len(coin))]\n",
    "k = 0\n",
    "for i in range(len(coin)):\n",
    "    for j in range(1,amt+1):\n",
    "        if j==coin[i]:\n",
    "            dp[i][j]=1\n",
    "        else:\n",
    "            dp[i][j] = dp[i][j-coin[i]]+1\n",
    "            \n",
    "for x in dp:\n",
    "    print(coin[k],\":\",x)\n",
    "    k+=1\n",
    "    "
   ]
  },
  {
   "cell_type": "code",
   "execution_count": 118,
   "id": "ea56dc81",
   "metadata": {},
   "outputs": [
    {
     "name": "stdout",
     "output_type": "stream",
     "text": [
      "[0, 13, 1, 1, 1, 1, 2, 2, 2, 2, 2, 3, 3]\n",
      "3\n"
     ]
    }
   ],
   "source": [
    "coins = [2,3,4,5]\n",
    "amt = 12\n",
    "m= amt + 1\n",
    "dp = [m] * (amt + 1)\n",
    "dp[0] = 0\n",
    "for i in coins:\n",
    "    for j in range(i, amt + 1):\n",
    "        dp[j] = min(dp[j], dp[j- i] + 1)\n",
    "print(dp)\n",
    "print(dp[-1])"
   ]
  },
  {
   "cell_type": "code",
   "execution_count": 142,
   "id": "f5a7e0ae",
   "metadata": {},
   "outputs": [
    {
     "name": "stdout",
     "output_type": "stream",
     "text": [
      "[[1, 1, 1, 2, 3, 4], [1, 1, 1, 2, 3, 4], [1, 1, 1, 2, 3, 4], [1, 1, 1, 2, 3, 4], [1, 1, 1, 2, 3, 4], [1, 1, 1, 2, 3, 4]]\n"
     ]
    }
   ],
   "source": [
    "s1 = ['a','b','a','b','d','a']\n",
    "s2 = ['a','a','c','b','d','a']\n",
    "dp = [[0] *len(s1)] *len(s2)\n",
    "for i in range(len(s1)):\n",
    "    for j in range(i,len(s2)):\n",
    "        if s1[i]==s2[i]:\n",
    "            dp[i][j]+=1\n",
    "print(dp)"
   ]
  }
 ],
 "metadata": {
  "kernelspec": {
   "display_name": "Python 3",
   "language": "python",
   "name": "python3"
  },
  "language_info": {
   "codemirror_mode": {
    "name": "ipython",
    "version": 3
   },
   "file_extension": ".py",
   "mimetype": "text/x-python",
   "name": "python",
   "nbconvert_exporter": "python",
   "pygments_lexer": "ipython3",
   "version": "3.8.10"
  }
 },
 "nbformat": 4,
 "nbformat_minor": 5
}
