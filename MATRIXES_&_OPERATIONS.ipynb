{
  "nbformat": 4,
  "nbformat_minor": 0,
  "metadata": {
    "colab": {
      "provenance": [],
      "authorship_tag": "ABX9TyM1XK8VsnGQYlKcCcUoi3A7",
      "include_colab_link": true
    },
    "kernelspec": {
      "name": "python3",
      "display_name": "Python 3"
    },
    "language_info": {
      "name": "python"
    }
  },
  "cells": [
    {
      "cell_type": "markdown",
      "metadata": {
        "id": "view-in-github",
        "colab_type": "text"
      },
      "source": [
        "<a href=\"https://colab.research.google.com/github/jayanthbottu/TRAINING/blob/main/MATRIXES_%26_OPERATIONS.ipynb\" target=\"_parent\"><img src=\"https://colab.research.google.com/assets/colab-badge.svg\" alt=\"Open In Colab\"/></a>"
      ]
    },
    {
      "cell_type": "markdown",
      "source": [
        "**SEARCH FOR A NUMBER IN GIVEN MATRIX**"
      ],
      "metadata": {
        "id": "0imuSttu9fIr"
      }
    },
    {
      "cell_type": "code",
      "execution_count": null,
      "metadata": {
        "colab": {
          "base_uri": "https://localhost:8080/"
        },
        "id": "iQbvc9Hl9bxD",
        "outputId": "f8b5a8eb-361f-4570-9241-6bab83f6b436"
      },
      "outputs": [
        {
          "output_type": "stream",
          "name": "stdout",
          "text": [
            "[1, 3] [2, 1] "
          ]
        }
      ],
      "source": [
        "m = [[1,2,3,12],\n",
        "     [4,5,6,11],\n",
        "     [7,11,9,10]]\n",
        "k = 11 #Number to find\n",
        "for i in range(len(m)):\n",
        "  for j in range(len(m[i])):\n",
        "    if m[i][j]==k:\n",
        "      print([i,j],end=' ')"
      ]
    },
    {
      "cell_type": "markdown",
      "source": [
        "**ELEMENT PRESENT OR NOT IN NON JUMPING SORTED MATRIX**"
      ],
      "metadata": {
        "id": "Qs6HCYNFGgRO"
      }
    },
    {
      "cell_type": "code",
      "source": [
        "def binary(a,k):\n",
        "  if a[-1]>=k:\n",
        "    return True\n",
        "m = [[1,2,3],\n",
        "     [4,5,6],\n",
        "     [7,8,9]]\n",
        "k = 7\n",
        "for i in range(len(m)):\n",
        "  if(binary(m[i],k)):\n",
        "    print(\"Element in Row :\",i)\n",
        "    break\n",
        "else:\n",
        "  \"Element dont exist\""
      ],
      "metadata": {
        "colab": {
          "base_uri": "https://localhost:8080/"
        },
        "id": "bKVqIUomCaaL",
        "outputId": "0d8a91d5-0787-49bd-94a8-9c647da347a7"
      },
      "execution_count": null,
      "outputs": [
        {
          "output_type": "stream",
          "name": "stdout",
          "text": [
            "Element in Row : 2\n"
          ]
        }
      ]
    },
    {
      "cell_type": "code",
      "source": [
        "def binary_search(a, k):\n",
        "  l = 0\n",
        "  r = len(a) - 1\n",
        "  while l <= r:\n",
        "    m = (l + r) // 2\n",
        "    if a[m] == k:\n",
        "      return True\n",
        "    elif a[m] < k:\n",
        "      l = m + 1\n",
        "    else:\n",
        "      r = m - 1\n",
        "  return False\n",
        "matrix = [[1, 2, 3],\n",
        "          [4, 5, 6],\n",
        "          [7, 8, 9]]\n",
        "k = 7\n",
        "found = False\n",
        "for row in matrix:\n",
        "  if row[0] <= k <= row[-1]:\n",
        "    if binary_search(row, k):\n",
        "      found = True\n",
        "      break\n",
        "if found:\n",
        "  print(\"Found\")\n",
        "else:\n",
        "  print(\"Not Found\")"
      ],
      "metadata": {
        "colab": {
          "base_uri": "https://localhost:8080/"
        },
        "id": "foX2HX2TG07n",
        "outputId": "320c928b-7151-45aa-bea0-74cc46821817"
      },
      "execution_count": null,
      "outputs": [
        {
          "output_type": "stream",
          "name": "stdout",
          "text": [
            "Found\n"
          ]
        }
      ]
    },
    {
      "cell_type": "markdown",
      "source": [
        "**SEARCHING ELEMENT IN MATRIX USING BINARY SEARCH (ZERO TO N)**"
      ],
      "metadata": {
        "id": "1RaQg7oqOCjw"
      }
    },
    {
      "cell_type": "code",
      "source": [
        "mat = [\n",
        "      [1,2,5,7,8],\n",
        "      [9,10,15,20,22],\n",
        "      [23,26,35,36,37]]\n",
        "k = 37\n",
        "size = len(mat[0])\n",
        "l = 0\n",
        "r = (len(mat)*size) - 1\n",
        "while(l<=r):\n",
        "  m = (l+r)//2\n",
        "  if mat[m//size][m%size]==k:\n",
        "    print(f\"Found at [{m//size},{m%size}]\")\n",
        "    break\n",
        "  elif mat[m//size][m%size]<k:\n",
        "    l = m+1\n",
        "  else:\n",
        "    r = m-1\n",
        "else:\n",
        "  print(\"Not Found\")"
      ],
      "metadata": {
        "colab": {
          "base_uri": "https://localhost:8080/"
        },
        "id": "SfLd3uFvKXUo",
        "outputId": "0d94c52c-9235-419f-c43f-5417d2563bf0"
      },
      "execution_count": null,
      "outputs": [
        {
          "output_type": "stream",
          "name": "stdout",
          "text": [
            "Found at [2,4]\n"
          ]
        }
      ]
    },
    {
      "cell_type": "markdown",
      "source": [
        "**Capacity To Ship Packages Within D Days**"
      ],
      "metadata": {
        "id": "yrV56H3UYC1D"
      }
    },
    {
      "cell_type": "code",
      "source": [
        "# Check if Shipping Possible with given Capacity\n",
        "def check(c,cap):\n",
        "  if cap < max(c):\n",
        "    return \"Not Possible\"\n",
        "  return \"Possible\"\n",
        "c= [1,2,3,4,5,6,7,8,9,10]\n",
        "cap = 12\n",
        "print(check(c,cap))"
      ],
      "metadata": {
        "colab": {
          "base_uri": "https://localhost:8080/"
        },
        "id": "5pom6AF1W6bQ",
        "outputId": "74f8e966-29c7-4dcc-d687-3e65e4e8e9e1"
      },
      "execution_count": null,
      "outputs": [
        {
          "output_type": "stream",
          "name": "stdout",
          "text": [
            "Possible\n"
          ]
        }
      ]
    },
    {
      "cell_type": "code",
      "source": [
        "def checkdays(c, current_cap):\n",
        "    days = 1\n",
        "    current_load = 0\n",
        "    for ci in c:\n",
        "        if current_load + ci <= current_cap:\n",
        "            current_load += ci\n",
        "        else:\n",
        "            days += 1\n",
        "            current_load = ci\n",
        "    return days\n",
        "\n",
        "c = [1, 2, 3, 4, 5, 6, 7, 8, 9, 10]\n",
        "load_capacity = 12\n",
        "days_needed = checkdays(c, load_capacity)\n",
        "print(f\"With a load capacity of {load_capacity}, it will take {days_needed} days.\")"
      ],
      "metadata": {
        "colab": {
          "base_uri": "https://localhost:8080/"
        },
        "id": "BGED2uqcYKTH",
        "outputId": "f13225b3-dce8-4f08-99b4-92b3da1696ee"
      },
      "execution_count": null,
      "outputs": [
        {
          "output_type": "stream",
          "name": "stdout",
          "text": [
            "With a load capacity of 12, it will take 6 days.\n"
          ]
        }
      ]
    },
    {
      "cell_type": "code",
      "source": [
        "def shipping(weights,D):\n",
        "        def feasible(capacity) -> bool:\n",
        "            days = 1\n",
        "            total = 0\n",
        "            for weight in weights:\n",
        "                total += weight\n",
        "                if total > capacity:\n",
        "                    total = weight\n",
        "                    days += 1\n",
        "                    if days > D:\n",
        "                        return False\n",
        "            return True\n",
        "\n",
        "        left, right = max(weights), sum(weights)\n",
        "        while left < right:\n",
        "            mid = left + (right - left) // 2\n",
        "            if feasible(mid):\n",
        "                right = mid\n",
        "            else:\n",
        "                left = mid + 1\n",
        "        return left\n",
        "c = [1, 2, 3, 4, 5, 6, 7, 8, 9, 10]\n",
        "D = 5\n",
        "print(f\"Capacity Load Reguired is {shipping(c,D)}\")"
      ],
      "metadata": {
        "colab": {
          "base_uri": "https://localhost:8080/"
        },
        "id": "h43zGXh1bBYv",
        "outputId": "75c4e643-de73-469f-9a0f-6a27642e694b"
      },
      "execution_count": null,
      "outputs": [
        {
          "output_type": "stream",
          "name": "stdout",
          "text": [
            "Capacity Load Reguired is 15\n"
          ]
        }
      ]
    },
    {
      "cell_type": "code",
      "source": [
        "mat = [\n",
        "      [2,4,6,8],\n",
        "      [5,7,9,10],\n",
        "      [8,12,13,15],\n",
        "      [20,23,26,28],\n",
        "      [30,36,40,45]]\n",
        "k = 36\n",
        "size = len(mat[0])\n",
        "l = 0\n",
        "r = (len(mat)*size) - 1\n",
        "while(l<=r):\n",
        "  m = (l+r)//2\n",
        "  if mat[m//size][m%size]==k:\n",
        "    print(f\"Found at [{m//size},{m%size}]\")\n",
        "    break\n",
        "  elif mat[m//size][m%size]<k:\n",
        "    l = m+1\n",
        "  else:\n",
        "    r = m-1\n",
        "else:\n",
        "  print(\"Not Found\")"
      ],
      "metadata": {
        "colab": {
          "base_uri": "https://localhost:8080/"
        },
        "id": "BnTQXrUHpPCD",
        "outputId": "67600682-c579-43d0-cff4-f6fab4087869"
      },
      "execution_count": null,
      "outputs": [
        {
          "output_type": "stream",
          "name": "stdout",
          "text": [
            "Found at [4,1]\n"
          ]
        }
      ]
    },
    {
      "cell_type": "code",
      "source": [
        "nums = [2,7,11,15]\n",
        "k = 22\n",
        "for i in range(len(nums)):\n",
        "  for j in range(len(nums)-1,i-1,-1):\n",
        "    if nums[i]+nums[j]==k:\n",
        "      print(\"True\",f\"[{i},{j}]\")\n",
        "      if j<i:\n",
        "        break"
      ],
      "metadata": {
        "colab": {
          "base_uri": "https://localhost:8080/"
        },
        "id": "4twmX992sXxT",
        "outputId": "e07817a0-344c-4b0c-dc6a-c41eca5b3a91"
      },
      "execution_count": null,
      "outputs": [
        {
          "output_type": "stream",
          "name": "stdout",
          "text": [
            "True [1,3]\n",
            "True [2,2]\n"
          ]
        }
      ]
    },
    {
      "cell_type": "code",
      "source": [
        "from collections import Counter\n",
        "a1 = input(\"first \").split()\n",
        "a1+= input(\"second \").split()\n",
        "counts = Counter(a1)\n",
        "unique_non_duplicate = [item for item, count in counts.items() if count == 1]\n",
        "print(unique_non_duplicate)"
      ],
      "metadata": {
        "colab": {
          "base_uri": "https://localhost:8080/"
        },
        "id": "LM3jjy1mDlI2",
        "outputId": "194495ea-0d0d-431e-cad1-85398e1c4358"
      },
      "execution_count": null,
      "outputs": [
        {
          "output_type": "stream",
          "name": "stdout",
          "text": [
            "first hello hello\n",
            "second hi\n",
            "['hi']\n"
          ]
        }
      ]
    },
    {
      "cell_type": "code",
      "source": [
        "s = \"hello world\"\n",
        "s= s.split()\n",
        "s"
      ],
      "metadata": {
        "id": "r58GoDrwU29K",
        "outputId": "5c41c3b1-f0b4-4a3b-cee0-8fe0b3bfcc6c",
        "colab": {
          "base_uri": "https://localhost:8080/"
        }
      },
      "execution_count": null,
      "outputs": [
        {
          "output_type": "execute_result",
          "data": {
            "text/plain": [
              "['hello', 'world']"
            ]
          },
          "metadata": {},
          "execution_count": 11
        }
      ]
    },
    {
      "cell_type": "markdown",
      "source": [
        "**BOTTOM-LEFT APPROACH FOR ELEMENT SEARCH IN SORTED MATRIX**"
      ],
      "metadata": {
        "id": "FkHVX1AWAasm"
      }
    },
    {
      "cell_type": "code",
      "source": [
        "mat = [\n",
        "    [2, 4, 6, 8],\n",
        "    [5, 7, 9, 10],\n",
        "    [8, 12, 13, 15],\n",
        "    [20, 23, 26, 28],\n",
        "    [30, 36, 40, 45]\n",
        "]\n",
        "k = 36\n",
        "l = 0\n",
        "r = len(mat[0]) - 1\n",
        "while l < len(mat) and r >= 0:\n",
        "    if mat[l][r] == k:\n",
        "        print(f\"Found at [{l},{r}]\")\n",
        "        break\n",
        "    elif mat[l][r] < k:\n",
        "        l += 1  # Move down (larger values)\n",
        "    else:  # mat[l][r] > k\n",
        "        r -= 1  # Move left (smaller values)\n",
        "else:\n",
        "    print(\"Not Found\")"
      ],
      "metadata": {
        "colab": {
          "base_uri": "https://localhost:8080/"
        },
        "id": "y0ZgNZks_HLs",
        "outputId": "413e9196-ab57-4d5b-eed9-2bbe0ce8f597"
      },
      "execution_count": null,
      "outputs": [
        {
          "output_type": "stream",
          "name": "stdout",
          "text": [
            "Found at [4,1]\n"
          ]
        }
      ]
    }
  ]
}