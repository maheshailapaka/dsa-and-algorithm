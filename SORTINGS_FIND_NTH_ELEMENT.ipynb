{
  "nbformat": 4,
  "nbformat_minor": 0,
  "metadata": {
    "colab": {
      "provenance": [],
      "authorship_tag": "ABX9TyPIhpEwET/nVbwJIx/OWn/O",
      "include_colab_link": true
    },
    "kernelspec": {
      "name": "python3",
      "display_name": "Python 3"
    },
    "language_info": {
      "name": "python"
    }
  },
  "cells": [
    {
      "cell_type": "markdown",
      "metadata": {
        "id": "view-in-github",
        "colab_type": "text"
      },
      "source": [
        "<a href=\"https://colab.research.google.com/github/jayanthbottu/TRAINING/blob/main/SORTINGS_FIND_NTH_ELEMENT.ipynb\" target=\"_parent\"><img src=\"https://colab.research.google.com/assets/colab-badge.svg\" alt=\"Open In Colab\"/></a>"
      ]
    },
    {
      "cell_type": "markdown",
      "source": [
        "**MERGE SORTED LISTS INTO ONE SORTED LIST**"
      ],
      "metadata": {
        "id": "4nLfzIXht7RP"
      }
    },
    {
      "cell_type": "code",
      "execution_count": null,
      "metadata": {
        "colab": {
          "base_uri": "https://localhost:8080/"
        },
        "id": "BvhWFcf3tUB0",
        "outputId": "31fbfa5e-ffa3-4b1c-faa4-363e237effec"
      },
      "outputs": [
        {
          "output_type": "stream",
          "name": "stdout",
          "text": [
            "[2, 3, 4, 5, 5, 6, 8, 9, 9, 11, 12, 13]\n"
          ]
        }
      ],
      "source": [
        "l1 = [2, 4, 5, 8, 9]\n",
        "l2 = [3, 5, 6, 9, 11, 12, 13]\n",
        "sl = []\n",
        "i = j = 0\n",
        "while i < len(l1) and j < len(l2):\n",
        "    if l1[i] <= l2[j]:\n",
        "        sl.append(l1[i])\n",
        "        i += 1\n",
        "    else:\n",
        "        sl.append(l2[j])\n",
        "        j += 1\n",
        "while i < len(l1):\n",
        "    sl.append(l1[i])\n",
        "    i += 1\n",
        "while j < len(l2):\n",
        "    sl.append(l2[j])\n",
        "    j += 1\n",
        "print(sl)"
      ]
    },
    {
      "cell_type": "markdown",
      "source": [
        "**MERGE SORT**"
      ],
      "metadata": {
        "id": "AEcKL3947aFO"
      }
    },
    {
      "cell_type": "code",
      "source": [
        "def mergesort(x):\n",
        "    if len(x) > 1:\n",
        "        m = len(x) // 2\n",
        "        l = x[:m]\n",
        "        r = x[m:]\n",
        "        mergesort(l)\n",
        "        mergesort(r)\n",
        "        merged = merge(l, r)\n",
        "        for i in range(len(merged)):\n",
        "            x[i] = merged[i]\n",
        "def merge(l, r):\n",
        "    c = []\n",
        "    i = j = 0\n",
        "    while i < len(l) and j < len(r):\n",
        "        if l[i] < r[j]:\n",
        "            c.append(l[i])\n",
        "            i += 1\n",
        "        else:\n",
        "            c.append(r[j])\n",
        "            j += 1\n",
        "    while i < len(l):\n",
        "        c.append(l[i])\n",
        "        i += 1\n",
        "\n",
        "    while j < len(r):\n",
        "        c.append(r[j])\n",
        "        j += 1\n",
        "    return c\n",
        "\n",
        "x = [8, 2, 5, 4, 9]\n",
        "mergesort(x)\n",
        "print(x)\n"
      ],
      "metadata": {
        "colab": {
          "base_uri": "https://localhost:8080/"
        },
        "id": "OcN8uPAn8ql4",
        "outputId": "12ee5cc9-85ca-468a-f371-1cf2c6afaaf9"
      },
      "execution_count": null,
      "outputs": [
        {
          "output_type": "stream",
          "name": "stdout",
          "text": [
            "[2, 4, 5, 8, 9]\n"
          ]
        }
      ]
    },
    {
      "cell_type": "markdown",
      "source": [
        "**FIND THE 3RD LARGEST ELEMENT FROM THE LIST**"
      ],
      "metadata": {
        "id": "ZlQgAKhuA32w"
      }
    },
    {
      "cell_type": "code",
      "source": [
        "l = [2,13,4,2,9,9,5,8,7,13,3]\n",
        "m2=m1=m3=0\n",
        "for num in l:\n",
        "    if num == m1 or num == m2 or num == m3:\n",
        "        continue\n",
        "    if num > m1:\n",
        "        m3 = m2\n",
        "        m2 = m1\n",
        "        m1 = num\n",
        "    elif num > m2:\n",
        "        m3 = m2\n",
        "        m2 = num\n",
        "    elif num > m3:\n",
        "        m3 = num\n",
        "m3"
      ],
      "metadata": {
        "colab": {
          "base_uri": "https://localhost:8080/"
        },
        "id": "oIh-hAeF-uAj",
        "outputId": "f8a52589-20ee-43e0-f3a5-ff94e3bc1dfd"
      },
      "execution_count": null,
      "outputs": [
        {
          "output_type": "execute_result",
          "data": {
            "text/plain": [
              "8"
            ]
          },
          "metadata": {},
          "execution_count": 42
        }
      ]
    },
    {
      "cell_type": "code",
      "source": [
        "n = [[0] for x in range(5)]\n",
        "n"
      ],
      "metadata": {
        "colab": {
          "base_uri": "https://localhost:8080/"
        },
        "id": "nFyHVx1FB9EW",
        "outputId": "68e103e8-131c-4d6c-ba42-ec186e99301d"
      },
      "execution_count": null,
      "outputs": [
        {
          "output_type": "execute_result",
          "data": {
            "text/plain": [
              "[[0], [0], [0], [0], [0]]"
            ]
          },
          "metadata": {},
          "execution_count": 47
        }
      ]
    },
    {
      "cell_type": "markdown",
      "source": [
        "**FINDING FREQUENCIES TO EACH NUMBER**"
      ],
      "metadata": {
        "id": "RL1L_llXG_ha"
      }
    },
    {
      "cell_type": "code",
      "source": [
        "lst = [2,13,4,2,9,9,5,8,7,13,3]\n",
        "m = max(lst)\n",
        "sor = [0 for i in range(m+1)]\n",
        "for i in range(len(lst)):\n",
        "    sor[lst[i]] +=1\n",
        "sor"
      ],
      "metadata": {
        "colab": {
          "base_uri": "https://localhost:8080/"
        },
        "id": "ROWd1PrUGBYW",
        "outputId": "38bf0274-343f-4427-9497-a7e25626a810"
      },
      "execution_count": null,
      "outputs": [
        {
          "output_type": "execute_result",
          "data": {
            "text/plain": [
              "[0, 0, 2, 1, 1, 1, 0, 1, 1, 2, 0, 0, 0, 2]"
            ]
          },
          "metadata": {},
          "execution_count": 55
        }
      ]
    },
    {
      "cell_type": "markdown",
      "source": [
        "**Kth Largest Element**"
      ],
      "metadata": {
        "id": "jTbSo23AIGKw"
      }
    },
    {
      "cell_type": "code",
      "source": [
        "lst = [2,13,4,2,9,9,5,8,7,13,3]\n",
        "k = 3 #kth largest\n",
        "m = max(lst)\n",
        "sor = [0 for i in range(m+1)]\n",
        "for i in range(len(lst)):\n",
        "    sor[lst[i]] +=1\n",
        "for i in range(len(sor)-1,0,-1):\n",
        "  if sor[i]>0:\n",
        "    k-=1\n",
        "  if k==0:\n",
        "    print(i)\n",
        "    break"
      ],
      "metadata": {
        "colab": {
          "base_uri": "https://localhost:8080/"
        },
        "id": "TnhjJE3gHEX9",
        "outputId": "f3640fe1-66f5-4b04-9bd7-f73064a1fa26"
      },
      "execution_count": null,
      "outputs": [
        {
          "output_type": "stream",
          "name": "stdout",
          "text": [
            "8\n"
          ]
        }
      ]
    },
    {
      "cell_type": "markdown",
      "source": [
        "**PRINTING MAX FREQUENCY ITEM USING DICTIONARY**"
      ],
      "metadata": {
        "id": "CYwJOYwoK9t5"
      }
    },
    {
      "cell_type": "code",
      "source": [
        "lst = [2,13,4,2,9,9,5,2,8,7,13,3]\n",
        "d = {}\n",
        "for i in lst:\n",
        "  if i in d:\n",
        "    d[i]+=1\n",
        "  else:\n",
        "    d[i]=1\n",
        "m= max(d.values())\n",
        "for i in d.items():\n",
        "  if(i[1]==m):\n",
        "    print(i[0])"
      ],
      "metadata": {
        "colab": {
          "base_uri": "https://localhost:8080/"
        },
        "id": "feMqmHgOJglI",
        "outputId": "721e72ef-209a-45e1-d8ea-a476ea7df36c"
      },
      "execution_count": null,
      "outputs": [
        {
          "output_type": "stream",
          "name": "stdout",
          "text": [
            "2\n"
          ]
        }
      ]
    },
    {
      "cell_type": "markdown",
      "source": [
        "**ITEM WITH HIGHEST FREQUENCY**"
      ],
      "metadata": {
        "id": "xDFxzjumNPz8"
      }
    },
    {
      "cell_type": "code",
      "source": [
        "lst = [2,13,4,2,9,9,5,2,8,7,13,3]\n",
        "k=[]\n",
        "d = {}\n",
        "for i in lst:\n",
        "  if i in d:\n",
        "    d[i]+=1\n",
        "  else:\n",
        "    d[i]=1\n",
        "res=m=0\n",
        "for i,j in d.items():\n",
        "  if(j>m):\n",
        "    m=j\n",
        "    res=i\n",
        "print(res)"
      ],
      "metadata": {
        "colab": {
          "base_uri": "https://localhost:8080/"
        },
        "id": "6ZQF8D-7MFg1",
        "outputId": "5ccf71d0-20fe-4113-df1c-6e720bb6ea90"
      },
      "execution_count": null,
      "outputs": [
        {
          "output_type": "stream",
          "name": "stdout",
          "text": [
            "2\n"
          ]
        }
      ]
    },
    {
      "cell_type": "markdown",
      "source": [
        "**FIND THE NUMBER WHOSE FREQUENCY IS MORE THAN HALF LENGTH OF LIST**"
      ],
      "metadata": {
        "id": "5UP2I62TTnMk"
      }
    },
    {
      "cell_type": "code",
      "source": [
        "lst = [2,1,1,2,3,1,1] # Length = 7 Which makes Half=3 (7//2=3)\n",
        "k=[]\n",
        "d = {}\n",
        "for i in lst:\n",
        "  if i in d:\n",
        "    d[i]+=1\n",
        "  else:\n",
        "    d[i]=1\n",
        "print(d)\n",
        "m = len(lst)//2\n",
        "for i,j in d.items():\n",
        "  if j>m:\n",
        "    print(i)"
      ],
      "metadata": {
        "colab": {
          "base_uri": "https://localhost:8080/"
        },
        "id": "Rpp5MOe4Mjar",
        "outputId": "ba142fc9-abb5-480c-9fd1-29cde01df7d0"
      },
      "execution_count": null,
      "outputs": [
        {
          "output_type": "stream",
          "name": "stdout",
          "text": [
            "{2: 2, 1: 4, 3: 1}\n",
            "1\n"
          ]
        }
      ]
    },
    {
      "cell_type": "code",
      "source": [
        "lst = [2,1,1,2,3,1,1]\n",
        "freq =[0 for i in range(max(lst)+1)]\n",
        "for i in lst:\n",
        "  freq[i]+=1\n",
        "freq[(len(lst)//2)]"
      ],
      "metadata": {
        "colab": {
          "base_uri": "https://localhost:8080/"
        },
        "id": "_bMZom2bVLR8",
        "outputId": "b2d5a3e5-0245-4802-d635-4162c788654a"
      },
      "execution_count": null,
      "outputs": [
        {
          "output_type": "execute_result",
          "data": {
            "text/plain": [
              "1"
            ]
          },
          "metadata": {},
          "execution_count": 131
        }
      ]
    },
    {
      "cell_type": "code",
      "source": [
        "lst = [2,1,3,1,3,2,3,1,1,3,3]\n",
        "r=lst[0]\n",
        "for i in range(1,len(lst)):\n",
        "  if(c==0):\n",
        "      r=lst[i]\n",
        "      c=1\n",
        "  if(r==lst[i]):\n",
        "    c+=1\n",
        "  else:\n",
        "    c-=1\n",
        "r\n"
      ],
      "metadata": {
        "colab": {
          "base_uri": "https://localhost:8080/"
        },
        "id": "ivoJhHaJn27n",
        "outputId": "ea23f6cd-79c7-43c3-fee9-7ae37010a451"
      },
      "execution_count": null,
      "outputs": [
        {
          "output_type": "execute_result",
          "data": {
            "text/plain": [
              "3"
            ]
          },
          "metadata": {},
          "execution_count": 139
        }
      ]
    },
    {
      "cell_type": "markdown",
      "source": [
        "**FIND THE LAST OCCURENCE OF K IN ARRAY**"
      ],
      "metadata": {
        "id": "8wDhLroorURW"
      }
    },
    {
      "cell_type": "code",
      "source": [
        "def search(x,k):\n",
        "  m=-1\n",
        "  for i in range(len(x)):\n",
        "    if x[i]==k:\n",
        "      m=i\n",
        "  return m\n",
        "x = [2,4,3,1,4,2,3,4,5]\n",
        "k=4\n",
        "print(search(x,k))"
      ],
      "metadata": {
        "colab": {
          "base_uri": "https://localhost:8080/"
        },
        "id": "cu0T_IhgqySq",
        "outputId": "48836ebb-fafc-4894-c1a0-3ab411080575"
      },
      "execution_count": null,
      "outputs": [
        {
          "output_type": "stream",
          "name": "stdout",
          "text": [
            "7\n"
          ]
        }
      ]
    },
    {
      "cell_type": "code",
      "source": [
        "def search(x,k):\n",
        "  for i in range(len(x)-1,-1,-1):\n",
        "    if x[i]==k:\n",
        "      return i\n",
        "  return -1\n",
        "x = [2,4,3,1,4,2,3,4,5]\n",
        "k=4\n",
        "print(search(x,k))"
      ],
      "metadata": {
        "colab": {
          "base_uri": "https://localhost:8080/"
        },
        "id": "clDVkg0krYzK",
        "outputId": "229f2709-836b-44c1-d116-e6b65843fa78"
      },
      "execution_count": null,
      "outputs": [
        {
          "output_type": "stream",
          "name": "stdout",
          "text": [
            "7\n"
          ]
        }
      ]
    },
    {
      "cell_type": "markdown",
      "source": [
        "**USING BINARY SEARCH, CHECK ELEMENT PRESENT IN THE ARRAY OR NOT**"
      ],
      "metadata": {
        "id": "5H0QUqaAtV5U"
      }
    },
    {
      "cell_type": "code",
      "source": [
        "def binary(x,k):\n",
        "  l = 0\n",
        "  r = len(x)-1\n",
        "  while l<=r:\n",
        "    m = (l+r)//2\n",
        "    if x[m]==k:\n",
        "      return \"Element Found\"\n",
        "    elif x[m]<k:\n",
        "      l=m+1\n",
        "    else:\n",
        "      r=m-1\n",
        "  return \"Element Not Found\"\n",
        "x=[2,2,3,4,5,6,6,7,8,8,9]\n",
        "k=7\n",
        "print(binary(x,k))"
      ],
      "metadata": {
        "colab": {
          "base_uri": "https://localhost:8080/"
        },
        "id": "j0xNo-BSstOF",
        "outputId": "2f7fc8c3-204e-4a76-94a0-5453df0a6ec2"
      },
      "execution_count": null,
      "outputs": [
        {
          "output_type": "stream",
          "name": "stdout",
          "text": [
            "Element Found\n"
          ]
        }
      ]
    },
    {
      "cell_type": "code",
      "source": [
        "def binary(x,k):\n",
        "  l = 0\n",
        "  r = len(x)-1\n",
        "  while l<=r:\n",
        "    m = (l+r)//2\n",
        "    if x[m]==k:\n",
        "      while x[m+1]==k:\n",
        "          m+=1\n",
        "      return f\"Element Found At Index : {m}\"\n",
        "    elif x[m]<k:\n",
        "      l=m+1\n",
        "    else:\n",
        "      r=m-1\n",
        "  return \"Element Not Found\"\n",
        "x=[2,2,3,4,5,6,6,7,7,7,7,7,8,8,9]\n",
        "k=7\n",
        "print(binary(x,k))"
      ],
      "metadata": {
        "colab": {
          "base_uri": "https://localhost:8080/"
        },
        "id": "wf2JqLactihH",
        "outputId": "18c2dbc6-008d-4bbe-9939-60ff56b9a99c"
      },
      "execution_count": null,
      "outputs": [
        {
          "output_type": "stream",
          "name": "stdout",
          "text": [
            "Element Found At Index : 11\n"
          ]
        }
      ]
    },
    {
      "cell_type": "markdown",
      "source": [
        "**INSERT AN ELEMENT TO MAINTAIN LIST SORTED**"
      ],
      "metadata": {
        "id": "b0qD_Vwu251i"
      }
    },
    {
      "cell_type": "code",
      "source": [
        "def place(nums,x):\n",
        "  if nums[0]>x:\n",
        "    nums.insert(0,x)\n",
        "  for i in range(len(nums)):\n",
        "    if nums[i]<x and nums[i+1]>x:\n",
        "      nums.insert(i+1,x)\n",
        "      break\n",
        "  return nums\n",
        "nums = [2,4,6,7,8,10,13,15]\n",
        "x=11\n",
        "print(place(nums,x))"
      ],
      "metadata": {
        "colab": {
          "base_uri": "https://localhost:8080/"
        },
        "id": "IW3xWnJG1FSR",
        "outputId": "6892ae91-6b37-4c7a-ec1e-f3f6f23a25d0"
      },
      "execution_count": null,
      "outputs": [
        {
          "output_type": "stream",
          "name": "stdout",
          "text": [
            "[2, 4, 6, 7, 8, 10, 11, 13, 15]\n"
          ]
        }
      ]
    },
    {
      "cell_type": "code",
      "source": [
        "def binary(nums,k):\n",
        "  if nums[0]>k:\n",
        "    nums.insert(0,k)\n",
        "    return nums\n",
        "  elif nums[len(nums)-1]<=k:\n",
        "    nums.append(k)\n",
        "    return numsH\n",
        "  l = 0\n",
        "  r = len(nums)-1\n",
        "  while l<=r:\n",
        "    m = (l+r)//2\n",
        "    if nums[m]<=k and nums[m+1]>k:\n",
        "      nums.insert(m+1,k)\n",
        "      break\n",
        "    elif nums[m]<k:\n",
        "      l=m+1\n",
        "    else:\n",
        "      r=m-1\n",
        "  return nums\n",
        "nums = [2,4,6,7,8,10,13,15]\n",
        "x=11\n",
        "print(binary(nums,x))"
      ],
      "metadata": {
        "colab": {
          "base_uri": "https://localhost:8080/"
        },
        "id": "X4MTGe5-3goW",
        "outputId": "f72a9450-1b07-4b4d-d72c-84071085f683"
      },
      "execution_count": null,
      "outputs": [
        {
          "output_type": "stream",
          "name": "stdout",
          "text": [
            "[2, 4, 6, 7, 8, 10, 11, 13, 15]\n"
          ]
        }
      ]
    }
  ]
}