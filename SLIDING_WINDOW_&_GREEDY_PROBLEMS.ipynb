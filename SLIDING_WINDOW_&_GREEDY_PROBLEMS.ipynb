{
  "nbformat": 4,
  "nbformat_minor": 0,
  "metadata": {
    "colab": {
      "provenance": [],
      "authorship_tag": "ABX9TyNuAu0kzSejdvlqV2uL0Yv9",
      "include_colab_link": true
    },
    "kernelspec": {
      "name": "python3",
      "display_name": "Python 3"
    },
    "language_info": {
      "name": "python"
    }
  },
  "cells": [
    {
      "cell_type": "markdown",
      "metadata": {
        "id": "view-in-github",
        "colab_type": "text"
      },
      "source": [
        "<a href=\"https://colab.research.google.com/github/jayanthbottu/TRAINING/blob/main/SLIDING_WINDOW_%26_GREEDY_PROBLEMS.ipynb\" target=\"_parent\"><img src=\"https://colab.research.google.com/assets/colab-badge.svg\" alt=\"Open In Colab\"/></a>"
      ]
    },
    {
      "cell_type": "code",
      "execution_count": 146,
      "metadata": {
        "colab": {
          "base_uri": "https://localhost:8080/"
        },
        "id": "4kX7D87SQ1tj",
        "outputId": "438bd7dd-18ba-425c-fc79-0f2598f4780f"
      },
      "outputs": [
        {
          "output_type": "stream",
          "name": "stdout",
          "text": [
            "True\n"
          ]
        }
      ],
      "source": [
        "# Valid Paranthesis\n",
        "def isValid(s):\n",
        "  stk = []\n",
        "  for c in s:\n",
        "    if c=='(' or c=='{' or c=='[':\n",
        "      stk.append(c)\n",
        "    elif c in \"})]\":\n",
        "      if not stk:\n",
        "        return False\n",
        "      if c==')' and stk[-1]=='(':\n",
        "        stk.pop()\n",
        "      elif c=='}' and stk[-1]=='{':\n",
        "        stk.pop()\n",
        "      elif c==']' and stk[-1]=='[':\n",
        "        stk.pop()\n",
        "  return True if not stk else False\n",
        "s = \"()[{}]\"\n",
        "print(isValid(s))"
      ]
    },
    {
      "cell_type": "code",
      "source": [
        "start = [0,3,8,1,5,7,9]\n",
        "end = [5,6,10,2,6,9,11]\n",
        "count = i = 0\n",
        "while(i<len(start)-1):\n",
        "  if end[i]+1<=start[i+1]:\n",
        "    print(start[i],end[i])\n",
        "    count +=1\n",
        "    i+=1\n",
        "  else:\n",
        "    i+=1\n",
        "print(count)"
      ],
      "metadata": {
        "colab": {
          "base_uri": "https://localhost:8080/"
        },
        "id": "t3aCt5vTRVvN",
        "outputId": "12f43ee8-4d66-41c2-c5c7-92abe488da70"
      },
      "execution_count": 2,
      "outputs": [
        {
          "output_type": "stream",
          "name": "stdout",
          "text": [
            "3 6\n",
            "1 2\n",
            "5 6\n",
            "3\n"
          ]
        }
      ]
    },
    {
      "cell_type": "markdown",
      "source": [
        "**MAXIMUM JOBS CAN BE DONE**"
      ],
      "metadata": {
        "id": "DLYqUihDRiWj"
      }
    },
    {
      "cell_type": "code",
      "source": [
        "start = [0,3,8,1,5,7,9]\n",
        "end = [5,7,10,2,6,9,11]\n",
        "for i in range(len(start)):\n",
        "  for j in range(len(start)-i-1):\n",
        "    if end[j]>end[j+1]:\n",
        "      start[j],start[j+1] = start[j+1],start[j]\n",
        "      end[j],end[j+1] = end[j+1],end[j]\n",
        "print(start)\n",
        "print(end)\n",
        "count = i = h = 0\n",
        "while(i<len(start)-1):\n",
        "  if h<start[i]:\n",
        "    count+=1\n",
        "    h = end[i]\n",
        "    i+=1\n",
        "  else:\n",
        "    i+=1\n",
        "print(count)"
      ],
      "metadata": {
        "colab": {
          "base_uri": "https://localhost:8080/"
        },
        "id": "4ojsJXuARa8m",
        "outputId": "cb3f7136-9bc5-46d4-cf4e-388baee5f5e2"
      },
      "execution_count": 3,
      "outputs": [
        {
          "output_type": "stream",
          "name": "stdout",
          "text": [
            "[1, 0, 5, 3, 7, 8, 9]\n",
            "[2, 5, 6, 7, 9, 10, 11]\n",
            "3\n"
          ]
        }
      ]
    },
    {
      "cell_type": "code",
      "source": [
        "def fun(x):\n",
        "  return x[1]\n",
        "start = [0,3,8,1,5,7,9]\n",
        "end = [5,7,10,2,6,9,11]\n",
        "b = list(zip(start,end))\n",
        "b.sort(key=fun)\n",
        "print(b)\n",
        "st = 0\n",
        "c = 0\n",
        "for i in b:\n",
        "  if(i[0]>=st):\n",
        "    c=c+1\n",
        "    st=i[1]+1\n",
        "print(c)"
      ],
      "metadata": {
        "colab": {
          "base_uri": "https://localhost:8080/"
        },
        "id": "31BnXnZQRqM8",
        "outputId": "47ee5c4f-3a2d-4b1c-9395-94b96bdf55df"
      },
      "execution_count": 4,
      "outputs": [
        {
          "output_type": "stream",
          "name": "stdout",
          "text": [
            "[(1, 2), (0, 5), (5, 6), (3, 7), (7, 9), (8, 10), (9, 11)]\n",
            "3\n"
          ]
        }
      ]
    },
    {
      "cell_type": "markdown",
      "source": [
        "**REVERSE STRING WITHOUT CHANGING VOWELS POSITION**"
      ],
      "metadata": {
        "id": "ku3hHoRgRsZe"
      }
    },
    {
      "cell_type": "code",
      "source": [
        "st = 'hippopotamus' # simtopopapuh\n",
        "v = 'aeiouAEIOU'\n",
        "s = []\n",
        "vowels = []\n",
        "for i in range(len(st)):\n",
        "  if st[i] not in v:\n",
        "    s.append(st[i])\n",
        "print(s)\n",
        "s = s[::-1]\n",
        "print(s)\n",
        "for i in range(len(st)):\n",
        "  if st[i] in v:\n",
        "    s.insert(i,st[i])\n",
        "print(s)\n",
        "print(''.join(s))"
      ],
      "metadata": {
        "colab": {
          "base_uri": "https://localhost:8080/"
        },
        "id": "lIJUNfoZRu-m",
        "outputId": "92f558fe-f593-4145-e72d-32f0e2ab56de"
      },
      "execution_count": 5,
      "outputs": [
        {
          "output_type": "stream",
          "name": "stdout",
          "text": [
            "['h', 'p', 'p', 'p', 't', 'm', 's']\n",
            "['s', 'm', 't', 'p', 'p', 'p', 'h']\n",
            "['s', 'i', 'm', 't', 'o', 'p', 'o', 'p', 'a', 'p', 'u', 'h']\n",
            "simtopopapuh\n"
          ]
        }
      ]
    },
    {
      "cell_type": "code",
      "source": [
        "st = 'ELEPHANT' # simtopopapuh\n",
        "v = 'aeiouAEIOU'\n",
        "st = list(st)\n",
        "i,j = 0,len(st)-1\n",
        "while(i<=j):\n",
        "  if st[i] not in v and st[j] not in v:\n",
        "    st[i],st[j] = st[j],st[i]\n",
        "    i+=1\n",
        "    j-=1\n",
        "  elif st[i] in v:\n",
        "    i+=1\n",
        "  else:\n",
        "    j-=1\n",
        "print(st)\n",
        "print(''.join(st))"
      ],
      "metadata": {
        "colab": {
          "base_uri": "https://localhost:8080/"
        },
        "id": "_08orN-qRxsS",
        "outputId": "39bf9710-341b-4c83-c72f-64af1ac86672"
      },
      "execution_count": 6,
      "outputs": [
        {
          "output_type": "stream",
          "name": "stdout",
          "text": [
            "['E', 'T', 'E', 'N', 'H', 'A', 'P', 'L']\n",
            "ETENHAPL\n"
          ]
        }
      ]
    },
    {
      "cell_type": "markdown",
      "source": [
        "**PICK BUY BOOKS SO THAT YOU'LL GET MAXIMUM DISCOUNT SET OF CONTINUOS 5 BOOKS**"
      ],
      "metadata": {
        "id": "Ch4UYMxXR3MG"
      }
    },
    {
      "cell_type": "code",
      "source": [
        "dis = [2,1,6,4,2,3,1,1,4,2,6,7,3]\n",
        "i,m,s = 0, 0, 0\n",
        "while i+4<len(dis):\n",
        "  s = sum(dis[i:i+5])\n",
        "  if s>m:\n",
        "    m = s\n",
        "  i+=1\n",
        "print(\"Maximum Discount :\",m)"
      ],
      "metadata": {
        "colab": {
          "base_uri": "https://localhost:8080/"
        },
        "id": "OofGbs7tR4_H",
        "outputId": "3ac45571-3e4c-407f-f773-5906aa22abfc"
      },
      "execution_count": 7,
      "outputs": [
        {
          "output_type": "stream",
          "name": "stdout",
          "text": [
            "Maximum Discount : 22\n"
          ]
        }
      ]
    },
    {
      "cell_type": "markdown",
      "source": [
        "**LONGEST SUB ARRAY WITH SUM LESS OR EQUAL TO K**"
      ],
      "metadata": {
        "id": "o-boaSqBSKLw"
      }
    },
    {
      "cell_type": "code",
      "source": [
        "distances = [2, 1, 6, 4, 2, 3, 1, 1, 4, 2, 6, 7, 3]\n",
        "max_sum = 7\n",
        "longest_subarray_length = 0\n",
        "window_sum = 0\n",
        "window_start = 0\n",
        "for window_end in range(len(distances)):\n",
        "    window_sum += distances[window_end]\n",
        "    while window_sum > max_sum:\n",
        "        window_sum -= distances[window_start]\n",
        "        window_start += 1\n",
        "    longest_subarray_length = max(longest_subarray_length, window_end - window_start + 1)\n",
        "print(longest_subarray_length)"
      ],
      "metadata": {
        "colab": {
          "base_uri": "https://localhost:8080/"
        },
        "id": "odINzwbLSNHM",
        "outputId": "d6760f1c-6253-466c-effa-0adfc0b11491"
      },
      "execution_count": 8,
      "outputs": [
        {
          "output_type": "stream",
          "name": "stdout",
          "text": [
            "4\n"
          ]
        }
      ]
    },
    {
      "cell_type": "markdown",
      "source": [
        "**LONGEST PALINDROMIC SUB STRING**"
      ],
      "metadata": {
        "id": "gGwuTPh1Sn3i"
      }
    },
    {
      "cell_type": "code",
      "source": [
        "s = \"ababba\"\n",
        "st = list(s)\n",
        "stak = []\n",
        "j = 0\n",
        "for i in range(len(st)):\n",
        "  for j in range(i+1,len(st)):\n",
        "    if st[i:j+1] == st[i:j+1][::-1]:\n",
        "      stak.append(st[i:j+1])\n",
        "      break\n",
        "mx=0\n",
        "string = ''\n",
        "for i in stak:\n",
        "  if len(i)>mx:\n",
        "    mx = len(i)\n",
        "    string = i\n",
        "print(string,\"with length\",mx)"
      ],
      "metadata": {
        "colab": {
          "base_uri": "https://localhost:8080/"
        },
        "id": "HCe2gFa1Srps",
        "outputId": "523c3b17-eebe-4ea5-924a-d121a990501e"
      },
      "execution_count": 67,
      "outputs": [
        {
          "output_type": "stream",
          "name": "stdout",
          "text": [
            "['a', 'b', 'b', 'a'] with length 4\n"
          ]
        }
      ]
    },
    {
      "cell_type": "markdown",
      "source": [
        "**SLIDING WINDOW**"
      ],
      "metadata": {
        "id": "3lzpNCNxhAVQ"
      }
    },
    {
      "cell_type": "code",
      "source": [
        "s = \"ababba\"\n",
        "m=0\n",
        "j =0\n",
        "for i in range(len(s)):\n",
        "  l = i\n",
        "  r = i\n",
        "  while(l>=0 and r<len(s) and s[l]==s[r]):\n",
        "    if r-l+1 > m:\n",
        "      m = r - l +1\n",
        "      j = l\n",
        "    l = l - 1\n",
        "    r = r + 1\n",
        "  l = i\n",
        "  r = i+1\n",
        "  while(l>=0 and r<len(s) and s[l]==s[r]):\n",
        "    if r-l+1 > m:\n",
        "      m = r - l +1\n",
        "      j = l\n",
        "    l = l - 1\n",
        "    r = r + 1\n",
        "print(m)\n",
        "print(s[j:j+m])"
      ],
      "metadata": {
        "colab": {
          "base_uri": "https://localhost:8080/"
        },
        "id": "m_XUSz81fpw1",
        "outputId": "3a6ee0c3-6d44-4caf-c89a-7281cd760a04"
      },
      "execution_count": 133,
      "outputs": [
        {
          "output_type": "stream",
          "name": "stdout",
          "text": [
            "4\n",
            "abba\n"
          ]
        }
      ]
    },
    {
      "cell_type": "code",
      "source": [
        "s = \"ababba\"\n",
        "st = s\n",
        "stak = []\n",
        "j = 0\n",
        "for i in range(len(st)):\n",
        "  for j in range(i,len(st)):\n",
        "    if st[i:j+1] == st[i:j+1][::-1]:\n",
        "      stak.append(st[i:j+1])\n",
        "print(stak)"
      ],
      "metadata": {
        "colab": {
          "base_uri": "https://localhost:8080/"
        },
        "id": "cxo6WKOZijC4",
        "outputId": "e793fd8d-0db2-4c9c-df45-0f8e21d532c5"
      },
      "execution_count": 134,
      "outputs": [
        {
          "output_type": "stream",
          "name": "stdout",
          "text": [
            "['a', 'aba', 'b', 'bab', 'a', 'abba', 'b', 'bb', 'b', 'a']\n"
          ]
        }
      ]
    },
    {
      "cell_type": "markdown",
      "source": [
        "**LENGTH OF LONGEST SUB STRING WITHOUT REPEATING CHARACTER**"
      ],
      "metadata": {
        "id": "ks0MnpHgnoN8"
      }
    },
    {
      "cell_type": "code",
      "source": [
        "s = list(\"abcdaecdb\")\n",
        "m = 0\n",
        "for i in range(len(s)):\n",
        "  for j in range(len(s)):\n",
        "    if len(set(s[i:j+1]))==len(s[i:j+1]):\n",
        "      if len(s[i:j+1])>m:\n",
        "        m = len(s[i:j+1])\n",
        "print(m)"
      ],
      "metadata": {
        "colab": {
          "base_uri": "https://localhost:8080/"
        },
        "id": "PwuPiDv3nuEy",
        "outputId": "67f28873-a732-475c-938f-97189562e92d"
      },
      "execution_count": 177,
      "outputs": [
        {
          "output_type": "stream",
          "name": "stdout",
          "text": [
            "5\n"
          ]
        }
      ]
    }
  ]
}