{
  "cells": [
    {
      "cell_type": "markdown",
      "metadata": {
        "id": "owb7LDsC3dK_"
      },
      "source": [
        "nth finbonacci value"
      ]
    },
    {
      "cell_type": "code",
      "execution_count": 4,
      "metadata": {
        "colab": {
          "base_uri": "https://localhost:8080/"
        },
        "id": "GYBizb8k2ZZI",
        "outputId": "28d08de5-939d-4829-abec-e9847a296055"
      },
      "outputs": [
        {
          "data": {
            "text/plain": [
              "1"
            ]
          },
          "execution_count": 4,
          "metadata": {},
          "output_type": "execute_result"
        }
      ],
      "source": [
        "def fib(n):\n",
        "  if n == 0:\n",
        "    return 0\n",
        "  elif n == 1:\n",
        "    return 1\n",
        "  return fib(n-1)+fib(n-2)\n",
        "fib(2)"
      ]
    },
    {
      "cell_type": "markdown",
      "metadata": {
        "id": "Y7MK-XOcWB3_"
      },
      "source": [
        "JUMPING FROG PROBLEM"
      ]
    },
    {
      "cell_type": "code",
      "execution_count": 1,
      "metadata": {
        "colab": {
          "base_uri": "https://localhost:8080/"
        },
        "id": "bX2yh50yAyGk",
        "outputId": "c1e221bf-9374-42d3-bbfa-32f16b419801"
      },
      "outputs": [
        {
          "name": "stdout",
          "output_type": "stream",
          "text": [
            "20\n"
          ]
        }
      ],
      "source": [
        "def frog(vals, n):\n",
        "    if n == len(vals) - 1:\n",
        "        return 0\n",
        "\n",
        "    cost_1 = abs(vals[n + 1] - vals[n]) + frog(vals, n + 1) if n + 1 < len(vals) else float('inf')\n",
        "    cost_2 = abs(vals[n + 2] - vals[n]) + frog(vals, n + 2) if n + 2 < len(vals) else float('inf')\n",
        "\n",
        "    return min(cost_1, cost_2)\n",
        "\n",
        "vals = [10, 20, 30, 10]\n",
        "print(frog(vals, 0))\n"
      ]
    },
    {
      "cell_type": "code",
      "execution_count": 19,
      "metadata": {
        "colab": {
          "base_uri": "https://localhost:8080/"
        },
        "id": "1OiR5MhuQkzc",
        "outputId": "2c4da971-949f-4fb9-edcf-f6ee3db568bf"
      },
      "outputs": [
        {
          "name": "stdout",
          "output_type": "stream",
          "text": [
            "[20, 10, 10, 20, 10]\n",
            "[20, 30, 40, 60, 70]\n"
          ]
        }
      ],
      "source": [
        "vals = [10, 30, 20, 30,10,20]\n",
        "a = []\n",
        "st = []\n",
        "for i in range(len(vals)-1):\n",
        "  a.append(abs(vals[i]-vals[i+1]))\n",
        "  st.append(st[-1]+a[-1]) if i > 0 else st.append(a[-1])\n",
        "print(a)\n",
        "print(st)"
      ]
    },
    {
      "cell_type": "code",
      "execution_count": 20,
      "metadata": {
        "colab": {
          "base_uri": "https://localhost:8080/"
        },
        "id": "Uz6Pv6QnSmJW",
        "outputId": "c2aaab95-4d28-4485-fae3-d6649ed790e5"
      },
      "outputs": [
        {
          "name": "stdout",
          "output_type": "stream",
          "text": [
            "[0, 10, 20, 20, 20, 30, 40]\n"
          ]
        }
      ],
      "source": [
        "def frog(n):\n",
        "  if n<=1:\n",
        "    return dp[n]\n",
        "  dp[n]=min(frog(n-1)+abs(a[n]-a[n-1]),frog(n-2)+abs(a[n]-a[n-2]))\n",
        "  return dp[n]\n",
        "a=[10,20,30,10,30,20,10]\n",
        "dp=[0,abs(a[1]-a[0]),0,0,0,0,0]\n",
        "frog(6)\n",
        "print(dp)\n"
      ]
    },
    {
      "cell_type": "code",
      "execution_count": 29,
      "metadata": {
        "colab": {
          "base_uri": "https://localhost:8080/"
        },
        "id": "LDdY_jzbVuDQ",
        "outputId": "f226b438-33c6-4f9c-e636-5d20180ece44"
      },
      "outputs": [
        {
          "name": "stdout",
          "output_type": "stream",
          "text": [
            "[0, 10, 20, 20, 20, 30, 40]\n"
          ]
        }
      ],
      "source": [
        "a=[10,20,30,10,30,20,10]\n",
        "dp = [0]*len(a)\n",
        "dp[1] = abs(a[0]-a[1])\n",
        "for i in range(2,len(a)):\n",
        "  dp[i] = min(dp[i-1]+abs(a[i]-a[i-1]),dp[i-2]+abs(a[i]-a[i-2]))\n",
        "print(dp)"
      ]
    },
    {
      "cell_type": "code",
      "execution_count": 35,
      "metadata": {
        "colab": {
          "base_uri": "https://localhost:8080/"
        },
        "id": "huBNIRHEXRFr",
        "outputId": "120140b8-f426-4a51-9724-ce2f0217cb8c"
      },
      "outputs": [
        {
          "name": "stdout",
          "output_type": "stream",
          "text": [
            "40\n"
          ]
        }
      ],
      "source": [
        "a=[10,20,30,10,30,20,10]\n",
        "p1 = 0\n",
        "p2 = abs(a[1]-a[0])\n",
        "for i in range(2,len(a)):\n",
        "  dp = min(p2+abs(a[i]-a[i-1]),p1+abs(a[i]-a[i-2]))\n",
        "  p1 = p2\n",
        "  p2 = dp\n",
        "print(dp)"
      ]
    },
    {
      "cell_type": "code",
      "execution_count": 38,
      "metadata": {
        "colab": {
          "base_uri": "https://localhost:8080/"
        },
        "id": "4GGKIYmbXvGO",
        "outputId": "9f62c0c4-3f1c-4cd2-ff09-bdf054258948"
      },
      "outputs": [
        {
          "name": "stdout",
          "output_type": "stream",
          "text": [
            "0\n"
          ]
        }
      ],
      "source": [
        "def frog(vals, n):\n",
        "    if n == len(vals) - 1:\n",
        "        return 0\n",
        "\n",
        "    cost_1 = abs(vals[n + 1] - vals[n]) + frog(vals, n + 1) if n + 1 < len(vals) else float('inf')\n",
        "    cost_2 = abs(vals[n + 2] - vals[n]) + frog(vals, n + 2) if n + 2 < len(vals) else float('inf')\n",
        "    cost_3 = abs(vals[n + 3] - vals[n]) + frog(vals, n + 3) if n + 3 < len(vals) else float('inf')\n",
        "\n",
        "    return min(cost_1, cost_2,cost_3)\n",
        "\n",
        "vals = [10, 20, 30, 10, 20, 30, 10]\n",
        "print(frog(vals, 0))\n"
      ]
    },
    {
      "cell_type": "code",
      "execution_count": 53,
      "metadata": {
        "colab": {
          "base_uri": "https://localhost:8080/"
        },
        "id": "eeonDlNsZSwf",
        "outputId": "23b997ea-ef34-412e-b9fa-7344915e2e0e"
      },
      "outputs": [
        {
          "name": "stdout",
          "output_type": "stream",
          "text": [
            "[0, 10, 20, 0, 20, 10, 0]\n"
          ]
        }
      ],
      "source": [
        "vals = [10, 20, 30, 10, 30, 20, 10]\n",
        "\n",
        "st = [float('inf')] * len(vals)\n",
        "st[-1]=0\n",
        "\n",
        "for i in range(len(vals)-2,-1,-1):\n",
        "  for k in range(1,4):\n",
        "    if i+k<len(vals):\n",
        "      st[i] = min(st[i], abs(vals[i + k] - vals[i]) + st[i + k])\n",
        "print(st)"
      ]
    },
    {
      "cell_type": "code",
      "execution_count": 74,
      "metadata": {
        "colab": {
          "base_uri": "https://localhost:8080/"
        },
        "id": "OMWpPg5Ib8IL",
        "outputId": "b5876ce1-94cc-45ca-a8c0-4d50d81a4483"
      },
      "outputs": [
        {
          "name": "stdout",
          "output_type": "stream",
          "text": [
            "40\n"
          ]
        }
      ],
      "source": [
        "a=[10,20,30,10,30,20,10]\n",
        "dp = [9999]*len(a)\n",
        "dp[1] = abs(a[0]-a[1])\n",
        "k = 2\n",
        "for i in range(2,len(a)):\n",
        "  for j in range(1,k+1):\n",
        "    tem = dp[i-j]+abs(a[i]-a[i-j])\n",
        "    dp[i] = min(dp[i],tem)\n",
        "print(dp[len(a)-1])"
      ]
    },
    {
      "cell_type": "markdown",
      "metadata": {
        "id": "w_voQQhUAvst"
      },
      "source": [
        "JOB SCHEDULING"
      ]
    },
    {
      "cell_type": "code",
      "execution_count": 104,
      "metadata": {
        "colab": {
          "base_uri": "https://localhost:8080/"
        },
        "id": "wpQxcBqDv4WM",
        "outputId": "1df26ac7-ff98-4e3f-d8a8-be8b94274107"
      },
      "outputs": [
        {
          "name": "stdout",
          "output_type": "stream",
          "text": [
            "[(1, 3), (2, 5), (4, 6), (6, 7), (5, 8), (7, 9)]\n",
            "0\n"
          ]
        }
      ],
      "source": [
        "def schedule(x,time):\n",
        "  if x == len(times):\n",
        "    return time\n",
        "  if times[x][0]>=h[-1][1]:\n",
        "    h.append(times[x])\n",
        "    time+=p[x]\n",
        "  schedule(x+1,time)\n",
        "  return time\n",
        "\n",
        "times = [(1,3),(2,5),(4,6),(6,7), (5,8),(7,9)]\n",
        "p = [5,6,5,4,11,2]\n",
        "h = []\n",
        "h.append(times[0])\n",
        "times.sort(key = lambda x:x[1])\n",
        "print(times)\n",
        "print(schedule(1,0))"
      ]
    },
    {
      "cell_type": "code",
      "execution_count": 118,
      "metadata": {
        "colab": {
          "base_uri": "https://localhost:8080/"
        },
        "id": "czyCyRJb4ptp",
        "outputId": "0c7f2f6a-4f4c-42e6-9ecd-d382037737c9"
      },
      "outputs": [
        {
          "name": "stdout",
          "output_type": "stream",
          "text": [
            "[5, 6, 10, 10, 17, 12]\n",
            "17\n"
          ]
        }
      ],
      "source": [
        "times = [(1,3),(2,5),(4,6),(6,7), (5,8),(7,9)]\n",
        "p = [5,6,5,4,11,2]\n",
        "t = p.copy()\n",
        "m = 0\n",
        "for i in range(1,len(times)):\n",
        "  for j in range(0,i-1):\n",
        "    if times[j][1]<=times[i][0]:\n",
        "      t[i]=max(p[i]+t[j],t[i])\n",
        "  m = max(m,t[i])\n",
        "print(t)\n",
        "print(m)"
      ]
    },
    {
      "cell_type": "markdown",
      "metadata": {
        "id": "RN9xUG-3BHtO"
      },
      "source": [
        "2D DYNAMIC PROGRAMMING"
      ]
    },
    {
      "cell_type": "code",
      "execution_count": 181,
      "metadata": {
        "colab": {
          "base_uri": "https://localhost:8080/"
        },
        "id": "NGgO-qTgNVs5",
        "outputId": "8a0b452e-34b6-4452-a103-6025c277b071"
      },
      "outputs": [
        {
          "name": "stdout",
          "output_type": "stream",
          "text": [
            "2 : 1   0   1   0   1   0   1   0   1   0   1   0   1   0   1   0   \n",
            "3 : 1   0   0   1   0   0   1   0   0   1   0   0   1   0   0   1   \n",
            "4 : 1   0   0   0   1   0   0   0   1   0   0   0   1   0   0   0   \n",
            "5 : 1   0   0   0   0   1   0   0   0   0   1   0   0   0   0   1   \n",
            "Yes, it's possible to make 15 with the given coins.\n"
          ]
        }
      ],
      "source": [
        "coins = [2,3,4,5]\n",
        "target = 15\n",
        "mat = [[0] * (target + 1) for _ in range(len(coins))]\n",
        "\n",
        "for i in range(len(coins)):\n",
        "    for j in range(target + 1):\n",
        "        if j == 0:\n",
        "            mat[i][j] = 1\n",
        "        elif coins[i] <= j:\n",
        "            if j % coins[i] == 0:\n",
        "                mat[i][j] = 1\n",
        "\n",
        "for i in range(len(mat)):\n",
        "    print(coins[i], end=\" : \")\n",
        "    for j in range(len(mat[i])):\n",
        "        print(mat[i][j], end=\"   \")\n",
        "    print()\n",
        "\n",
        "if mat[len(coins) - 1][target]:\n",
        "    print(f\"Yes, it's possible to make {target} with the given coins.\")\n",
        "else:\n",
        "    print(f\"No, it's not possible to make {target} with the given coins.\")\n"
      ]
    }
  ],
  "metadata": {
    "colab": {
      "provenance": []
    },
    "kernelspec": {
      "display_name": "Python 3",
      "name": "python3"
    },
    "language_info": {
      "codemirror_mode": {
        "name": "ipython",
        "version": 3
      },
      "file_extension": ".py",
      "mimetype": "text/x-python",
      "name": "python",
      "nbconvert_exporter": "python",
      "pygments_lexer": "ipython3",
      "version": "3.8.10"
    }
  },
  "nbformat": 4,
  "nbformat_minor": 0
}
