{
  "nbformat": 4,
  "nbformat_minor": 0,
  "metadata": {
    "colab": {
      "provenance": [],
      "authorship_tag": "ABX9TyPY5yvhKMQ64lbJDOZkrCYG",
      "include_colab_link": true
    },
    "kernelspec": {
      "name": "python3",
      "display_name": "Python 3"
    },
    "language_info": {
      "name": "python"
    }
  },
  "cells": [
    {
      "cell_type": "markdown",
      "metadata": {
        "id": "view-in-github",
        "colab_type": "text"
      },
      "source": [
        "<a href=\"https://colab.research.google.com/github/jayanthbottu/TRAINING/blob/main/BINARY_SEARCH_IN_LISTS_%26_OPERATIONS.ipynb\" target=\"_parent\"><img src=\"https://colab.research.google.com/assets/colab-badge.svg\" alt=\"Open In Colab\"/></a>"
      ]
    },
    {
      "cell_type": "code",
      "execution_count": 10,
      "metadata": {
        "colab": {
          "base_uri": "https://localhost:8080/"
        },
        "id": "1NwXAcfc0uSB",
        "outputId": "b57dc3c6-ce58-4216-d0cf-68f330ba455a"
      },
      "outputs": [
        {
          "output_type": "stream",
          "name": "stdout",
          "text": [
            "4\n",
            "3\n"
          ]
        }
      ],
      "source": [
        "import math\n",
        "print(math.ceil(3.5))\n",
        "print(math.floor(3.5))"
      ]
    },
    {
      "cell_type": "markdown",
      "source": [
        "**RETURN THE INDEXES WHERE ROTATION HAPPENS i.e Lower Number After a Higher NUmber**"
      ],
      "metadata": {
        "id": "Wh39JX-h6Fed"
      }
    },
    {
      "cell_type": "code",
      "source": [
        "n = [20,30,2,4,8,15]\n",
        "l = 0\n",
        "r = len(n)-1\n",
        "while(l<r):\n",
        "  m = (l+r)//2\n",
        "  if n[m]>n[m-1]:\n",
        "    print([m-1,m])\n",
        "    break\n",
        "  elif n[m+1]<n[m]:\n",
        "    print([m,m+1])\n",
        "    break\n",
        "  if n[m]>n[l]:\n",
        "    l=m\n",
        "  else:\n",
        "    r = m"
      ],
      "metadata": {
        "colab": {
          "base_uri": "https://localhost:8080/"
        },
        "id": "Qo5Cavxa3w_-",
        "outputId": "09ca1b7d-f66c-4315-89db-9db1e684ab3b"
      },
      "execution_count": 23,
      "outputs": [
        {
          "output_type": "stream",
          "name": "stdout",
          "text": [
            "[0, 1]\n"
          ]
        }
      ]
    },
    {
      "cell_type": "markdown",
      "source": [
        "**FINDING SQUARE ROOT OF A NUMBER**"
      ],
      "metadata": {
        "id": "XJHyjwaY169G"
      }
    },
    {
      "cell_type": "code",
      "source": [
        "n= int(input(\"Enter a Number : \"))\n",
        "sq = 0\n",
        "for i in range(1,n//2):\n",
        "  if i*i <=n:\n",
        "    sq=i\n",
        "  if sq*sq>=n:\n",
        "    break\n",
        "print(sq)"
      ],
      "metadata": {
        "colab": {
          "base_uri": "https://localhost:8080/"
        },
        "id": "QjekE7lS16kd",
        "outputId": "4ad2e73a-e36a-4fce-974f-8b66973ac8b9"
      },
      "execution_count": 31,
      "outputs": [
        {
          "output_type": "stream",
          "name": "stdout",
          "text": [
            "Enter a Number : 12\n",
            "3\n"
          ]
        }
      ]
    },
    {
      "cell_type": "markdown",
      "source": [
        "**FINDING SQUARE ROOT OF A NUMBER Using Binary Search**"
      ],
      "metadata": {
        "id": "R4I3cttY8qHM"
      }
    },
    {
      "cell_type": "code",
      "source": [
        "n = int(input())\n",
        "l =1\n",
        "r=n//2\n",
        "while(l<=r):\n",
        "  m =(l+r)//2\n",
        "  if (m*m)==n:\n",
        "    print(m)\n",
        "    break\n",
        "  if m*m > n:\n",
        "    r = m-1\n",
        "  else:\n",
        "    l = m\n",
        "  if l==r:\n",
        "    print(l)\n",
        "    break\n"
      ],
      "metadata": {
        "colab": {
          "base_uri": "https://localhost:8080/"
        },
        "id": "_ICX2g1T8t03",
        "outputId": "e3139bec-c710-46f7-b1d0-1b4b44ab0b88"
      },
      "execution_count": 43,
      "outputs": [
        {
          "output_type": "stream",
          "name": "stdout",
          "text": [
            "12\n",
            "3\n"
          ]
        }
      ]
    },
    {
      "cell_type": "code",
      "source": [
        "n = [13,17,20,22,1,2,4,5,8]\n",
        "l = 0\n",
        "r = len(n)-1\n",
        "while(l<r):\n",
        "  m = (l+r)//2\n",
        "  if n[m+1]>n[m]<n[m-1]:\n",
        "    print(\"Rotation Happened at\",[m])\n",
        "    print(\"Number of Rotations :\",m)\n",
        "    break\n",
        "  if n[m]>n[l]:\n",
        "    l=m+1\n",
        "  else:\n",
        "    r = m-1"
      ],
      "metadata": {
        "colab": {
          "base_uri": "https://localhost:8080/"
        },
        "id": "2W3GFt4e-Ur7",
        "outputId": "540a7e74-d5d3-4e9e-fee2-328ac7fd5bbf"
      },
      "execution_count": 77,
      "outputs": [
        {
          "output_type": "stream",
          "name": "stdout",
          "text": [
            "Rotation Happened at [4]\n",
            "Number of Rotations : 4\n"
          ]
        }
      ]
    },
    {
      "cell_type": "markdown",
      "source": [
        "**PRINT PEAK ELEMENTS**"
      ],
      "metadata": {
        "id": "THoU2jPLLolw"
      }
    },
    {
      "cell_type": "code",
      "source": [
        "nums = [2,3,4,6,3,2,1,5,8,10,1,4,2]\n",
        "for i in range(1,len(nums)-1):\n",
        "  if(nums[i-1]<=nums[i]>=nums[i+1]):\n",
        "    print(nums[i],end=\" \")"
      ],
      "metadata": {
        "colab": {
          "base_uri": "https://localhost:8080/"
        },
        "id": "cHLv0-OCLrRg",
        "outputId": "3a8261a7-a6b8-4a49-faef-c7e2e0d4a343"
      },
      "execution_count": 75,
      "outputs": [
        {
          "output_type": "stream",
          "name": "stdout",
          "text": [
            "6 10 4 "
          ]
        }
      ]
    },
    {
      "cell_type": "code",
      "source": [
        "n=[2,3,13,4,6,3,2,1,5,8,10,1,4,2]\n",
        "l= 0\n",
        "r= len(n) - 1\n",
        "while l < r:\n",
        "      m = (l + r) // 2\n",
        "      if n[m] > n[m+ 1]:\n",
        "            r = m\n",
        "      else:\n",
        "          l= m+1\n",
        "print(n[l])"
      ],
      "metadata": {
        "colab": {
          "base_uri": "https://localhost:8080/"
        },
        "id": "rWRJhfyPPGLn",
        "outputId": "455fcb58-ff32-411e-9f50-e58e60e8eead"
      },
      "execution_count": 80,
      "outputs": [
        {
          "output_type": "stream",
          "name": "stdout",
          "text": [
            "6\n"
          ]
        }
      ]
    },
    {
      "cell_type": "markdown",
      "source": [
        "**FINDING FIRST ELEMENT IN ROTATED ARRAY**"
      ],
      "metadata": {
        "id": "NW9lzmNWTqu1"
      }
    },
    {
      "cell_type": "code",
      "source": [
        "n=[10,20,30,40,50,60,3,4,5,6]\n",
        "l= 0\n",
        "r= len(n) - 1\n",
        "while l < r:\n",
        "      m = (l + r) // 2\n",
        "      if n[m] > n[r]:\n",
        "            l = m + 1\n",
        "      else:\n",
        "          r = m\n",
        "print(n[l])"
      ],
      "metadata": {
        "colab": {
          "base_uri": "https://localhost:8080/"
        },
        "id": "NYAgJsyLQamf",
        "outputId": "bc50aeb2-304d-4a48-9245-bd40e489557f"
      },
      "execution_count": 81,
      "outputs": [
        {
          "output_type": "stream",
          "name": "stdout",
          "text": [
            "3\n"
          ]
        }
      ]
    },
    {
      "cell_type": "markdown",
      "source": [
        "**PEAK ELEMENTS**"
      ],
      "metadata": {
        "id": "7gsNHLAzgT9H"
      }
    },
    {
      "cell_type": "code",
      "source": [
        "n = [8,2,4,5,13,6,7,10,5,4,2,3]\n",
        "l= 0\n",
        "r= len(n) - 1\n",
        "if n[l]>n[l+1]:\n",
        "        print(n[l])\n",
        "while l < r:\n",
        "      m = (l + r) // 2\n",
        "      if n[m]>n[m-1] and n[m]>n[m+1]:\n",
        "        print(n[m])\n",
        "      if n[m]>n[m-1]:\n",
        "        l = m+1\n",
        "      else:\n",
        "        r = m"
      ],
      "metadata": {
        "colab": {
          "base_uri": "https://localhost:8080/"
        },
        "id": "H98KsLd3VLzG",
        "outputId": "cf756285-3726-46a7-f521-074b5ffbd259"
      },
      "execution_count": 90,
      "outputs": [
        {
          "output_type": "stream",
          "name": "stdout",
          "text": [
            "8\n",
            "13\n"
          ]
        }
      ]
    },
    {
      "cell_type": "code",
      "source": [
        "import math\n",
        "n = [3,6,7,11]\n",
        "n1,k = 8,3\n",
        "if sum(n)<=(n1*k):\n",
        "  print(\"Doable\")\n",
        "else:\n",
        "  print(\"not Possible\")"
      ],
      "metadata": {
        "colab": {
          "base_uri": "https://localhost:8080/"
        },
        "id": "hvBQNcUDete-",
        "outputId": "6737ca61-1a2b-4b32-c454-b5db161e2490"
      },
      "execution_count": 103,
      "outputs": [
        {
          "output_type": "stream",
          "name": "stdout",
          "text": [
            "not Possible\n"
          ]
        }
      ]
    },
    {
      "cell_type": "markdown",
      "source": [
        "**KOKO THE MONKEY**"
      ],
      "metadata": {
        "id": "s-IpnK-HRCCx"
      }
    },
    {
      "cell_type": "code",
      "source": [
        "import math\n",
        "a = [3,6,17,18]\n",
        "h = 8\n",
        "k = 1\n",
        "while(1):\n",
        "  s= 0\n",
        "  for i in a:\n",
        "    s=s+math.ceil(i/k)\n",
        "    if(s>h):\n",
        "      k=k+1\n",
        "      break\n",
        "  else:\n",
        "    print(k)\n",
        "    break"
      ],
      "metadata": {
        "colab": {
          "base_uri": "https://localhost:8080/"
        },
        "id": "ZSxk2H8FfdQW",
        "outputId": "c25a6da2-7260-4d5f-9dd9-0dc86e8c1b8a"
      },
      "execution_count": 108,
      "outputs": [
        {
          "output_type": "stream",
          "name": "stdout",
          "text": [
            "6\n"
          ]
        }
      ]
    },
    {
      "cell_type": "markdown",
      "source": [
        "**AGGRESSIVE COWS**"
      ],
      "metadata": {
        "id": "3cPVwLM4RFNi"
      }
    },
    {
      "cell_type": "code",
      "source": [
        "n= [1, 2, 4, 8, 9]\n",
        "d=2\n",
        "cows=3\n",
        "k=1\n",
        "print(\"Places at\",n[0])\n",
        "for i in range(len(n)-1):\n",
        "  if n[i+1]-n[i]>=d:\n",
        "    print(\"Places at\",n[i+1])\n",
        "    k+=1\n",
        "if k>=cows:\n",
        "  print(\"Possible\")\n",
        "else:\n",
        "  print(\"unpossible\")"
      ],
      "metadata": {
        "colab": {
          "base_uri": "https://localhost:8080/"
        },
        "id": "f75zTu9x4M8T",
        "outputId": "e94000a8-e3c6-4960-d7d7-0e64a6eddcb6"
      },
      "execution_count": 163,
      "outputs": [
        {
          "output_type": "stream",
          "name": "stdout",
          "text": [
            "Places at 1\n",
            "Places at 4\n",
            "Places at 8\n",
            "Possible\n"
          ]
        }
      ]
    }
  ]
}