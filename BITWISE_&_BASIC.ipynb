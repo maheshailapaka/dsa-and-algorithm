{
  "cells": [
    {
      "cell_type": "markdown",
      "metadata": {
        "id": "view-in-github",
        "colab_type": "text"
      },
      "source": [
        "<a href=\"https://colab.research.google.com/github/jayanthbottu/TRAINING/blob/main/BITWISE_%26_BASIC.ipynb\" target=\"_parent\"><img src=\"https://colab.research.google.com/assets/colab-badge.svg\" alt=\"Open In Colab\"/></a>"
      ]
    },
    {
      "cell_type": "markdown",
      "metadata": {
        "id": "9MQXG7r1-wjW"
      },
      "source": [
        "#Even and Odd without Modulo"
      ]
    },
    {
      "cell_type": "code",
      "execution_count": null,
      "metadata": {
        "colab": {
          "base_uri": "https://localhost:8080/"
        },
        "id": "RZUOOrH9-ele",
        "outputId": "2e817f8e-aae2-4e49-c6d5-556f2c5be430"
      },
      "outputs": [
        {
          "name": "stdout",
          "output_type": "stream",
          "text": [
            "Enter a Number : 5\n",
            "Odd\n"
          ]
        }
      ],
      "source": [
        "number = int(input(\"Enter a Number : \"))\n",
        "c = bin(number)\n",
        "strc= str(c)\n",
        "if int(strc[-1])==1:\n",
        "    print(\"Odd\")\n",
        "else:\n",
        "    print(\"Even\")"
      ]
    },
    {
      "cell_type": "markdown",
      "metadata": {
        "id": "JAqUjQKd-2Gy"
      },
      "source": [
        "#Bitwise Operators\n"
      ]
    },
    {
      "cell_type": "code",
      "execution_count": null,
      "metadata": {
        "colab": {
          "base_uri": "https://localhost:8080/"
        },
        "id": "A2kJsvH4-3C8",
        "outputId": "54919089-3e1f-4df2-ae3f-2db19bd53e81"
      },
      "outputs": [
        {
          "name": "stdout",
          "output_type": "stream",
          "text": [
            "Enter a Number : 10\n",
            "Even\n"
          ]
        }
      ],
      "source": [
        "number = int(input(\"Enter a Number : \"))\n",
        "if (number&1)==1:\n",
        "    print(\"Odd\")\n",
        "else:\n",
        "    print(\"Even\")"
      ]
    },
    {
      "cell_type": "code",
      "execution_count": null,
      "metadata": {
        "colab": {
          "base_uri": "https://localhost:8080/"
        },
        "id": "UHL-cP7J_Kv-",
        "outputId": "2a20c618-b724-40b8-efa3-39b5951d9080"
      },
      "outputs": [
        {
          "name": "stdout",
          "output_type": "stream",
          "text": [
            "3\n",
            "5\n",
            "7\n"
          ]
        }
      ],
      "source": [
        "print(2^1)\n",
        "print(4^1)\n",
        "print(6^1)"
      ]
    },
    {
      "cell_type": "code",
      "execution_count": null,
      "metadata": {
        "colab": {
          "base_uri": "https://localhost:8080/"
        },
        "id": "giOflwrq_M3Y",
        "outputId": "7d850acc-6a2b-4592-e5c8-42e2333fdd0c"
      },
      "outputs": [
        {
          "name": "stdout",
          "output_type": "stream",
          "text": [
            "2\n",
            "4\n",
            "6\n"
          ]
        }
      ],
      "source": [
        "print(3^1)\n",
        "print(5^1)\n",
        "print(7^1)"
      ]
    },
    {
      "cell_type": "code",
      "execution_count": null,
      "metadata": {
        "colab": {
          "base_uri": "https://localhost:8080/"
        },
        "id": "hv6bF2Z7_eHw",
        "outputId": "9be7268b-e09d-4e4d-8bd8-c966805561ba"
      },
      "outputs": [
        {
          "name": "stdout",
          "output_type": "stream",
          "text": [
            "Enter a Number : 9\n",
            "Odd\n"
          ]
        }
      ],
      "source": [
        "number= int(input(\"Enter a Number : \"))\n",
        "num = number^1\n",
        "if num>number:\n",
        "  print(\"Even\")\n",
        "else:\n",
        "  print(\"Odd\")"
      ]
    },
    {
      "cell_type": "code",
      "execution_count": null,
      "metadata": {
        "colab": {
          "base_uri": "https://localhost:8080/"
        },
        "id": "tkp9e9jwADpO",
        "outputId": "a6935c87-d538-49a4-bf52-8b544a9974e4"
      },
      "outputs": [
        {
          "name": "stdout",
          "output_type": "stream",
          "text": [
            "1\n",
            "1\n",
            "1\n",
            "1\n"
          ]
        }
      ],
      "source": [
        "print(3^2)\n",
        "print(5^4)\n",
        "print(7^6)\n",
        "print(21^20)"
      ]
    },
    {
      "cell_type": "code",
      "execution_count": null,
      "metadata": {
        "colab": {
          "base_uri": "https://localhost:8080/"
        },
        "id": "_QWo1YFwBB9N",
        "outputId": "a8199d5e-2f73-4816-e9db-52d281fe428f"
      },
      "outputs": [
        {
          "name": "stdout",
          "output_type": "stream",
          "text": [
            "Enter a Number : 15\n",
            "Odd\n"
          ]
        }
      ],
      "source": [
        "number= int(input(\"Enter a Number : \"))\n",
        "if (number^(number-1))==1:\n",
        "  print(\"Odd\")\n",
        "else:\n",
        "  print(\"Even\")"
      ]
    },
    {
      "cell_type": "code",
      "execution_count": null,
      "metadata": {
        "colab": {
          "base_uri": "https://localhost:8080/"
        },
        "id": "R8fTGTEYBZyg",
        "outputId": "a68e93b0-91e8-4bb5-bece-65e793e3933b"
      },
      "outputs": [
        {
          "name": "stdout",
          "output_type": "stream",
          "text": [
            "0\n"
          ]
        }
      ],
      "source": [
        "print(1^2^3^4^5^6^7^8^9^10^11)"
      ]
    },
    {
      "cell_type": "code",
      "execution_count": null,
      "metadata": {
        "colab": {
          "base_uri": "https://localhost:8080/"
        },
        "id": "MYbmEQZ7EBfO",
        "outputId": "8c609d09-ebf2-499e-ddbc-874b3c189a7f"
      },
      "outputs": [
        {
          "name": "stdout",
          "output_type": "stream",
          "text": [
            "Enter a Number : 25\n",
            "1\n"
          ]
        }
      ],
      "source": [
        "number= int(input(\"Enter a Number : \"))\n",
        "if(number%4==1):\n",
        "  print(1)\n",
        "elif(number%4==2):\n",
        "  print(number+1)\n",
        "elif(number%4==3):\n",
        "  print(0)\n",
        "else:\n",
        "  print(number)"
      ]
    },
    {
      "cell_type": "code",
      "execution_count": null,
      "metadata": {
        "colab": {
          "base_uri": "https://localhost:8080/"
        },
        "id": "m20C8cMqF37b",
        "outputId": "188c9687-bb00-459f-e0a3-721f4f1b6ebf"
      },
      "outputs": [
        {
          "name": "stdout",
          "output_type": "stream",
          "text": [
            "Enter a Number : 13\n",
            "1\n"
          ]
        }
      ],
      "source": [
        "number = int(input(\"Enter a Number : \"))\n",
        "print(1 if number % 4 == 1 else (number + 1 if number % 4 == 2 else (0 if number % 4 == 3 else number)))"
      ]
    },
    {
      "cell_type": "code",
      "execution_count": null,
      "metadata": {
        "colab": {
          "base_uri": "https://localhost:8080/"
        },
        "id": "JDBgMJxUCwkL",
        "outputId": "dbba7ddf-6324-470f-c19c-4551c8c20c2e"
      },
      "outputs": [
        {
          "name": "stdout",
          "output_type": "stream",
          "text": [
            "hello\n",
            "hellohellohellohellohello\n"
          ]
        }
      ],
      "source": [
        "print(f\"{input()}\"*5)"
      ]
    },
    {
      "cell_type": "code",
      "execution_count": null,
      "metadata": {
        "colab": {
          "base_uri": "https://localhost:8080/"
        },
        "id": "XCzOFaDSIFp7",
        "outputId": "f924f80e-0ad2-41a1-abdb-8b397a62b204"
      },
      "outputs": [
        {
          "name": "stdout",
          "output_type": "stream",
          "text": [
            "2 \n",
            "7\n",
            "1\n"
          ]
        }
      ],
      "source": [
        "n = int(input())\n",
        "l = int(input())\n",
        "s=0\n",
        "for i in range(n,l+1):\n",
        "  s=s^i\n",
        "print(s)"
      ]
    },
    {
      "cell_type": "code",
      "execution_count": null,
      "metadata": {
        "colab": {
          "base_uri": "https://localhost:8080/"
        },
        "id": "mfxvJmxJJiTJ",
        "outputId": "b01a77f5-e14d-4945-bcbf-8e74c1499508"
      },
      "outputs": [
        {
          "name": "stdout",
          "output_type": "stream",
          "text": [
            "2 9\n",
            "0\n"
          ]
        }
      ],
      "source": [
        "# 5,10 do 5^6^7^8^9^10\n",
        "n,m = map(int,input().split())\n",
        "t = 1 if m%4==1 else(m+1 if m%4==2 else(0 if m%4==3 else m))\n",
        "req = 1 if (n-1)%4==1 else(n-1+1 if (n-1)%4==2 else(0 if (n-1)%4==3 else (n-1)))\n",
        "print(req ^ t)"
      ]
    },
    {
      "cell_type": "markdown",
      "source": [
        "#Check if 2 Powered Number 2 ^ n"
      ],
      "metadata": {
        "id": "cr-a0GGWRxsL"
      }
    },
    {
      "cell_type": "code",
      "execution_count": null,
      "metadata": {
        "colab": {
          "base_uri": "https://localhost:8080/"
        },
        "id": "WCHgD5aTK-1B",
        "outputId": "275af149-54e8-458c-ca74-86314ac817e1"
      },
      "outputs": [
        {
          "output_type": "stream",
          "name": "stdout",
          "text": [
            "32\n",
            "yes\n"
          ]
        }
      ],
      "source": [
        "num = int(input())\n",
        "print(\"yes\" if num&(num) else \"no\")"
      ]
    },
    {
      "cell_type": "code",
      "source": [
        "print(\"Yes\" if bin(int(input())).count('1') == 1 else \"No\")"
      ],
      "metadata": {
        "colab": {
          "base_uri": "https://localhost:8080/"
        },
        "id": "LJ9WiMU_Q97K",
        "outputId": "0367161a-247c-4b6c-e93c-132d0a82ef4c"
      },
      "execution_count": null,
      "outputs": [
        {
          "output_type": "stream",
          "name": "stdout",
          "text": [
            "128\n",
            "Yes\n"
          ]
        }
      ]
    },
    {
      "cell_type": "code",
      "source": [
        "print(1^1)"
      ],
      "metadata": {
        "colab": {
          "base_uri": "https://localhost:8080/"
        },
        "id": "Gj0gasMeVBda",
        "outputId": "c22d5ed3-18d7-4720-bac1-255b64cd613d"
      },
      "execution_count": null,
      "outputs": [
        {
          "output_type": "stream",
          "name": "stdout",
          "text": [
            "0\n"
          ]
        }
      ]
    },
    {
      "cell_type": "code",
      "source": [
        "print(0^2)"
      ],
      "metadata": {
        "colab": {
          "base_uri": "https://localhost:8080/"
        },
        "id": "pmIRfwJhVGkp",
        "outputId": "5db9202c-12bd-4d6a-e2ef-6c0c85359b99"
      },
      "execution_count": null,
      "outputs": [
        {
          "output_type": "stream",
          "name": "stdout",
          "text": [
            "2\n"
          ]
        }
      ]
    },
    {
      "cell_type": "code",
      "source": [
        "print(2^3)"
      ],
      "metadata": {
        "colab": {
          "base_uri": "https://localhost:8080/"
        },
        "id": "mKZLUmMKVJW1",
        "outputId": "69b9d052-4655-4969-d8e4-7756e4d015d1"
      },
      "execution_count": null,
      "outputs": [
        {
          "output_type": "stream",
          "name": "stdout",
          "text": [
            "1\n"
          ]
        }
      ]
    },
    {
      "cell_type": "markdown",
      "source": [
        "Input: encoded = [1,2,3], first = 1\n",
        "Output: [1,0,2,1]\n",
        "Explanation: If arr = [1,0,2,1], then first = 1 and encoded = [1 XOR 0, 0 XOR 2, 2 XOR 1] = [1,2,3]"
      ],
      "metadata": {
        "id": "UreyKpohXOyk"
      }
    },
    {
      "cell_type": "code",
      "source": [
        "def decode(encoded, first):\n",
        "        arr=[first]\n",
        "        for x in range(len(encoded)):\n",
        "            arr.append(first ^ encoded[x])\n",
        "            first = arr[-1]\n",
        "        return arr\n",
        "encoded = list(map(int,input().split()))\n",
        "first = int(input())\n",
        "print(decode(encoded,first))"
      ],
      "metadata": {
        "colab": {
          "base_uri": "https://localhost:8080/"
        },
        "id": "f2ScxkaAWivJ",
        "outputId": "c5790984-0e15-4356-f495-7e6a0259e638"
      },
      "execution_count": null,
      "outputs": [
        {
          "output_type": "stream",
          "name": "stdout",
          "text": [
            "1 2 3\n",
            "1\n",
            "[1, 0, 2, 1]\n"
          ]
        }
      ]
    },
    {
      "cell_type": "code",
      "source": [
        "x = -213\n",
        "n ='-' + str(x)[::-1]\n",
        "num = int(n[:-1])\n",
        "print(type(num))"
      ],
      "metadata": {
        "colab": {
          "base_uri": "https://localhost:8080/"
        },
        "id": "Io8bMwbDcwdm",
        "outputId": "199edaf5-74d0-407d-9b3e-6cb9dfbf28fc"
      },
      "execution_count": null,
      "outputs": [
        {
          "output_type": "stream",
          "name": "stdout",
          "text": [
            "<class 'int'>\n"
          ]
        }
      ]
    },
    {
      "cell_type": "markdown",
      "source": [
        "**Finding the Singular Term**"
      ],
      "metadata": {
        "id": "EG-UB7T6xVPy"
      }
    },
    {
      "cell_type": "code",
      "source": [
        "nums = list(map(int,input().split()))\n",
        "for i in range(0,len(nums),2):\n",
        "  if nums[i]!=nums[i+1]:\n",
        "    print(nums[i])\n",
        "    break"
      ],
      "metadata": {
        "colab": {
          "base_uri": "https://localhost:8080/"
        },
        "id": "csu3RjyNwkNR",
        "outputId": "fd8bef6f-fddd-407d-97f4-1a1d01983a97"
      },
      "execution_count": null,
      "outputs": [
        {
          "output_type": "stream",
          "name": "stdout",
          "text": [
            "2 2 4 4 6 6 7 8 8 9 9\n",
            "7\n"
          ]
        }
      ]
    },
    {
      "cell_type": "markdown",
      "source": [
        "**Finding The Longest Sequence**"
      ],
      "metadata": {
        "id": "4PeVBEAF5kQZ"
      }
    },
    {
      "cell_type": "code",
      "source": [
        "nums = list(map(int,input().split()))\n",
        "max=0\n",
        "c=1\n",
        "for i in range(len(nums)-1):\n",
        "  if nums[i]+1==nums[i+1]:\n",
        "    c+=1\n",
        "  if nums[i]+1!=nums[i+1]:\n",
        "    c=1\n",
        "  if c>max:\n",
        "    max=c\n",
        "print(max)"
      ],
      "metadata": {
        "colab": {
          "base_uri": "https://localhost:8080/"
        },
        "id": "QdxCaVGV4PT4",
        "outputId": "a46ed69d-f38d-4404-cebe-77d5de9e1036"
      },
      "execution_count": null,
      "outputs": [
        {
          "output_type": "stream",
          "name": "stdout",
          "text": [
            "1 2 3 2 3 4 5 6 7 8 9\n",
            "8\n"
          ]
        }
      ]
    },
    {
      "cell_type": "code",
      "source": [
        "       def findLengthOfLCIS(self, nums: List[int]) -> int:\n",
        "        ma=1\n",
        "        c=1\n",
        "        for i in range(1,len(nums)):\n",
        "            if nums[i]>nums[i-1]:\n",
        "                c+=1\n",
        "            else:\n",
        "                c=1\n",
        "            ma=max(c,ma)\n",
        "        return ma"
      ],
      "metadata": {
        "id": "4MERFPseAtZh"
      },
      "execution_count": null,
      "outputs": []
    },
    {
      "cell_type": "code",
      "source": [
        "st = input()\n",
        "c=1\n",
        "for i in range(len(st)-1):\n",
        "  if st[i]==st[i+1]:\n",
        "    c+=1\n",
        "  else:\n",
        "    print(f\"{st[i]}{c}\",end='')\n",
        "    c=1\n",
        "print(f\"{st[i]}{c}\")"
      ],
      "metadata": {
        "colab": {
          "base_uri": "https://localhost:8080/"
        },
        "id": "Ql7LZRWcDNec",
        "outputId": "c39792d2-ce0b-4e25-e2dd-09c3c987cd0c"
      },
      "execution_count": null,
      "outputs": [
        {
          "output_type": "stream",
          "name": "stdout",
          "text": [
            "aaabbbaaabb\n",
            "a3b3a3b2\n"
          ]
        }
      ]
    },
    {
      "cell_type": "code",
      "source": [],
      "metadata": {
        "id": "BRDBbHmbFo1E"
      },
      "execution_count": null,
      "outputs": []
    }
  ],
  "metadata": {
    "colab": {
      "provenance": [],
      "authorship_tag": "ABX9TyP/IckHldLExEmUUuuloZnS",
      "include_colab_link": true
    },
    "kernelspec": {
      "display_name": "Python 3",
      "name": "python3"
    },
    "language_info": {
      "name": "python"
    }
  },
  "nbformat": 4,
  "nbformat_minor": 0
}