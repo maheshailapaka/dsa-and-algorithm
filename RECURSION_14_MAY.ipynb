{
  "nbformat": 4,
  "nbformat_minor": 0,
  "metadata": {
    "colab": {
      "provenance": [],
      "authorship_tag": "ABX9TyMAhgFjDcEtd2yFBp8qrZGA",
      "include_colab_link": true
    },
    "kernelspec": {
      "name": "python3",
      "display_name": "Python 3"
    },
    "language_info": {
      "name": "python"
    }
  },
  "cells": [
    {
      "cell_type": "markdown",
      "metadata": {
        "id": "view-in-github",
        "colab_type": "text"
      },
      "source": [
        "<a href=\"https://colab.research.google.com/github/jayanthbottu/TRAINING/blob/main/RECURSION_14_MAY.ipynb\" target=\"_parent\"><img src=\"https://colab.research.google.com/assets/colab-badge.svg\" alt=\"Open In Colab\"/></a>"
      ]
    },
    {
      "cell_type": "markdown",
      "source": [
        "**EVEN SUM USING RECURSION**"
      ],
      "metadata": {
        "id": "ihnmtOQtas3J"
      }
    },
    {
      "cell_type": "code",
      "source": [
        "def evensum(x,i):\n",
        "  sum = 0\n",
        "  if i>=len(a):\n",
        "    return 0\n",
        "  if a[i]%2==0:\n",
        "    return a[i] + evensum(x,i+1)\n",
        "  else:\n",
        "    return evensum(x,i+1)\n",
        "a = [2,5,6,7,2,1,4,3,6]\n",
        "print(evensum(a,0))"
      ],
      "metadata": {
        "colab": {
          "base_uri": "https://localhost:8080/"
        },
        "id": "hBWgG1yT-bmp",
        "outputId": "7e58e73e-8ddf-429e-95b3-c412c05dfb13"
      },
      "execution_count": null,
      "outputs": [
        {
          "output_type": "stream",
          "name": "stdout",
          "text": [
            "20\n"
          ]
        }
      ]
    },
    {
      "cell_type": "markdown",
      "source": [
        "**REVERSE A NUMBER USING RECURSION**"
      ],
      "metadata": {
        "id": "G4SGrHWefyN7"
      }
    },
    {
      "cell_type": "code",
      "source": [
        "def reverse(x,rev=0):\n",
        "  if x==0:\n",
        "    return rev\n",
        "  return reverse(x//10,rev*10+(x%10))\n",
        "x = 153\n",
        "print(reverse(x))"
      ],
      "metadata": {
        "colab": {
          "base_uri": "https://localhost:8080/"
        },
        "id": "gnTp1hiXebBK",
        "outputId": "fc1e270a-857a-4c46-805d-97fe44ddde55"
      },
      "execution_count": null,
      "outputs": [
        {
          "output_type": "stream",
          "name": "stdout",
          "text": [
            "351\n"
          ]
        }
      ]
    },
    {
      "cell_type": "markdown",
      "source": [
        "**COUNT PRIMES USING RECURSION**"
      ],
      "metadata": {
        "id": "BXwnMCBNi5f_"
      }
    },
    {
      "cell_type": "code",
      "source": [
        "def prime(ls,count=0,i=0,j=2):\n",
        "  if i>=len(ls):\n",
        "    return count\n",
        "  if ls[i]%j==0 and j<ls[i]//2+1:\n",
        "    return prime(ls,count+1,i+1,j=2)\n",
        "  else:\n",
        "    return prime(ls,i+1,count)\n",
        "ls = [13,17,21,23,22,7,29,11,5]\n",
        "print(prime(ls))"
      ],
      "metadata": {
        "colab": {
          "base_uri": "https://localhost:8080/"
        },
        "id": "Mg93615Ci56M",
        "outputId": "868369e5-b556-4e28-b895-11df96bdae13"
      },
      "execution_count": null,
      "outputs": [
        {
          "output_type": "stream",
          "name": "stdout",
          "text": [
            "9\n"
          ]
        }
      ]
    },
    {
      "cell_type": "markdown",
      "source": [
        "**CHECK IF 1 IS POSSIBLE WHILE SUBTRACTING N OR M FROM GIVEN NUMBER**"
      ],
      "metadata": {
        "id": "-UjYti7jB3oc"
      }
    },
    {
      "cell_type": "code",
      "source": [
        "import random\n",
        "def pos(x,m):\n",
        "  flag = False\n",
        "  for i in range(x**2):\n",
        "    s=x\n",
        "    while(s>0):\n",
        "      s = s - random.choice(m)\n",
        "      if s==1:\n",
        "        flag = True\n",
        "  return flag\n",
        "print(pos(4,[3,5]))"
      ],
      "metadata": {
        "colab": {
          "base_uri": "https://localhost:8080/"
        },
        "id": "UR_1GZES-QJ5",
        "outputId": "4523b6d4-18f3-4f55-ead2-630f0f4c197a"
      },
      "execution_count": null,
      "outputs": [
        {
          "output_type": "stream",
          "name": "stdout",
          "text": [
            "True\n"
          ]
        }
      ]
    },
    {
      "cell_type": "code",
      "source": [
        "def checkone(x,n=3,m=5,c=0):\n",
        "  if x==1:\n",
        "    return c\n",
        "  if x<1:\n",
        "    return False\n",
        "  return checkone(x-max(n,m),n,m,c+1) or checkone(x-min(n,m),n,m,c+1)\n",
        "print(checkone(143))"
      ],
      "metadata": {
        "colab": {
          "base_uri": "https://localhost:8080/"
        },
        "id": "QG4LBkWpBLir",
        "outputId": "5d8fcf28-8bd1-4d1f-bf11-cdde4d026ecc"
      },
      "execution_count": null,
      "outputs": [
        {
          "output_type": "stream",
          "name": "stdout",
          "text": [
            "30\n"
          ]
        }
      ]
    }
  ]
}